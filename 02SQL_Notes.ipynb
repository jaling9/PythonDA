{
 "cells": [
  {
   "cell_type": "markdown",
   "metadata": {},
   "source": [
    "## 增"
   ]
  },
  {
   "cell_type": "code",
   "execution_count": null,
   "metadata": {
    "vscode": {
     "languageId": "sql"
    }
   },
   "outputs": [],
   "source": [
    "INSERT INTO 目标表 （目标列，可选，逗号隔开）\n",
    "VALUES (目标值，逗号隔开)"
   ]
  },
  {
   "cell_type": "code",
   "execution_count": null,
   "metadata": {
    "vscode": {
     "languageId": "sql"
    }
   },
   "outputs": [],
   "source": [
    "DELETE FROM 表 \n",
    "WHERE 行筛选条件\n",
    "（当然也可用子查询）\n",
    "（若省略 WHERE 条件语句会删除表中所有记录（和 TRUNCATE 等效？）"
   ]
  },
  {
   "cell_type": "code",
   "execution_count": null,
   "metadata": {
    "vscode": {
     "languageId": "sql"
    }
   },
   "outputs": [],
   "source": [
    "UPDATE 表 \n",
    "SET 要修改的字段 = 具体值/NULL/DEFAULT/列间数学表达式 （修改多个字段用逗号分隔）\n",
    "WHERE 行筛选"
   ]
  },
  {
   "cell_type": "markdown",
   "metadata": {},
   "source": [
    "## 查【重点】"
   ]
  },
  {
   "cell_type": "code",
   "execution_count": null,
   "metadata": {
    "vscode": {
     "languageId": "sql"
    }
   },
   "outputs": [],
   "source": [
    "SELECT DISTINCT */表列名/聚合函数/子查询/视图/存储过程 -- 所有能存储表格类的对象\n",
    "    FROM 表名/子查询/视图/存储过程 -- 所有能存储表格类的对象\n",
    "LEFT/RIGHT/INNER JOIN ON/USING AND -- 加AND表示复合连接条件，比如多层数据\n",
    "WHERE IN/BETWEENT/AND/OR/NOT/LIKE/REGEXP/IS NULL /子查询\n",
    "GROUP BY 条件1，条件2\n",
    "HAVING IN/BETWEENT/AND/OR/NOT/LIKE/REGEXP/IS NULL /子查询\n",
    "ORDER BY 条件1，条件2\n",
    "LIMIT "
   ]
  },
  {
   "cell_type": "markdown",
   "metadata": {},
   "source": [
    "## 表连接"
   ]
  },
  {
   "cell_type": "code",
   "execution_count": null,
   "metadata": {
    "vscode": {
     "languageId": "sql"
    }
   },
   "outputs": [],
   "source": [
    "LEFT/RIGHT/INNER JOIN ON/USING AND -- 加AND表示复合连接条件，比如多层数据"
   ]
  },
  {
   "cell_type": "markdown",
   "metadata": {},
   "source": [
    "## 聚合函数"
   ]
  },
  {
   "cell_type": "code",
   "execution_count": null,
   "metadata": {
    "vscode": {
     "languageId": "sql"
    }
   },
   "outputs": [],
   "source": [
    " MAX(invoice_date) AS latest_date,  \n",
    "    -- SELECT选择的不仅可以是列，也可以是数字、列间表达式、列的聚合函数\n",
    "    MIN(invoice_total) lowest,\n",
    "    AVG(invoice_total) average,\n",
    "    SUM(invoice_total * 1.1) total,\n",
    "    COUNT(*) total_records,\n",
    "    COUNT(invoice_total) number_of_invoices, \n",
    "    -- 和上一个相等\n",
    "    COUNT(payment_date) number_of_payments,  \n",
    "    -- 【聚合函数会忽略空值】，得到的支付数少于发票数\n",
    "    COUNT(DISTINCT client_id) number_of_distinct_clients\n",
    "    -- DISTINCT client_id 筛掉了该列的重复值，再COUNT计数，会得到不同顾客数\n",
    "FROM invoices\n",
    "WHERE invoice_date > '2019-07-01'  -- 想只统计下半年的结果"
   ]
  },
  {
   "cell_type": "markdown",
   "metadata": {},
   "source": [
    "## 删除对象"
   ]
  },
  {
   "cell_type": "code",
   "execution_count": null,
   "metadata": {
    "vscode": {
     "languageId": "sql"
    }
   },
   "outputs": [],
   "source": [
    "DROP VIEW/PROCEDURE/FUNCTION/TRIGGER/EVENT  IF EXISTS clients_balance;\n",
    "-- 若不存在这个对象，直接 DROP 会报错，所以要加上 IF EXISTS 先检测有没有这个对象"
   ]
  },
  {
   "cell_type": "markdown",
   "metadata": {},
   "source": [
    "## 查看对象"
   ]
  },
  {
   "cell_type": "code",
   "execution_count": null,
   "metadata": {
    "vscode": {
     "languageId": "sql"
    }
   },
   "outputs": [],
   "source": [
    "SHOW TRIGGERS/EVENTS\n",
    "SHOW TRIGGERS/EVENTS LIKE 'payments%'"
   ]
  },
  {
   "cell_type": "markdown",
   "metadata": {},
   "source": [
    "## 创建对象"
   ]
  },
  {
   "cell_type": "markdown",
   "metadata": {},
   "source": [
    "### 创建视图"
   ]
  },
  {
   "cell_type": "code",
   "execution_count": null,
   "metadata": {
    "vscode": {
     "languageId": "sql"
    }
   },
   "outputs": [],
   "source": [
    "CREATE VIEW sales_by_client AS\n",
    "    SELECT \n",
    "        client_id,\n",
    "        name,\n",
    "        SUM(invoice_total) AS total_sales\n",
    "    FROM clients c\n",
    "    JOIN invoices i USING(client_id)\n",
    "    GROUP BY client_id, name;\n",
    "    -- 虽然实际上这里加不加上name都一样"
   ]
  },
  {
   "cell_type": "markdown",
   "metadata": {},
   "source": [
    "### 创建存储过程"
   ]
  },
  {
   "cell_type": "code",
   "execution_count": null,
   "metadata": {
    "vscode": {
     "languageId": "sql"
    }
   },
   "outputs": [],
   "source": [
    "DELIMITER $$\n",
    "-- delimiter n. 分隔符\n",
    "\n",
    "    CREATE PROCEDURE 过程名()  \n",
    "        BEGIN\n",
    "            ……;\n",
    "            ……;\n",
    "            ……;\n",
    "        END$$\n",
    "\n",
    "DELIMITER ;"
   ]
  },
  {
   "cell_type": "markdown",
   "metadata": {},
   "source": [
    "### 参数"
   ]
  },
  {
   "cell_type": "code",
   "execution_count": null,
   "metadata": {
    "vscode": {
     "languageId": "sql"
    }
   },
   "outputs": [],
   "source": [
    "CREATE PROCEDURE 过程名\n",
    "(\n",
    "    参数1 数据类型,\n",
    "    参数2 数据类型,\n",
    "    ……\n",
    ")\n",
    "BEGIN\n",
    "……\n",
    "END"
   ]
  },
  {
   "cell_type": "markdown",
   "metadata": {},
   "source": [
    "### 带默认值的参数"
   ]
  },
  {
   "cell_type": "code",
   "execution_count": null,
   "metadata": {
    "vscode": {
     "languageId": "sql"
    }
   },
   "outputs": [],
   "source": [
    "IF 条件表达式 THEN\n",
    "    语句1;\n",
    "    语句2;\n",
    "    ……;\n",
    "[ELSE]（可选）\n",
    "    语句1;\n",
    "    语句2;\n",
    "    ……;\n",
    "END IF;\n",
    "-- 别忘了【END IF】"
   ]
  },
  {
   "cell_type": "markdown",
   "metadata": {},
   "source": [
    "### 参数验证"
   ]
  },
  {
   "cell_type": "code",
   "execution_count": null,
   "metadata": {
    "vscode": {
     "languageId": "sql"
    }
   },
   "outputs": [],
   "source": [
    "IF 错误参数条件表达式 THEN\n",
    "    SIGNAL SQLSTATE '错误类型'\n",
    "        [SET MESSAGE_TEXT = '关于错误的补充信息']（可选）"
   ]
  },
  {
   "cell_type": "markdown",
   "metadata": {},
   "source": [
    "### 声明变量"
   ]
  },
  {
   "cell_type": "code",
   "execution_count": null,
   "metadata": {
    "vscode": {
     "languageId": "sql"
    }
   },
   "outputs": [],
   "source": [
    "CREATE DEFINER=`root`@`localhost` PROCEDURE `get_risk_factor`()\n",
    "BEGIN\n",
    "    -- 声明三个本地变量，可设默认值\n",
    "    DECLARE risk_factor DECIMAL(9, 2) DEFAULT 0;\n",
    "    DECLARE invoices_total DECIMAL(9, 2);\n",
    "    DECLARE invoices_count INT;\n",
    "\n",
    "    -- 用SELECT得到需要的值并用INTO传入invoices_total和invoices_count\n",
    "    SELECT SUM(invoice_total), COUNT(*)\n",
    "    INTO invoices_total, invoices_count\n",
    "    FROM invoices;\n",
    "\n",
    "    -- 用SET语句给risk_factor计算赋值\n",
    "    SET risk_factor = invoices_total / invoices_count * 5;\n",
    "\n",
    "    -- 展示最终结果risk_factor\n",
    "    SELECT risk_factor;        \n",
    "END"
   ]
  },
  {
   "cell_type": "markdown",
   "metadata": {},
   "source": [
    "### 创建函数"
   ]
  },
  {
   "cell_type": "code",
   "execution_count": null,
   "metadata": {
    "vscode": {
     "languageId": "sql"
    }
   },
   "outputs": [],
   "source": [
    "1. 参数设置和body内容之间，有一段确定返回值类型以及函数属性的语句段\n",
    "RETURNS INTEGER\n",
    "DETERMINISTIC\n",
    "READS SQL DATA\n",
    "MODIFIES SQL DATA\n",
    "……\n",
    "2. 最后是返回（RETURN）值而不是查询（SELECT）值\n",
    "RETURN IFNULL(risk_factor, 0);"
   ]
  },
  {
   "cell_type": "code",
   "execution_count": null,
   "metadata": {
    "vscode": {
     "languageId": "sql"
    }
   },
   "outputs": [],
   "source": [
    "CREATE DEFINER=`root`@`localhost` FUNCTION `get_risk_factor_for_client`\n",
    "(\n",
    "    client_id INT\n",
    ") \n",
    "RETURNS INTEGER\n",
    "-- DETERMINISTIC\n",
    "READS SQL DATA\n",
    "-- MODIFIES SQL DATA\n",
    "BEGIN\n",
    "    DECLARE risk_factor DECIMAL(9, 2) DEFAULT 0;\n",
    "    DECLARE invoices_total DECIMAL(9, 2);\n",
    "    DECLARE invoices_count INT;\n",
    "\n",
    "    SELECT SUM(invoice_total), COUNT(*)\n",
    "    INTO invoices_total, invoices_count\n",
    "    FROM invoices i\n",
    "    WHERE i.client_id = client_id;\n",
    "    -- 注意不再是整体risk_factor而是特定顾客的risk_factor\n",
    "\n",
    "    SET risk_factor = invoices_total / invoices_count * 5;\n",
    "    RETURN IFNULL(risk_factor, 0);       \n",
    "END"
   ]
  },
  {
   "cell_type": "markdown",
   "metadata": {},
   "source": [
    "### 创建触发器"
   ]
  },
  {
   "cell_type": "code",
   "execution_count": null,
   "metadata": {
    "vscode": {
     "languageId": "sql"
    }
   },
   "outputs": [],
   "source": [
    "DELIMITER $$\n",
    "\n",
    "CREATE TRIGGER payments_after_insert\n",
    "    AFTER INSERT ON payments\n",
    "    FOR EACH ROW\n",
    "BEGIN\n",
    "    UPDATE invoices\n",
    "    SET payment_total = payment_total + NEW.amount\n",
    "    WHERE invoice_id = NEW.invoice_id;\n",
    "END$$\n",
    "\n",
    "DELIMITER ;"
   ]
  },
  {
   "cell_type": "markdown",
   "metadata": {},
   "source": [
    "### 创建事件"
   ]
  },
  {
   "cell_type": "code",
   "execution_count": null,
   "metadata": {
    "vscode": {
     "languageId": "sql"
    }
   },
   "outputs": [],
   "source": [
    "DELIMITER $$\n",
    "\n",
    "CREATE EVENT yearly_delete_stale_audit_row\n",
    "\n",
    "-- 设定事件的执行计划：\n",
    "ON SCHEDULE  \n",
    "    EVERY 1 YEAR [STARTS '2019-01-01'] [ENDS '2029-01-01']    \n",
    "\n",
    "-- 主体部分：（注意 DO 关键字）\n",
    "DO BEGIN\n",
    "    DELETE FROM payments_audit\n",
    "    WHERE action_date < NOW() - INTERVAL 1 YEAR;\n",
    "END$$\n",
    "\n",
    "DELIMITER ;"
   ]
  },
  {
   "cell_type": "markdown",
   "metadata": {},
   "source": [
    "### 创建事务【难点】"
   ]
  },
  {
   "cell_type": "code",
   "execution_count": null,
   "metadata": {
    "vscode": {
     "languageId": "sql"
    }
   },
   "outputs": [],
   "source": [
    "USE sql_store;\n",
    "\n",
    "START TRANSACTION;\n",
    "\n",
    "INSERT INTO orders (customer_id, order_date, status)\n",
    "VALUES (1, '2019-01-01', 1);\n",
    "-- 只需明确声明并插入这三个非自增必须（不可为空）字段\n",
    "\n",
    "INSERT INTO order_items \n",
    "-- 所有字段都是必须的，就不必申明了\n",
    "VALUES (last_insert_id(), 1, 2, 3);\n",
    "\n",
    "COMMIT;"
   ]
  },
  {
   "cell_type": "markdown",
   "metadata": {},
   "source": [
    "四个并发问题：\n",
    "- Lost Updates 丢失更新：两个事务更新同一行，最后提交的事务将覆盖先前所做的更改\n",
    "- Dirty Reads 脏读：读取了未提交的数据\n",
    "- Non-repeating Reads 不可重复读取 （或 Inconsistent Read 不一致读取）：在事务中读取了相同的数据两次，但得到了不同的结果\n",
    "- Phantom Reads 幻读：在查询中缺失了一行或多行，因为另一个事务正在修改数据而我们没有意识到事务的修改，我们就像遇见了鬼或者幽灵\n"
   ]
  },
  {
   "cell_type": "markdown",
   "metadata": {},
   "source": [
    "为了解决这些问题，我们有四个标准的事务隔离等级：\n",
    "  - Read Uncommitted 读取未提交：无法解决任何一个问题，因为事务间并没有任何隔离，他   们   甚至可以读取彼此未提交的更改\n",
    "  - Read Committed 读取已提交：给予事务一定的隔离，这样我们只能读取已提交的数据，这防止了Dirty Reads 脏读，但在这个级别下，事务仍可能读取同个内容两次而得到不同的结果，因为另一个事务可能在两次读取之间更新并提交了数据，也就是它不能防止\n",
    "  - Non-repeating Reads 不可重复读取 （或 Inconsistent Read 不一致读取）\n",
    "  - Repeatable Read 可重复读取：在这一级别下，我们可以确信不同的读取会返回相同的结果，即便数据在这期间被更改和提交\n",
    "  - Serializable 序列化：可以防止以上所有问题，这一级别还能防止幻读，如果数据在我们执行过程中改变了，我们的事务会等待以获取最新的数据，但这很明显会给服务器增加负担，因为管理等待的事务需要消耗额外的储存和CPU资源"
   ]
  },
  {
   "cell_type": "markdown",
   "metadata": {},
   "source": [
    "## JSON对象"
   ]
  },
  {
   "cell_type": "code",
   "execution_count": null,
   "metadata": {
    "vscode": {
     "languageId": "sql"
    }
   },
   "outputs": [],
   "source": [
    "SET JSON对象名 = \n",
    "'\n",
    "{\n",
    "    \"key1\": value1,\n",
    "    \"key2\": value2,\n",
    "    ……\n",
    "}\n",
    "'"
   ]
  },
  {
   "cell_type": "markdown",
   "metadata": {},
   "source": [
    "### 增"
   ]
  },
  {
   "cell_type": "markdown",
   "metadata": {},
   "source": [
    "给1号商品增加一系列属性，有两种方法\n",
    "法1：\n",
    "用单引号包裹（注意不能是双引号），里面用 JSON 的标准格式：\n",
    "双引号包裹键 key（注意不能是单引号）\n",
    "值 value 可以是数、数组、甚至另一个用 {} 包裹的JSON对象\n",
    "键值对间用逗号隔开"
   ]
  },
  {
   "cell_type": "code",
   "execution_count": null,
   "metadata": {
    "vscode": {
     "languageId": "sql"
    }
   },
   "outputs": [],
   "source": [
    "UPDATE products\n",
    "SET properties = '\n",
    "{\n",
    "    \"dimensions\": [1, 2, 3], \n",
    "    \"weight\": 10,\n",
    "    \"manufacturer\": {\"name\": \"sony\"}\n",
    "}\n",
    "'\n",
    "WHERE product_id = 1;"
   ]
  },
  {
   "cell_type": "markdown",
   "metadata": {},
   "source": [
    "法2：\n",
    "也可以用 MySQL 里的一些针对 JSON 的内置函数来创建商品属性："
   ]
  },
  {
   "cell_type": "code",
   "execution_count": null,
   "metadata": {
    "vscode": {
     "languageId": "sql"
    }
   },
   "outputs": [],
   "source": [
    "UPDATE products\n",
    "SET properties = JSON_OBJECT(\n",
    "    'weight', 10,\n",
    "    -- 注意用函数的话，键值对中间是逗号而非冒号\n",
    "    'dimensions', JSON_ARRAY(1, 2, 3),\n",
    "    'manufacturer', JSON_OBJECT('name', 'sony')\n",
    ")\n",
    "WHERE product_id = 1;"
   ]
  },
  {
   "cell_type": "markdown",
   "metadata": {},
   "source": [
    "### 查\n",
    "法1 :\n",
    "使用 JSON_EXTRACT(JSON对象, '路径') 函数，其中：\n",
    "- 第1参数指明 JSON 对象\n",
    "- 第2参数是用单引号包裹的路径，路径中 $ 表示当前对象，点操作符 . 表示对象的属性"
   ]
  },
  {
   "cell_type": "code",
   "execution_count": null,
   "metadata": {
    "vscode": {
     "languageId": "sql"
    }
   },
   "outputs": [],
   "source": [
    "SELECT product_id, JSON_EXTRACT(properties, '$.weight') AS weight\n",
    "FROM products\n",
    "WHERE product_id = 1;"
   ]
  },
  {
   "cell_type": "markdown",
   "metadata": {},
   "source": [
    "法2  \n",
    "更简便的方法，使用列路径操作符 -> 和 ->>，后者可以去掉结果外层的引号\n",
    "用法是：JSON对象 -> '路径'"
   ]
  },
  {
   "cell_type": "code",
   "execution_count": null,
   "metadata": {
    "vscode": {
     "languageId": "sql"
    }
   },
   "outputs": [],
   "source": [
    "SELECT properties -> '$.weight' AS weight\n",
    "FROM products\n",
    "WHERE product_id = 1;\n",
    "-- 结果为：10\n",
    "\n",
    "SELECT properties -> '$.dimensions' \n",
    "……\n",
    "-- 结果为：[1, 2, 3]\n",
    "\n",
    "SELECT properties -> '$.dimensions[0]' \n",
    "-- 用中括号索引切片，且序号从0开始，与Python同\n",
    "……\n",
    "-- 结果为：1\n",
    "\n",
    "SELECT properties -> '$.manufacturer'\n",
    "……\n",
    "-- 结果为：{\"name\": \"sony\"}\n",
    "\n",
    "SELECT properties -> '$.manufacturer.name'\n",
    "……\n",
    "-- 结果为：\"sony\"\n",
    "\n",
    "SELECT properties ->> '$.manufacturer.name'\n",
    "……\n",
    "-- 结果为：sony"
   ]
  },
  {
   "cell_type": "markdown",
   "metadata": {},
   "source": [
    "通过路径操作符来获取 JSON 对象的特定属性不仅可以用在 SELECT 选择语句中，也可以用在 WHERE 筛选语句中，如：  \n",
    "筛选出制造商名称为 sony 的产品："
   ]
  },
  {
   "cell_type": "code",
   "execution_count": null,
   "metadata": {
    "vscode": {
     "languageId": "sql"
    }
   },
   "outputs": [],
   "source": [
    "SELECT \n",
    "    product_id, \n",
    "    properties ->> '$.manufacturer.name' AS manufacturer_name\n",
    "FROM products\n",
    "WHERE properties ->/->> '$.manufacturer.name' = 'sony'"
   ]
  },
  {
   "cell_type": "markdown",
   "metadata": {},
   "source": [
    "结果为："
   ]
  },
  {
   "cell_type": "markdown",
   "metadata": {},
   "source": [
    "| product_id | manufacturer_name|\n",
    "|1|sony|\n",
    "Mosh说最后这个查询的 WHERE 条件语句里用路径获取制作商名字时必须用双箭头 ->> 才能去掉结果的双引号，才能使得比较运算成立并最终查找出符合条件的1号产品，但实验发现用单箭头 -> 也可以，但另一方面在 SELECT 选择语句中用单双箭头确实会使得显示的结果带或不带双引号，所以综合来看，单双箭头应该是只影响路径结果 \"sony\" 是否【显示】外层的引号，但不会改变其实质，所以不会影响其比较运算结果，即单双箭头得出的sony都是 = 'sony' 的"
   ]
  },
  {
   "cell_type": "markdown",
   "metadata": {},
   "source": [
    "### 改"
   ]
  },
  {
   "cell_type": "code",
   "execution_count": null,
   "metadata": {
    "vscode": {
     "languageId": "sql"
    }
   },
   "outputs": [],
   "source": [
    "USE sql_store;\n",
    "UPDATE products\n",
    "SET properties = JSON_SET(\n",
    "    properties,\n",
    "    '$.weight', 20,  -- 修改weight属性\n",
    "    '$.age', 10  -- 增加age属性\n",
    ")\n",
    "WHERE product_id = 1;"
   ]
  },
  {
   "cell_type": "markdown",
   "metadata": {},
   "source": [
    "注意 JSON_SET() 是选择已有的 JSON 对象并修改部分属性然后返回修改后新的 JSON 对象，所以其第1参数是要修改的 JSON 对象，并且可以用"
   ]
  },
  {
   "cell_type": "code",
   "execution_count": null,
   "metadata": {
    "vscode": {
     "languageId": "sql"
    }
   },
   "outputs": [],
   "source": [
    "SET porperties = JSON_SET(properties, ……)"
   ]
  },
  {
   "cell_type": "markdown",
   "metadata": {},
   "source": [
    "的语法结构来实现对 properties 的修改"
   ]
  },
  {
   "cell_type": "markdown",
   "metadata": {},
   "source": [
    "### 删"
   ]
  },
  {
   "cell_type": "code",
   "execution_count": null,
   "metadata": {
    "vscode": {
     "languageId": "sql"
    }
   },
   "outputs": [],
   "source": [
    "USE sql_store;\n",
    "UPDATE products\n",
    "SET properties = JSON_REMOVE(\n",
    "    properties,\n",
    "    '$.weight',\n",
    "    '$.age'\n",
    ")\n",
    "WHERE product_id = 1;"
   ]
  },
  {
   "cell_type": "markdown",
   "metadata": {},
   "source": [
    "小结\n",
    "感觉JSON对象就是个储存键值对的字典，可以嵌套，标准格式为：{\"key\":value,……}\n",
    "增：利用标准格式或利用 JSON_OBJECT, JSON_ARRAY 等函数\n",
    "查：JSON_EXTRACT 或 ->/-->，注意表达路径时单引号、 $ 和 . 的使用\n",
    "改：JSON_SET，注意其原理\n",
    "删：JSON_REMOVE，原理同上"
   ]
  }
 ],
 "metadata": {
  "interpreter": {
   "hash": "463b5be4a19db1d0517320facd7b48a25f8dedd7c67efb84d83c222c9a3d6cee"
  },
  "kernelspec": {
   "display_name": "Python 3.10.4 64-bit",
   "language": "python",
   "name": "python3"
  },
  "language_info": {
   "codemirror_mode": {
    "name": "ipython",
    "version": 3
   },
   "file_extension": ".py",
   "mimetype": "text/x-python",
   "name": "python",
   "nbconvert_exporter": "python",
   "pygments_lexer": "ipython3",
   "version": "3.10.4"
  },
  "orig_nbformat": 4
 },
 "nbformat": 4,
 "nbformat_minor": 2
}
