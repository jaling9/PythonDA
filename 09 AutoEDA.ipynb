{
 "cells": [
  {
   "cell_type": "markdown",
   "metadata": {},
   "source": [
    "\n",
    "EDA的作用\n",
    "\n",
    "在机器学习中，对数据进行恰当的预处理以及抽取合适的特征对后续的模型训练起到至关重要的作用。EDA可以帮助我们发现数据中的某些模式以及趋势，以及借助统计描述信息和图形表示验证某些假设，从而指导我们如何进行数据预处理和特征工程。"
   ]
  },
  {
   "cell_type": "markdown",
   "metadata": {},
   "source": [
    "在EDA中，我们需要重点关注的信息包括：缺失值、异常值、数据分布、变量之间的相关性、变量和标签之间的相关性。\n",
    "\n",
    "我们可以借助Matplotlib、Seaborn等诸多工具来手动地进行EDA，而一种更简便的方法是可以使用自动化的EDA工具，例如dtale、pandas profiling、sweetviz、autoviz。这里我们以autoviz为例，结合鸢尾花数据集，来看看如何使用简单的几行代码实现EDA。"
   ]
  },
  {
   "cell_type": "code",
   "execution_count": null,
   "metadata": {},
   "outputs": [],
   "source": [
    "\n",
    "from autoviz.AutoViz_Class import AutoViz_Class\n",
    "autoviz = AutoViz_Class()\n",
    "dft =autoviz.AutoViz(\n",
    "    filename=\"/content/Iris.csv\",  #读入数据集，注意和dfte的区别\n",
    "    sep=\",\",  #设置数据集分隔符，默认为逗号\n",
    "    depVar=\"Species\",  #设置标签列\n",
    "    dfte=None,  #传入一个pandas.DataFrame，如果filename已设置，此处为None\n",
    "    header=0,\n",
    "    verbose=0,  #可选0, 1或者2，设置图形的保存形式\n",
    "    lowess=False,  #是否启用lowess回归，适合小数据量数据集，100,000行以上数据不建议用\n",
    "    chart_format=\"svg\",  #设置图形保存格式\n",
    "    max_rows_analyzed=150000,  #设置数据集待分析的行数\n",
    "    max_cols_analyzed=30,  #设置数据集待分析的列数\n",
    ")"
   ]
  },
  {
   "cell_type": "code",
   "execution_count": 2,
   "metadata": {},
   "outputs": [
    {
     "data": {
      "text/html": [
       "        <script type=\"text/javascript\">\n",
       "        window.PlotlyConfig = {MathJaxConfig: 'local'};\n",
       "        if (window.MathJax && window.MathJax.Hub && window.MathJax.Hub.Config) {window.MathJax.Hub.Config({SVG: {font: \"STIX-Web\"}});}\n",
       "        if (typeof require !== 'undefined') {\n",
       "        require.undef(\"plotly\");\n",
       "        requirejs.config({\n",
       "            paths: {\n",
       "                'plotly': ['https://cdn.plot.ly/plotly-2.12.1.min']\n",
       "            }\n",
       "        });\n",
       "        require(['plotly'], function(Plotly) {\n",
       "            window._Plotly = Plotly;\n",
       "        });\n",
       "        }\n",
       "        </script>\n",
       "        "
      ]
     },
     "metadata": {},
     "output_type": "display_data"
    },
    {
     "data": {
      "text/plain": [
       "'temp-plot.html'"
      ]
     },
     "execution_count": 2,
     "metadata": {},
     "output_type": "execute_result"
    }
   ],
   "source": [
    "# Code based on Python 3.x\n",
    " # _*_ coding: utf-8 _*_\n",
    " # Author: \"Lemon\"\n",
    " # Website: http://liyangbit.com\n",
    " # 公众号: Python 数据之道\n",
    " # ID: PyDataLab\n",
    "\n",
    "import plotly_express as px\n",
    "import plotly\n",
    "import plotly.graph_objs as go\n",
    "plotly.offline.init_notebook_mode(connected=True)\n",
    "iris = px.data.iris()\n",
    "iris_plot = px.scatter(iris, x='sepal_width', y='sepal_length',\n",
    "color='species', marginal_y='histogram',\n",
    "marginal_x='box', trendline='ols')\n",
    "plotly.offline.plot(iris_plot)"
   ]
  }
 ],
 "metadata": {
  "kernelspec": {
   "display_name": "Python 3.10.6 64-bit (windows store)",
   "language": "python",
   "name": "python3"
  },
  "language_info": {
   "codemirror_mode": {
    "name": "ipython",
    "version": 3
   },
   "file_extension": ".py",
   "mimetype": "text/x-python",
   "name": "python",
   "nbconvert_exporter": "python",
   "pygments_lexer": "ipython3",
   "version": "3.10.6"
  },
  "orig_nbformat": 4,
  "vscode": {
   "interpreter": {
    "hash": "825850a1542703e8330eb48918fb3db9db9b2154f7cb48e5f7ab1215ef3a88b8"
   }
  }
 },
 "nbformat": 4,
 "nbformat_minor": 2
}
