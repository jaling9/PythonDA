{
 "cells": [
  {
   "cell_type": "markdown",
   "metadata": {},
   "source": [
    "### *一、日期和时间数据类型及工具*  \n",
    "![](https://camo.githubusercontent.com/a4ccfe1623c56eb9a6e7c1662eac51c5f54916472721066c3fe57c5c82b2fb68/687474703a2f2f75706c6f61642d696d616765732e6a69616e7368752e696f2f75706c6f61645f696d616765732f373137383639312d346166323631613330356137306165622e706e673f696d6167654d6f6772322f6175746f2d6f7269656e742f7374726970253743696d61676556696577322f322f772f31323430)\n",
    "\n",
    "\n",
    "![](https://[camo.githubusercontent.com/a4ccfe1623c56eb9a6e7](https://github.com/jaling9/python_for_data_analysis_2nd_chinese_version/blob/master/%E7%AC%AC11%E7%AB%A0%20%E6%97%B6%E9%97%B4%E5%BA%8F%E5%88%97.md#118-%E6%80%BB%E7%BB%93)"
   ]
  },
  {
   "cell_type": "code",
   "execution_count": 1,
   "metadata": {},
   "outputs": [
    {
     "data": {
      "text/plain": [
       "datetime.datetime(2022, 8, 16, 12, 56, 4, 266935)"
      ]
     },
     "execution_count": 1,
     "metadata": {},
     "output_type": "execute_result"
    }
   ],
   "source": [
    "from datetime import datetime\n",
    "now = datetime.now()\n",
    "now"
   ]
  },
  {
   "cell_type": "code",
   "execution_count": 2,
   "metadata": {},
   "outputs": [
    {
     "data": {
      "text/plain": [
       "(2022, 8, 16)"
      ]
     },
     "execution_count": 2,
     "metadata": {},
     "output_type": "execute_result"
    }
   ],
   "source": [
    "now.year,now.month,now.day"
   ]
  },
  {
   "cell_type": "code",
   "execution_count": 3,
   "metadata": {},
   "outputs": [
    {
     "data": {
      "text/plain": [
       "datetime.timedelta(days=926, seconds=56700)"
      ]
     },
     "execution_count": 3,
     "metadata": {},
     "output_type": "execute_result"
    }
   ],
   "source": [
    "delta = datetime(2011,1,7)-datetime(2008,6,24,8,15)\n",
    "delta"
   ]
  },
  {
   "cell_type": "code",
   "execution_count": 4,
   "metadata": {},
   "outputs": [
    {
     "data": {
      "text/plain": [
       "926"
      ]
     },
     "execution_count": 4,
     "metadata": {},
     "output_type": "execute_result"
    }
   ],
   "source": [
    "delta.days"
   ]
  },
  {
   "cell_type": "code",
   "execution_count": 5,
   "metadata": {},
   "outputs": [
    {
     "data": {
      "text/plain": [
       "56700"
      ]
     },
     "execution_count": 5,
     "metadata": {},
     "output_type": "execute_result"
    }
   ],
   "source": [
    "delta.seconds"
   ]
  },
  {
   "cell_type": "code",
   "execution_count": 6,
   "metadata": {},
   "outputs": [
    {
     "data": {
      "text/plain": [
       "datetime.datetime(2011, 1, 19, 0, 0)"
      ]
     },
     "execution_count": 6,
     "metadata": {},
     "output_type": "execute_result"
    }
   ],
   "source": [
    "from datetime import timedelta\n",
    "start  = datetime(2011,1,7)\n",
    "start + timedelta(12)"
   ]
  },
  {
   "cell_type": "markdown",
   "metadata": {},
   "source": [
    "#### *1.1字符串和datetime的相互转换*  \n",
    "![\"datetime格式定义\"](https://camo.githubusercontent.com/6fe4b70a2bce293aff0caf0e644fd838103e62ce8e13caf6b5db5d5a7ca36736/687474703a2f2f75706c6f61642d696d616765732e6a69616e7368752e696f2f75706c6f61645f696d616765732f373137383639312d646530313831653166366234356561662e706e673f696d6167654d6f6772322f6175746f2d6f7269656e742f7374726970253743696d61676556696577322f322f772f31323430)"
   ]
  },
  {
   "cell_type": "code",
   "execution_count": 7,
   "metadata": {},
   "outputs": [
    {
     "data": {
      "text/plain": [
       "'2011-01-03 00:00:00'"
      ]
     },
     "execution_count": 7,
     "metadata": {},
     "output_type": "execute_result"
    }
   ],
   "source": [
    "stamp = datetime(2011, 1, 3)\n",
    "str(stamp)"
   ]
  },
  {
   "cell_type": "code",
   "execution_count": 8,
   "metadata": {},
   "outputs": [
    {
     "data": {
      "text/plain": [
       "'2011-01-03'"
      ]
     },
     "execution_count": 8,
     "metadata": {},
     "output_type": "execute_result"
    }
   ],
   "source": [
    "stamp.strftime(\"%Y-%m-%d\")"
   ]
  },
  {
   "cell_type": "code",
   "execution_count": 9,
   "metadata": {},
   "outputs": [
    {
     "data": {
      "text/plain": [
       "'2011年01月03日'"
      ]
     },
     "execution_count": 9,
     "metadata": {},
     "output_type": "execute_result"
    }
   ],
   "source": [
    "stamp.strftime(\"%Y年%m月%d日\")"
   ]
  },
  {
   "cell_type": "code",
   "execution_count": 10,
   "metadata": {},
   "outputs": [
    {
     "data": {
      "text/plain": [
       "datetime.datetime(2011, 1, 3, 0, 0)"
      ]
     },
     "execution_count": 10,
     "metadata": {},
     "output_type": "execute_result"
    }
   ],
   "source": [
    "value = '2011-01-03'\n",
    "datetime.strptime(value,'%Y-%m-%d')"
   ]
  },
  {
   "cell_type": "code",
   "execution_count": 11,
   "metadata": {},
   "outputs": [
    {
     "data": {
      "text/plain": [
       "[datetime.datetime(2011, 7, 6, 0, 0), datetime.datetime(2011, 8, 6, 0, 0)]"
      ]
     },
     "execution_count": 11,
     "metadata": {},
     "output_type": "execute_result"
    }
   ],
   "source": [
    "datestrs = ['7/6/2011', '8/6/2011']\n",
    "[datetime.strptime(x, '%m/%d/%Y') for x in datestrs]"
   ]
  },
  {
   "cell_type": "code",
   "execution_count": 12,
   "metadata": {},
   "outputs": [
    {
     "data": {
      "text/plain": [
       "datetime.datetime(2011, 1, 3, 0, 0)"
      ]
     },
     "execution_count": 12,
     "metadata": {},
     "output_type": "execute_result"
    }
   ],
   "source": [
    "# 第三方包中的parser.parse方法\n",
    "# dateutil可以解析几乎所有人类能够理解的日期表示形式：\n",
    "from dateutil.parser import parse\n",
    "parse('2011-01-03')"
   ]
  },
  {
   "cell_type": "code",
   "execution_count": 13,
   "metadata": {},
   "outputs": [
    {
     "data": {
      "text/plain": [
       "datetime.datetime(1997, 1, 31, 22, 45)"
      ]
     },
     "execution_count": 13,
     "metadata": {},
     "output_type": "execute_result"
    }
   ],
   "source": [
    "parse('Jan 31, 1997 10:45 PM')"
   ]
  },
  {
   "cell_type": "code",
   "execution_count": 14,
   "metadata": {},
   "outputs": [
    {
     "data": {
      "text/plain": [
       "datetime.datetime(2011, 12, 6, 0, 0)"
      ]
     },
     "execution_count": 14,
     "metadata": {},
     "output_type": "execute_result"
    }
   ],
   "source": [
    "# 日出现在月的前面\n",
    "parse('6/12/2011', dayfirst=True)"
   ]
  },
  {
   "cell_type": "code",
   "execution_count": 15,
   "metadata": {},
   "outputs": [
    {
     "data": {
      "text/plain": [
       "DatetimeIndex(['2011-07-06 12:00:00', '2011-08-06 00:00:00'], dtype='datetime64[ns]', freq=None)"
      ]
     },
     "execution_count": 15,
     "metadata": {},
     "output_type": "execute_result"
    }
   ],
   "source": [
    "import pandas as pd\n",
    "datestrs = ['2011-07-06 12:00:00', '2011-08-06 00:00:00']\n",
    "pd.to_datetime(datestrs)"
   ]
  },
  {
   "cell_type": "code",
   "execution_count": 16,
   "metadata": {},
   "outputs": [
    {
     "data": {
      "text/plain": [
       "DatetimeIndex(['2011-07-06 12:00:00', '2011-08-06 00:00:00', 'NaT'], dtype='datetime64[ns]', freq=None)"
      ]
     },
     "execution_count": 16,
     "metadata": {},
     "output_type": "execute_result"
    }
   ],
   "source": [
    "pd.to_datetime(datestrs + [None])"
   ]
  },
  {
   "cell_type": "markdown",
   "metadata": {},
   "source": [
    "### *二、时间序列基础*"
   ]
  },
  {
   "cell_type": "code",
   "execution_count": 17,
   "metadata": {},
   "outputs": [
    {
     "data": {
      "text/plain": [
       "2011-01-02    1.247966\n",
       "2011-01-05   -0.924567\n",
       "2011-01-07   -0.858545\n",
       "2011-01-08    1.996244\n",
       "2011-01-10   -1.696130\n",
       "2011-01-12    1.351498\n",
       "dtype: float64"
      ]
     },
     "execution_count": 17,
     "metadata": {},
     "output_type": "execute_result"
    }
   ],
   "source": [
    "# pandas最基本的时间序列类型就是以时间戳\n",
    "# (通常以Python字符串或datatime对象表示）为索引的Series\n",
    "from datetime import datetime\n",
    "import numpy as np\n",
    "dates = [datetime(2011, 1, 2), datetime(2011, 1, 5),\n",
    "        datetime(2011, 1, 7), datetime(2011, 1, 8),\n",
    "        datetime(2011, 1, 10), datetime(2011, 1, 12)]\n",
    "ts = pd.Series(np.random.randn(6), index=dates)\n",
    "ts"
   ]
  },
  {
   "cell_type": "code",
   "execution_count": 18,
   "metadata": {},
   "outputs": [
    {
     "data": {
      "text/plain": [
       "2011-01-02    2.495931\n",
       "2011-01-05         NaN\n",
       "2011-01-07   -1.717091\n",
       "2011-01-08         NaN\n",
       "2011-01-10   -3.392260\n",
       "2011-01-12         NaN\n",
       "dtype: float64"
      ]
     },
     "execution_count": 18,
     "metadata": {},
     "output_type": "execute_result"
    }
   ],
   "source": [
    "ts[::2] + ts # ts[::2] 是每隔两个取一个"
   ]
  },
  {
   "cell_type": "markdown",
   "metadata": {},
   "source": [
    "#### *2.1 索引、选取、子集构造*"
   ]
  },
  {
   "cell_type": "code",
   "execution_count": 19,
   "metadata": {},
   "outputs": [
    {
     "data": {
      "text/plain": [
       "-0.8585454631463574"
      ]
     },
     "execution_count": 19,
     "metadata": {},
     "output_type": "execute_result"
    }
   ],
   "source": [
    "ts[ts.index[2]]"
   ]
  },
  {
   "cell_type": "code",
   "execution_count": 20,
   "metadata": {},
   "outputs": [
    {
     "data": {
      "text/plain": [
       "-1.6961301413699132"
      ]
     },
     "execution_count": 20,
     "metadata": {},
     "output_type": "execute_result"
    }
   ],
   "source": [
    "ts['1/10/2011']"
   ]
  },
  {
   "cell_type": "code",
   "execution_count": 21,
   "metadata": {},
   "outputs": [
    {
     "data": {
      "text/plain": [
       "2011-01-07   -0.858545\n",
       "2011-01-08    1.996244\n",
       "2011-01-10   -1.696130\n",
       "2011-01-12    1.351498\n",
       "dtype: float64"
      ]
     },
     "execution_count": 21,
     "metadata": {},
     "output_type": "execute_result"
    }
   ],
   "source": [
    "# datetime对象也可以进行切片：\n",
    "ts[datetime(2011, 1, 7):]"
   ]
  },
  {
   "cell_type": "code",
   "execution_count": 22,
   "metadata": {},
   "outputs": [
    {
     "data": {
      "text/plain": [
       "2011-01-07   -0.858545\n",
       "2011-01-08    1.996244\n",
       "2011-01-10   -1.696130\n",
       "dtype: float64"
      ]
     },
     "execution_count": 22,
     "metadata": {},
     "output_type": "execute_result"
    }
   ],
   "source": [
    "# 也可以用不存在于该时间序列中的时间戳对其进行切片（即范围查询）\n",
    "ts['1/6/2011':'1/11/2011']"
   ]
  },
  {
   "cell_type": "code",
   "execution_count": 23,
   "metadata": {},
   "outputs": [
    {
     "data": {
      "text/plain": [
       "2000-01-01    0.800590\n",
       "2000-01-02   -1.067263\n",
       "2000-01-03   -1.629673\n",
       "2000-01-04    0.794627\n",
       "2000-01-05   -0.008414\n",
       "                ...   \n",
       "2002-09-22    1.500487\n",
       "2002-09-23   -2.263124\n",
       "2002-09-24   -0.800340\n",
       "2002-09-25   -0.248569\n",
       "2002-09-26   -1.500017\n",
       "Freq: D, Length: 1000, dtype: float64"
      ]
     },
     "execution_count": 23,
     "metadata": {},
     "output_type": "execute_result"
    }
   ],
   "source": [
    "longer_ts = pd.Series(np.random.randn(1000),\n",
    "                       index=pd.date_range('1/1/2000', periods=1000))\n",
    "longer_ts    "
   ]
  },
  {
   "cell_type": "code",
   "execution_count": 24,
   "metadata": {},
   "outputs": [
    {
     "data": {
      "text/plain": [
       "2001-01-01    0.633223\n",
       "2001-01-02   -0.245365\n",
       "2001-01-03    0.086011\n",
       "2001-01-04   -0.587427\n",
       "2001-01-05    0.327624\n",
       "                ...   \n",
       "2001-12-27    0.712153\n",
       "2001-12-28   -0.138897\n",
       "2001-12-29    2.129195\n",
       "2001-12-30   -0.179643\n",
       "2001-12-31    1.074412\n",
       "Freq: D, Length: 365, dtype: float64"
      ]
     },
     "execution_count": 24,
     "metadata": {},
     "output_type": "execute_result"
    }
   ],
   "source": [
    "# 对于较长的时间序列，只需传入“年”或“年月”即可轻松选取数据的切片：\n",
    "longer_ts['2001']"
   ]
  },
  {
   "cell_type": "markdown",
   "metadata": {},
   "source": [
    "#### *2.2 带有重复索引的时间序列*"
   ]
  },
  {
   "cell_type": "code",
   "execution_count": 25,
   "metadata": {},
   "outputs": [
    {
     "data": {
      "text/plain": [
       "2000-01-01    0\n",
       "2000-01-02    1\n",
       "2000-01-02    2\n",
       "2000-01-02    3\n",
       "2000-01-03    4\n",
       "dtype: int32"
      ]
     },
     "execution_count": 25,
     "metadata": {},
     "output_type": "execute_result"
    }
   ],
   "source": [
    "dates = pd.DatetimeIndex(['1/1/2000', '1/2/2000', '1/2/2000',\n",
    "                         '1/2/2000', '1/3/2000'])\n",
    "dup_ts = pd.Series(np.arange(5), index=dates)\n",
    "dup_ts"
   ]
  },
  {
   "cell_type": "code",
   "execution_count": 26,
   "metadata": {},
   "outputs": [
    {
     "data": {
      "text/plain": [
       "2000-01-02    1\n",
       "2000-01-02    2\n",
       "2000-01-02    3\n",
       "dtype: int32"
      ]
     },
     "execution_count": 26,
     "metadata": {},
     "output_type": "execute_result"
    }
   ],
   "source": [
    "dup_ts['1/2/2000']  # duplicated"
   ]
  },
  {
   "cell_type": "code",
   "execution_count": 27,
   "metadata": {},
   "outputs": [
    {
     "data": {
      "text/plain": [
       "2000-01-01    0.0\n",
       "2000-01-02    2.0\n",
       "2000-01-03    4.0\n",
       "dtype: float64"
      ]
     },
     "execution_count": 27,
     "metadata": {},
     "output_type": "execute_result"
    }
   ],
   "source": [
    "# 设你想要对具有非唯一时间戳的数据进行聚合\n",
    "grouped = dup_ts.groupby(level=0) \n",
    "grouped.mean()"
   ]
  },
  {
   "cell_type": "markdown",
   "metadata": {},
   "source": [
    "### *三、日期范围、频率以及移动*"
   ]
  },
  {
   "cell_type": "code",
   "execution_count": 28,
   "metadata": {},
   "outputs": [
    {
     "data": {
      "text/plain": [
       "2011-01-02    1.247966\n",
       "2011-01-05   -0.924567\n",
       "2011-01-07   -0.858545\n",
       "2011-01-08    1.996244\n",
       "2011-01-10   -1.696130\n",
       "2011-01-12    1.351498\n",
       "dtype: float64"
      ]
     },
     "execution_count": 28,
     "metadata": {},
     "output_type": "execute_result"
    }
   ],
   "source": [
    "ts"
   ]
  },
  {
   "cell_type": "code",
   "execution_count": 29,
   "metadata": {},
   "outputs": [
    {
     "data": {
      "text/plain": [
       "<pandas.core.resample.DatetimeIndexResampler object at 0x000001E3A4CC6F80>"
      ]
     },
     "execution_count": 29,
     "metadata": {},
     "output_type": "execute_result"
    }
   ],
   "source": [
    "resampler = ts.resample('D')\n",
    "resampler"
   ]
  },
  {
   "cell_type": "markdown",
   "metadata": {},
   "source": [
    "#### *3.1 生成日期范围*"
   ]
  },
  {
   "cell_type": "code",
   "execution_count": 30,
   "metadata": {},
   "outputs": [
    {
     "data": {
      "text/plain": [
       "DatetimeIndex(['2012-04-01', '2012-04-02', '2012-04-03', '2012-04-04',\n",
       "               '2012-04-05', '2012-04-06', '2012-04-07', '2012-04-08',\n",
       "               '2012-04-09', '2012-04-10', '2012-04-11', '2012-04-12',\n",
       "               '2012-04-13', '2012-04-14', '2012-04-15', '2012-04-16',\n",
       "               '2012-04-17', '2012-04-18', '2012-04-19', '2012-04-20',\n",
       "               '2012-04-21', '2012-04-22', '2012-04-23', '2012-04-24',\n",
       "               '2012-04-25', '2012-04-26', '2012-04-27', '2012-04-28',\n",
       "               '2012-04-29', '2012-04-30', '2012-05-01', '2012-05-02',\n",
       "               '2012-05-03', '2012-05-04', '2012-05-05', '2012-05-06',\n",
       "               '2012-05-07', '2012-05-08', '2012-05-09', '2012-05-10',\n",
       "               '2012-05-11', '2012-05-12', '2012-05-13', '2012-05-14',\n",
       "               '2012-05-15', '2012-05-16', '2012-05-17', '2012-05-18',\n",
       "               '2012-05-19', '2012-05-20', '2012-05-21', '2012-05-22',\n",
       "               '2012-05-23', '2012-05-24', '2012-05-25', '2012-05-26',\n",
       "               '2012-05-27', '2012-05-28', '2012-05-29', '2012-05-30',\n",
       "               '2012-05-31', '2012-06-01'],\n",
       "              dtype='datetime64[ns]', freq='D')"
      ]
     },
     "execution_count": 30,
     "metadata": {},
     "output_type": "execute_result"
    }
   ],
   "source": [
    "index = pd.date_range('2012-04-01', '2012-06-01')\n",
    "index"
   ]
  },
  {
   "cell_type": "code",
   "execution_count": 31,
   "metadata": {},
   "outputs": [
    {
     "data": {
      "text/plain": [
       "DatetimeIndex(['2012-04-01', '2012-04-02', '2012-04-03', '2012-04-04',\n",
       "               '2012-04-05', '2012-04-06', '2012-04-07', '2012-04-08',\n",
       "               '2012-04-09', '2012-04-10', '2012-04-11', '2012-04-12',\n",
       "               '2012-04-13', '2012-04-14', '2012-04-15', '2012-04-16',\n",
       "               '2012-04-17', '2012-04-18', '2012-04-19', '2012-04-20'],\n",
       "              dtype='datetime64[ns]', freq='D')"
      ]
     },
     "execution_count": 31,
     "metadata": {},
     "output_type": "execute_result"
    }
   ],
   "source": [
    "pd.date_range(start='2012-04-01', periods=20) # periods-->时间段"
   ]
  },
  {
   "cell_type": "code",
   "execution_count": 32,
   "metadata": {},
   "outputs": [
    {
     "data": {
      "text/plain": [
       "DatetimeIndex(['2000-01-31', '2000-02-29', '2000-03-31', '2000-04-28',\n",
       "               '2000-05-31', '2000-06-30', '2000-07-31', '2000-08-31',\n",
       "               '2000-09-29', '2000-10-31', '2000-11-30'],\n",
       "              dtype='datetime64[ns]', freq='BM')"
      ]
     },
     "execution_count": 32,
     "metadata": {},
     "output_type": "execute_result"
    }
   ],
   "source": [
    "pd.date_range('2000-01-01', '2000-12-01', freq='BM') # \"BM\"频率（表示business end of month"
   ]
  },
  {
   "cell_type": "markdown",
   "metadata": {},
   "source": [
    "【日期频率说明表】\n",
    "\n",
    "![](https://camo.githubusercontent.com/4c6878be71f09fbffeb32bd94a336e59794330ddb740daf26d2385bb526f2807/687474703a2f2f75706c6f61642d696d616765732e6a69616e7368752e696f2f75706c6f61645f696d616765732f373137383639312d633836313464646264313037393363612e706e673f696d6167654d6f6772322f6175746f2d6f7269656e742f7374726970253743696d61676556696577322f322f772f31323430)\n",
    "![](https://camo.githubusercontent.com/d188f192c286118142afc7f6194d6ce496edd0a79d39b1eb0eeff9a99e8c8cb0/687474703a2f2f75706c6f61642d696d616765732e6a69616e7368752e696f2f75706c6f61645f696d616765732f373137383639312d386461343662613936353434623037312e706e673f696d6167654d6f6772322f6175746f2d6f7269656e742f7374726970253743696d61676556696577322f322f772f31323430)\n",
    "![](https://camo.githubusercontent.com/f46d5fc08f9edea0c7d2434d67c22b3a5f003b086a9f3a887cb031a675213509/687474703a2f2f75706c6f61642d696d616765732e6a69616e7368752e696f2f75706c6f61645f696d616765732f373137383639312d336361343130363039313935656463342e706e673f696d6167654d6f6772322f6175746f2d6f7269656e742f7374726970253743696d61676556696577322f322f772f31323430)"
   ]
  },
  {
   "cell_type": "code",
   "execution_count": null,
   "metadata": {},
   "outputs": [],
   "source": [
    "\"\"\"\n",
    "DateOffset objects\n",
    "In the preceding examples, we created DatetimeIndex objects at various frequencies by passing in frequency strings like ‘M’, ‘W’, and ‘BM to the freq keyword. Under the hood, these frequency strings are being translated into an instance of pandas DateOffset, which represents a regular frequency increment. Specific offset logic like “month”, “business day”, or “one hour” is represented in its various subclasses.\n",
    "\n",
    "Class name\tDescription\n",
    "DateOffset\tGeneric offset class, defaults to 1 calendar day\n",
    "BDay\t    business day (weekday)\n",
    "Week\t    one week, optionally anchored on a day of the week\n",
    "WeekOfMonth\tthe x-th day of the y-th week of each month\n",
    "MonthEnd\tcalendar month end\n",
    "MonthBegin\tcalendar month begin\n",
    "BMonthEnd\tbusiness month end\n",
    "BMonthBegin\tbusiness month begin\n",
    "QuarterEnd\tcalendar quarter end\n",
    "QuarterBegin\tcalendar quarter begin\n",
    "BQuarterEnd\tbusiness quarter end\n",
    "BQuarterBegin\tbusiness quarter begin\n",
    "YearEnd\tcalendar year end\n",
    "YearBegin\tcalendar year begin\n",
    "BYearEnd\tbusiness year end\n",
    "BYearBegin\tbusiness year begin\n",
    "Hour\t    one hour\n",
    "Minute\t    one minute\n",
    "Second\t    one second\n",
    "Milli\t    one millisecond\n",
    "Micro\t    one microsecond\n",
    "--------------------------------------------------------------\n",
    "Alias\tDescription\n",
    "B\t    business day frequency\n",
    "D\t    calendar day frequency\n",
    "W\t    weekly frequency\n",
    "M\t    month end frequency\n",
    "BM\t    business month end frequency\n",
    "MS\t    month start frequency\n",
    "BMS\t    business month start frequency\n",
    "Q\t    quarter end frequency\n",
    "BQ\t    business quarter endfrequency\n",
    "QS\t    quarter start frequency\n",
    "BQS\t    business quarter start frequency\n",
    "A\t    year end frequency\n",
    "BA\t    business year end frequency\n",
    "AS\t    year start frequency\n",
    "BAS\t    business year start frequency\n",
    "H\t    hourly frequency\n",
    "T\t    minutely frequency\n",
    "S\t    secondly frequency\n",
    "L\t    milliseonds\n",
    "U\t    microseconds\n",
    "-------------------------------------------------------------\n",
    "Alias\t    Description\n",
    "W-SUN\t    weekly frequency (sundays). Same as ‘W’\n",
    "W-MON\t    weekly frequency (mondays)\n",
    "W-TUE\t    weekly frequency (tuesdays)\n",
    "W-WED\t    weekly frequency (wednesdays)\n",
    "W-THU\t    weekly frequency (thursdays)\n",
    "W-FRI\t    weekly frequency (fridays)\n",
    "W-SAT\t    weekly frequency (saturdays)\n",
    "(B)Q(S)-DEC\tquarterly frequency, year ends in December. Same as ‘Q’\n",
    "(B)Q(S)-JAN\tquarterly frequency, year ends in January\n",
    "(B)Q(S)-FEB\tquarterly frequency, year ends in February\n",
    "(B)Q(S)-MAR\tquarterly frequency, year ends in March\n",
    "(B)Q(S)-APR\tquarterly frequency, year ends in April\n",
    "(B)Q(S)-MAY\tquarterly frequency, year ends in May\n",
    "(B)Q(S)-JUN\tquarterly frequency, year ends in June\n",
    "(B)Q(S)-JUL\tquarterly frequency, year ends in July\n",
    "(B)Q(S)-AUG\tquarterly frequency, year ends in August\n",
    "(B)Q(S)-SEP\tquarterly frequency, year ends in September\n",
    "(B)Q(S)-OCT\tquarterly frequency, year ends in October\n",
    "(B)Q(S)-NOV\tquarterly frequency, year ends in November\n",
    "(B)A(S)-DEC\tannual frequency, anchored end of December. Same as ‘A’\n",
    "(B)A(S)-JAN\tannual frequency, anchored end of January\n",
    "(B)A(S)-FEB\tannual frequency, anchored end of February\n",
    "(B)A(S)-MAR\tannual frequency, anchored end of March\n",
    "(B)A(S)-APR\tannual frequency, anchored end of April\n",
    "(B)A(S)-MAY\tannual frequency, anchored end of May\n",
    "(B)A(S)-JUN\tannual frequency, anchored end of June\n",
    "(B)A(S)-JUL\tannual frequency, anchored end of July\n",
    "(B)A(S)-AUG\tannual frequency, anchored end of August\n",
    "(B)A(S)-SEP\tannual frequency, anchored end of September\n",
    "(B)A(S)-OCT\tannual frequency, anchored end of October\n",
    "(B)A(S)-NOV\tannual frequency, anchored end of November\n",
    "-----------------------------------------------------------------\n",
    "Legacy Time Rule\tOffset Alias\n",
    "WEEKDAY\tB\n",
    "EOM\t    BM\n",
    "W@MON\tW-MON\n",
    "W@TUE\tW-TUE\n",
    "W@WED\tW-WED\n",
    "W@THU\tW-THU\n",
    "W@FRI\tW-FRI\n",
    "W@SAT\tW-SAT\n",
    "W@SUN\tW-SUN\n",
    "Q@JAN\tBQ-JAN\n",
    "Q@FEB\tBQ-FEB\n",
    "Q@MAR\tBQ-MAR\n",
    "A@JAN\tBA-JAN\n",
    "A@FEB\tBA-FEB\n",
    "A@MAR\tBA-MAR\n",
    "A@APR\tBA-APR\n",
    "A@MAY\tBA-MAY\n",
    "A@JUN\tBA-JUN\n",
    "A@JUL\tBA-JUL\n",
    "A@AUG\tBA-AUG\n",
    "A@SEP\tBA-SEP\n",
    "A@OCT\tBA-OCT\n",
    "A@NOV\tBA-NOV\n",
    "A@DEC\tBA-DEC\n",
    "min\tT\n",
    "ms\tL\n",
    "us: “U”\t \n",
    "\"\"\""
   ]
  },
  {
   "cell_type": "code",
   "execution_count": 33,
   "metadata": {},
   "outputs": [
    {
     "data": {
      "text/plain": [
       "DatetimeIndex(['2012-05-02 12:56:31', '2012-05-03 12:56:31',\n",
       "               '2012-05-04 12:56:31', '2012-05-05 12:56:31',\n",
       "               '2012-05-06 12:56:31'],\n",
       "              dtype='datetime64[ns]', freq='D')"
      ]
     },
     "execution_count": 33,
     "metadata": {},
     "output_type": "execute_result"
    }
   ],
   "source": [
    "pd.date_range('2012-05-02 12:56:31', periods=5)"
   ]
  },
  {
   "cell_type": "code",
   "execution_count": 34,
   "metadata": {},
   "outputs": [
    {
     "data": {
      "text/plain": [
       "DatetimeIndex(['2012-05-02', '2012-05-03', '2012-05-04', '2012-05-05',\n",
       "               '2012-05-06'],\n",
       "              dtype='datetime64[ns]', freq='D')"
      ]
     },
     "execution_count": 34,
     "metadata": {},
     "output_type": "execute_result"
    }
   ],
   "source": [
    "pd.date_range('2012-05-02 12:56:31', periods=5, normalize=True)"
   ]
  },
  {
   "cell_type": "markdown",
   "metadata": {},
   "source": [
    "#### *3.2 频率和日期偏移量*"
   ]
  },
  {
   "cell_type": "code",
   "execution_count": 35,
   "metadata": {},
   "outputs": [
    {
     "data": {
      "text/plain": [
       "<Hour>"
      ]
     },
     "execution_count": 35,
     "metadata": {},
     "output_type": "execute_result"
    }
   ],
   "source": [
    "from pandas.tseries.offsets import Hour, Minute\n",
    "hour = Hour()\n",
    "hour"
   ]
  },
  {
   "cell_type": "code",
   "execution_count": 36,
   "metadata": {},
   "outputs": [
    {
     "data": {
      "text/plain": [
       "<4 * Hours>"
      ]
     },
     "execution_count": 36,
     "metadata": {},
     "output_type": "execute_result"
    }
   ],
   "source": [
    "four_hours = Hour(4)\n",
    "four_hours"
   ]
  },
  {
   "cell_type": "code",
   "execution_count": 37,
   "metadata": {},
   "outputs": [
    {
     "data": {
      "text/plain": [
       "DatetimeIndex(['2000-01-01 00:00:00', '2000-01-01 04:00:00',\n",
       "               '2000-01-01 08:00:00', '2000-01-01 12:00:00',\n",
       "               '2000-01-01 16:00:00', '2000-01-01 20:00:00',\n",
       "               '2000-01-02 00:00:00', '2000-01-02 04:00:00',\n",
       "               '2000-01-02 08:00:00', '2000-01-02 12:00:00',\n",
       "               '2000-01-02 16:00:00', '2000-01-02 20:00:00',\n",
       "               '2000-01-03 00:00:00', '2000-01-03 04:00:00',\n",
       "               '2000-01-03 08:00:00', '2000-01-03 12:00:00',\n",
       "               '2000-01-03 16:00:00', '2000-01-03 20:00:00'],\n",
       "              dtype='datetime64[ns]', freq='4H')"
      ]
     },
     "execution_count": 37,
     "metadata": {},
     "output_type": "execute_result"
    }
   ],
   "source": [
    "pd.date_range('2000-01-01', '2000-01-03 23:59', freq='4h')"
   ]
  },
  {
   "cell_type": "code",
   "execution_count": 38,
   "metadata": {},
   "outputs": [
    {
     "data": {
      "text/plain": [
       "DatetimeIndex(['2000-01-01 00:00:00', '2000-01-01 01:30:00',\n",
       "               '2000-01-01 03:00:00', '2000-01-01 04:30:00',\n",
       "               '2000-01-01 06:00:00', '2000-01-01 07:30:00',\n",
       "               '2000-01-01 09:00:00', '2000-01-01 10:30:00',\n",
       "               '2000-01-01 12:00:00', '2000-01-01 13:30:00'],\n",
       "              dtype='datetime64[ns]', freq='90T')"
      ]
     },
     "execution_count": 38,
     "metadata": {},
     "output_type": "execute_result"
    }
   ],
   "source": [
    "pd.date_range('2000-01-01', periods=10, freq='1h30min')"
   ]
  },
  {
   "cell_type": "markdown",
   "metadata": {},
   "source": [
    "#### *3.3 WOM日期*"
   ]
  },
  {
   "cell_type": "code",
   "execution_count": 39,
   "metadata": {},
   "outputs": [
    {
     "data": {
      "text/plain": [
       "[Timestamp('2012-01-20 00:00:00', freq='WOM-3FRI'),\n",
       " Timestamp('2012-02-17 00:00:00', freq='WOM-3FRI'),\n",
       " Timestamp('2012-03-16 00:00:00', freq='WOM-3FRI'),\n",
       " Timestamp('2012-04-20 00:00:00', freq='WOM-3FRI'),\n",
       " Timestamp('2012-05-18 00:00:00', freq='WOM-3FRI'),\n",
       " Timestamp('2012-06-15 00:00:00', freq='WOM-3FRI'),\n",
       " Timestamp('2012-07-20 00:00:00', freq='WOM-3FRI'),\n",
       " Timestamp('2012-08-17 00:00:00', freq='WOM-3FRI')]"
      ]
     },
     "execution_count": 39,
     "metadata": {},
     "output_type": "execute_result"
    }
   ],
   "source": [
    "# WOM（Week Of Month）是一种非常实用的频率类，它以WOM开头。\n",
    "# 它使你能获得诸如“每月第3个星期五”之类的日期：\n",
    "rng = pd.date_range('2012-01-01', '2012-09-01', freq='WOM-3FRI')\n",
    "list(rng)"
   ]
  },
  {
   "cell_type": "markdown",
   "metadata": {},
   "source": [
    "#### *3.4 移动（超前和滞后）数据*"
   ]
  },
  {
   "cell_type": "code",
   "execution_count": 40,
   "metadata": {},
   "outputs": [
    {
     "data": {
      "text/plain": [
       "2000-01-31    0.309445\n",
       "2000-02-29    0.411688\n",
       "2000-03-31   -1.094780\n",
       "2000-04-30   -0.061614\n",
       "Freq: M, dtype: float64"
      ]
     },
     "execution_count": 40,
     "metadata": {},
     "output_type": "execute_result"
    }
   ],
   "source": [
    "ts = pd.Series(np.random.randn(4),\n",
    "             index=pd.date_range('1/1/2000', periods=4, freq='M'))\n",
    "\n",
    "ts"
   ]
  },
  {
   "cell_type": "code",
   "execution_count": 41,
   "metadata": {},
   "outputs": [
    {
     "data": {
      "text/plain": [
       "2000-01-31         NaN\n",
       "2000-02-29         NaN\n",
       "2000-03-31    0.309445\n",
       "2000-04-30    0.411688\n",
       "Freq: M, dtype: float64"
      ]
     },
     "execution_count": 41,
     "metadata": {},
     "output_type": "execute_result"
    }
   ],
   "source": [
    "ts.shift(2)"
   ]
  },
  {
   "cell_type": "code",
   "execution_count": 42,
   "metadata": {},
   "outputs": [
    {
     "data": {
      "text/plain": [
       "2000-03-31    0.309445\n",
       "2000-04-30    0.411688\n",
       "2000-05-31   -1.094780\n",
       "2000-06-30   -0.061614\n",
       "Freq: M, dtype: float64"
      ]
     },
     "execution_count": 42,
     "metadata": {},
     "output_type": "execute_result"
    }
   ],
   "source": [
    "ts.shift(2, freq='M')"
   ]
  },
  {
   "cell_type": "markdown",
   "metadata": {},
   "source": [
    "#### *3.5 通过偏移量对日期进行位移*"
   ]
  },
  {
   "cell_type": "code",
   "execution_count": 43,
   "metadata": {},
   "outputs": [
    {
     "data": {
      "text/plain": [
       "Timestamp('2011-11-20 00:00:00')"
      ]
     },
     "execution_count": 43,
     "metadata": {},
     "output_type": "execute_result"
    }
   ],
   "source": [
    "from pandas.tseries.offsets import Day, MonthEnd\n",
    "now = datetime(2011, 11, 17)\n",
    "now + 3 * Day()"
   ]
  },
  {
   "cell_type": "code",
   "execution_count": 44,
   "metadata": {},
   "outputs": [
    {
     "data": {
      "text/plain": [
       "Timestamp('2011-11-30 00:00:00')"
      ]
     },
     "execution_count": 44,
     "metadata": {},
     "output_type": "execute_result"
    }
   ],
   "source": [
    "now + MonthEnd()"
   ]
  },
  {
   "cell_type": "code",
   "execution_count": 45,
   "metadata": {},
   "outputs": [
    {
     "data": {
      "text/plain": [
       "Timestamp('2011-12-31 00:00:00')"
      ]
     },
     "execution_count": 45,
     "metadata": {},
     "output_type": "execute_result"
    }
   ],
   "source": [
    "now + MonthEnd(2)"
   ]
  },
  {
   "cell_type": "code",
   "execution_count": 46,
   "metadata": {},
   "outputs": [
    {
     "data": {
      "text/plain": [
       "Timestamp('2011-11-30 00:00:00')"
      ]
     },
     "execution_count": 46,
     "metadata": {},
     "output_type": "execute_result"
    }
   ],
   "source": [
    "offset = MonthEnd()\n",
    "offset.rollforward(now)"
   ]
  },
  {
   "cell_type": "code",
   "execution_count": 47,
   "metadata": {},
   "outputs": [
    {
     "data": {
      "text/plain": [
       "Timestamp('2011-10-31 00:00:00')"
      ]
     },
     "execution_count": 47,
     "metadata": {},
     "output_type": "execute_result"
    }
   ],
   "source": [
    "offset.rollback(now)"
   ]
  },
  {
   "cell_type": "code",
   "execution_count": 48,
   "metadata": {},
   "outputs": [
    {
     "data": {
      "text/plain": [
       "2000-01-15   -0.898079\n",
       "2000-01-19    0.418613\n",
       "2000-01-23   -0.027204\n",
       "2000-01-27   -0.646018\n",
       "2000-01-31   -0.575322\n",
       "2000-02-04    0.743394\n",
       "2000-02-08   -0.525013\n",
       "2000-02-12   -1.429528\n",
       "2000-02-16   -0.960326\n",
       "2000-02-20    0.296981\n",
       "2000-02-24    0.640401\n",
       "2000-02-28   -0.993267\n",
       "2000-03-03    0.197453\n",
       "2000-03-07    1.045842\n",
       "2000-03-11   -0.318734\n",
       "2000-03-15    0.051568\n",
       "2000-03-19   -0.640207\n",
       "2000-03-23    0.543802\n",
       "2000-03-27   -1.360973\n",
       "2000-03-31    0.273694\n",
       "Freq: 4D, dtype: float64"
      ]
     },
     "execution_count": 48,
     "metadata": {},
     "output_type": "execute_result"
    }
   ],
   "source": [
    "ts = pd.Series(np.random.randn(20),\n",
    "    index=pd.date_range('1/15/2000', periods=20, freq='4d'))\n",
    "ts    "
   ]
  },
  {
   "cell_type": "code",
   "execution_count": 49,
   "metadata": {},
   "outputs": [
    {
     "data": {
      "text/plain": [
       "2000-01-31   -0.345602\n",
       "2000-02-29   -0.318194\n",
       "2000-03-31   -0.025944\n",
       "dtype: float64"
      ]
     },
     "execution_count": 49,
     "metadata": {},
     "output_type": "execute_result"
    }
   ],
   "source": [
    "ts.groupby(offset.rollforward).mean()"
   ]
  },
  {
   "cell_type": "code",
   "execution_count": 50,
   "metadata": {},
   "outputs": [
    {
     "data": {
      "text/plain": [
       "2000-01-31   -0.345602\n",
       "2000-02-29   -0.318194\n",
       "2000-03-31   -0.025944\n",
       "Freq: M, dtype: float64"
      ]
     },
     "execution_count": 50,
     "metadata": {},
     "output_type": "execute_result"
    }
   ],
   "source": [
    "ts.resample('M').mean()"
   ]
  },
  {
   "cell_type": "markdown",
   "metadata": {},
   "source": [
    "### *四、时区处理*"
   ]
  },
  {
   "cell_type": "code",
   "execution_count": 51,
   "metadata": {},
   "outputs": [
    {
     "data": {
      "text/plain": [
       "['US/Eastern', 'US/Hawaii', 'US/Mountain', 'US/Pacific', 'UTC']"
      ]
     },
     "execution_count": 51,
     "metadata": {},
     "output_type": "execute_result"
    }
   ],
   "source": [
    "import pytz\n",
    "pytz.common_timezones[-5:]"
   ]
  },
  {
   "cell_type": "code",
   "execution_count": 52,
   "metadata": {},
   "outputs": [
    {
     "data": {
      "text/plain": [
       "<DstTzInfo 'America/New_York' LMT-1 day, 19:04:00 STD>"
      ]
     },
     "execution_count": 52,
     "metadata": {},
     "output_type": "execute_result"
    }
   ],
   "source": [
    "tz = pytz.timezone('America/New_York')\n",
    "tz"
   ]
  },
  {
   "cell_type": "markdown",
   "metadata": {},
   "source": [
    "#### *4.1 时区本地化和转换*"
   ]
  },
  {
   "cell_type": "code",
   "execution_count": 53,
   "metadata": {},
   "outputs": [
    {
     "data": {
      "text/plain": [
       "2012-03-09 09:30:00   -0.992164\n",
       "2012-03-10 09:30:00    0.805313\n",
       "2012-03-11 09:30:00    0.049895\n",
       "2012-03-12 09:30:00   -0.757326\n",
       "2012-03-13 09:30:00    0.319401\n",
       "2012-03-14 09:30:00   -1.232725\n",
       "Freq: D, dtype: float64"
      ]
     },
     "execution_count": 53,
     "metadata": {},
     "output_type": "execute_result"
    }
   ],
   "source": [
    "# 默认情况下，pandas中的时间序列是单纯（naive）的时区。看看下面这个时间序列：\n",
    "rng = pd.date_range('3/9/2012 9:30', periods=6, freq='D')\n",
    "ts = pd.Series(np.random.randn(len(rng)), index=rng)\n",
    "ts"
   ]
  },
  {
   "cell_type": "code",
   "execution_count": 54,
   "metadata": {},
   "outputs": [
    {
     "name": "stdout",
     "output_type": "stream",
     "text": [
      "None\n"
     ]
    }
   ],
   "source": [
    "print(ts.index.tz)"
   ]
  },
  {
   "cell_type": "code",
   "execution_count": 55,
   "metadata": {},
   "outputs": [
    {
     "data": {
      "text/plain": [
       "DatetimeIndex(['2012-03-09 09:30:00+00:00', '2012-03-10 09:30:00+00:00',\n",
       "               '2012-03-11 09:30:00+00:00', '2012-03-12 09:30:00+00:00',\n",
       "               '2012-03-13 09:30:00+00:00', '2012-03-14 09:30:00+00:00',\n",
       "               '2012-03-15 09:30:00+00:00', '2012-03-16 09:30:00+00:00',\n",
       "               '2012-03-17 09:30:00+00:00', '2012-03-18 09:30:00+00:00'],\n",
       "              dtype='datetime64[ns, UTC]', freq='D')"
      ]
     },
     "execution_count": 55,
     "metadata": {},
     "output_type": "execute_result"
    }
   ],
   "source": [
    "pd.date_range('3/9/2012 9:30', periods=10, freq='D', tz='UTC')"
   ]
  },
  {
   "cell_type": "code",
   "execution_count": 56,
   "metadata": {},
   "outputs": [
    {
     "data": {
      "text/plain": [
       "2012-03-09 09:30:00   -0.992164\n",
       "2012-03-10 09:30:00    0.805313\n",
       "2012-03-11 09:30:00    0.049895\n",
       "2012-03-12 09:30:00   -0.757326\n",
       "2012-03-13 09:30:00    0.319401\n",
       "2012-03-14 09:30:00   -1.232725\n",
       "Freq: D, dtype: float64"
      ]
     },
     "execution_count": 56,
     "metadata": {},
     "output_type": "execute_result"
    }
   ],
   "source": [
    "ts"
   ]
  },
  {
   "cell_type": "code",
   "execution_count": 57,
   "metadata": {},
   "outputs": [
    {
     "data": {
      "text/plain": [
       "2012-03-09 09:30:00+00:00   -0.992164\n",
       "2012-03-10 09:30:00+00:00    0.805313\n",
       "2012-03-11 09:30:00+00:00    0.049895\n",
       "2012-03-12 09:30:00+00:00   -0.757326\n",
       "2012-03-13 09:30:00+00:00    0.319401\n",
       "2012-03-14 09:30:00+00:00   -1.232725\n",
       "Freq: D, dtype: float64"
      ]
     },
     "execution_count": 57,
     "metadata": {},
     "output_type": "execute_result"
    }
   ],
   "source": [
    "ts_utc = ts.tz_localize('UTC')\n",
    "ts_utc"
   ]
  },
  {
   "cell_type": "code",
   "execution_count": 58,
   "metadata": {},
   "outputs": [
    {
     "data": {
      "text/plain": [
       "DatetimeIndex(['2012-03-09 09:30:00+00:00', '2012-03-10 09:30:00+00:00',\n",
       "               '2012-03-11 09:30:00+00:00', '2012-03-12 09:30:00+00:00',\n",
       "               '2012-03-13 09:30:00+00:00', '2012-03-14 09:30:00+00:00'],\n",
       "              dtype='datetime64[ns, UTC]', freq='D')"
      ]
     },
     "execution_count": 58,
     "metadata": {},
     "output_type": "execute_result"
    }
   ],
   "source": [
    "ts_utc.index"
   ]
  },
  {
   "cell_type": "code",
   "execution_count": 59,
   "metadata": {},
   "outputs": [
    {
     "data": {
      "text/plain": [
       "2012-03-09 04:30:00-05:00   -0.992164\n",
       "2012-03-10 04:30:00-05:00    0.805313\n",
       "2012-03-11 05:30:00-04:00    0.049895\n",
       "2012-03-12 05:30:00-04:00   -0.757326\n",
       "2012-03-13 05:30:00-04:00    0.319401\n",
       "2012-03-14 05:30:00-04:00   -1.232725\n",
       "Freq: D, dtype: float64"
      ]
     },
     "execution_count": 59,
     "metadata": {},
     "output_type": "execute_result"
    }
   ],
   "source": [
    "# 一旦时间序列被本地化到某个特定时区，就可以用tz_convert将其转换到别的时区了：\n",
    "ts_utc.tz_convert('America/New_York')"
   ]
  },
  {
   "cell_type": "code",
   "execution_count": 60,
   "metadata": {},
   "outputs": [
    {
     "data": {
      "text/plain": [
       "2012-03-09 14:30:00+00:00   -0.992164\n",
       "2012-03-10 14:30:00+00:00    0.805313\n",
       "2012-03-11 13:30:00+00:00    0.049895\n",
       "2012-03-12 13:30:00+00:00   -0.757326\n",
       "2012-03-13 13:30:00+00:00    0.319401\n",
       "2012-03-14 13:30:00+00:00   -1.232725\n",
       "dtype: float64"
      ]
     },
     "execution_count": 60,
     "metadata": {},
     "output_type": "execute_result"
    }
   ],
   "source": [
    "ts_eastern = ts.tz_localize('America/New_York')\n",
    "ts_eastern.tz_convert('UTC')"
   ]
  },
  {
   "cell_type": "code",
   "execution_count": 61,
   "metadata": {},
   "outputs": [
    {
     "data": {
      "text/plain": [
       "2012-03-09 15:30:00+01:00   -0.992164\n",
       "2012-03-10 15:30:00+01:00    0.805313\n",
       "2012-03-11 14:30:00+01:00    0.049895\n",
       "2012-03-12 14:30:00+01:00   -0.757326\n",
       "2012-03-13 14:30:00+01:00    0.319401\n",
       "2012-03-14 14:30:00+01:00   -1.232725\n",
       "dtype: float64"
      ]
     },
     "execution_count": 61,
     "metadata": {},
     "output_type": "execute_result"
    }
   ],
   "source": [
    "ts_eastern.tz_convert('Europe/Berlin')"
   ]
  },
  {
   "cell_type": "code",
   "execution_count": 62,
   "metadata": {},
   "outputs": [
    {
     "data": {
      "text/plain": [
       "DatetimeIndex(['2012-03-09 09:30:00+08:00', '2012-03-10 09:30:00+08:00',\n",
       "               '2012-03-11 09:30:00+08:00', '2012-03-12 09:30:00+08:00',\n",
       "               '2012-03-13 09:30:00+08:00', '2012-03-14 09:30:00+08:00'],\n",
       "              dtype='datetime64[ns, Asia/Shanghai]', freq=None)"
      ]
     },
     "execution_count": 62,
     "metadata": {},
     "output_type": "execute_result"
    }
   ],
   "source": [
    "ts.index.tz_localize('Asia/Shanghai')"
   ]
  },
  {
   "cell_type": "markdown",
   "metadata": {},
   "source": [
    "#### *4.2 操作时区意识型Timestamp对象*"
   ]
  },
  {
   "cell_type": "code",
   "execution_count": 63,
   "metadata": {},
   "outputs": [
    {
     "data": {
      "text/plain": [
       "Timestamp('2011-03-11 23:00:00-0500', tz='America/New_York')"
      ]
     },
     "execution_count": 63,
     "metadata": {},
     "output_type": "execute_result"
    }
   ],
   "source": [
    "# 跟时间序列和日期范围差不多，独立的Timestamp对象也能被从单纯型（naive）\n",
    "# 本地化为时区意识型（time zone-aware），并从一个时区转换到另一个时区：\n",
    "stamp = pd.Timestamp('2011-03-12 04:00')\n",
    "stamp_utc = stamp.tz_localize('utc')\n",
    "stamp_utc.tz_convert('America/New_York')"
   ]
  },
  {
   "cell_type": "code",
   "execution_count": 64,
   "metadata": {},
   "outputs": [
    {
     "data": {
      "text/plain": [
       "Timestamp('2011-03-12 04:00:00+0300', tz='Europe/Moscow')"
      ]
     },
     "execution_count": 64,
     "metadata": {},
     "output_type": "execute_result"
    }
   ],
   "source": [
    "stamp_moscow = pd.Timestamp('2011-03-12 04:00', tz='Europe/Moscow')\n",
    "stamp_moscow"
   ]
  },
  {
   "cell_type": "code",
   "execution_count": 65,
   "metadata": {},
   "outputs": [
    {
     "data": {
      "text/plain": [
       "1299902400000000000"
      ]
     },
     "execution_count": 65,
     "metadata": {},
     "output_type": "execute_result"
    }
   ],
   "source": [
    "stamp_utc.value"
   ]
  },
  {
   "cell_type": "code",
   "execution_count": 66,
   "metadata": {},
   "outputs": [
    {
     "data": {
      "text/plain": [
       "1299902400000000000"
      ]
     },
     "execution_count": 66,
     "metadata": {},
     "output_type": "execute_result"
    }
   ],
   "source": [
    "stamp_utc.tz_convert('America/New_York').value"
   ]
  },
  {
   "cell_type": "markdown",
   "metadata": {},
   "source": [
    "#### *4.3 同时区之间的运算*"
   ]
  },
  {
   "cell_type": "code",
   "execution_count": 67,
   "metadata": {},
   "outputs": [
    {
     "data": {
      "text/plain": [
       "2012-03-07 09:30:00    1.200535\n",
       "2012-03-08 09:30:00   -0.980534\n",
       "2012-03-09 09:30:00   -0.817876\n",
       "2012-03-12 09:30:00    0.423303\n",
       "2012-03-13 09:30:00    0.689695\n",
       "2012-03-14 09:30:00   -0.348001\n",
       "2012-03-15 09:30:00   -0.935042\n",
       "2012-03-16 09:30:00   -0.921287\n",
       "2012-03-19 09:30:00   -0.979512\n",
       "2012-03-20 09:30:00    0.711289\n",
       "Freq: B, dtype: float64"
      ]
     },
     "execution_count": 67,
     "metadata": {},
     "output_type": "execute_result"
    }
   ],
   "source": [
    "rng = pd.date_range('3/7/2012 9:30', periods=10, freq='B')\n",
    "ts = pd.Series(np.random.randn(len(rng)), index=rng)\n",
    "ts1 = ts[:7].tz_localize('Europe/London')\n",
    "ts2 = ts1[2:].tz_convert('Europe/Moscow')\n",
    "ts"
   ]
  },
  {
   "cell_type": "code",
   "execution_count": 68,
   "metadata": {},
   "outputs": [
    {
     "data": {
      "text/plain": [
       "2012-03-07 09:30:00+00:00    1.200535\n",
       "2012-03-08 09:30:00+00:00   -0.980534\n",
       "2012-03-09 09:30:00+00:00   -0.817876\n",
       "2012-03-12 09:30:00+00:00    0.423303\n",
       "2012-03-13 09:30:00+00:00    0.689695\n",
       "2012-03-14 09:30:00+00:00   -0.348001\n",
       "2012-03-15 09:30:00+00:00   -0.935042\n",
       "dtype: float64"
      ]
     },
     "execution_count": 68,
     "metadata": {},
     "output_type": "execute_result"
    }
   ],
   "source": [
    "ts1"
   ]
  },
  {
   "cell_type": "code",
   "execution_count": 69,
   "metadata": {},
   "outputs": [
    {
     "data": {
      "text/plain": [
       "2012-03-09 13:30:00+04:00   -0.817876\n",
       "2012-03-12 13:30:00+04:00    0.423303\n",
       "2012-03-13 13:30:00+04:00    0.689695\n",
       "2012-03-14 13:30:00+04:00   -0.348001\n",
       "2012-03-15 13:30:00+04:00   -0.935042\n",
       "dtype: float64"
      ]
     },
     "execution_count": 69,
     "metadata": {},
     "output_type": "execute_result"
    }
   ],
   "source": [
    "ts2"
   ]
  },
  {
   "cell_type": "code",
   "execution_count": 70,
   "metadata": {},
   "outputs": [
    {
     "data": {
      "text/plain": [
       "DatetimeIndex(['2012-03-07 09:30:00+00:00', '2012-03-08 09:30:00+00:00',\n",
       "               '2012-03-09 09:30:00+00:00', '2012-03-12 09:30:00+00:00',\n",
       "               '2012-03-13 09:30:00+00:00', '2012-03-14 09:30:00+00:00',\n",
       "               '2012-03-15 09:30:00+00:00'],\n",
       "              dtype='datetime64[ns, UTC]', freq=None)"
      ]
     },
     "execution_count": 70,
     "metadata": {},
     "output_type": "execute_result"
    }
   ],
   "source": [
    "result = ts1 + ts2\n",
    "result.index"
   ]
  },
  {
   "cell_type": "markdown",
   "metadata": {},
   "source": [
    "### *五、时期及其算术运算*  "
   ]
  },
  {
   "cell_type": "code",
   "execution_count": 71,
   "metadata": {},
   "outputs": [
    {
     "data": {
      "text/plain": [
       "Period('2007', 'A-DEC')"
      ]
     },
     "execution_count": 71,
     "metadata": {},
     "output_type": "execute_result"
    }
   ],
   "source": [
    "\"\"\"\n",
    "时期（period）表示的是时间区间，比如数日、数月、数季、数年等。\n",
    "Period类所表示的就是这种数据类型，其构造函数需要用到一个字符串或整数，以及表11-4中的频率：\n",
    "\"\"\"\n",
    "p = pd.Period(2007, freq='A-DEC')\n",
    "p # Period对象表示的是从2007年1月1日到2007年12月31日之间的整段时间"
   ]
  },
  {
   "cell_type": "code",
   "execution_count": 72,
   "metadata": {},
   "outputs": [
    {
     "data": {
      "text/plain": [
       "Period('2012', 'A-DEC')"
      ]
     },
     "execution_count": 72,
     "metadata": {},
     "output_type": "execute_result"
    }
   ],
   "source": [
    "p + 5"
   ]
  },
  {
   "cell_type": "code",
   "execution_count": 73,
   "metadata": {},
   "outputs": [
    {
     "data": {
      "text/plain": [
       "<7 * YearEnds: month=12>"
      ]
     },
     "execution_count": 73,
     "metadata": {},
     "output_type": "execute_result"
    }
   ],
   "source": [
    "# 如果两个Period对象拥有相同的频率，则它们的差就是它们之间的单位数量\n",
    "pd.Period('2014', freq='A-DEC') - p"
   ]
  },
  {
   "cell_type": "code",
   "execution_count": 74,
   "metadata": {},
   "outputs": [
    {
     "data": {
      "text/plain": [
       "PeriodIndex(['2000-01', '2000-02', '2000-03', '2000-04', '2000-05', '2000-06'], dtype='period[M]')"
      ]
     },
     "execution_count": 74,
     "metadata": {},
     "output_type": "execute_result"
    }
   ],
   "source": [
    "\"\"\"\n",
    "period_range函数可用于创建规则的时期范围：\n",
    "\"\"\"\n",
    "rng = pd.period_range('2000-01-01', '2000-06-30', freq='M')\n",
    "rng"
   ]
  },
  {
   "cell_type": "code",
   "execution_count": 75,
   "metadata": {},
   "outputs": [
    {
     "data": {
      "text/plain": [
       "2000-01   -1.695061\n",
       "2000-02    0.672975\n",
       "2000-03    0.209915\n",
       "2000-04   -0.647811\n",
       "2000-05    0.047767\n",
       "2000-06   -0.471093\n",
       "Freq: M, dtype: float64"
      ]
     },
     "execution_count": 75,
     "metadata": {},
     "output_type": "execute_result"
    }
   ],
   "source": [
    "pd.Series(np.random.randn(6), index=rng)"
   ]
  },
  {
   "cell_type": "code",
   "execution_count": 76,
   "metadata": {},
   "outputs": [
    {
     "data": {
      "text/plain": [
       "PeriodIndex(['2001Q3', '2002Q2', '2003Q1'], dtype='period[Q-DEC]')"
      ]
     },
     "execution_count": 76,
     "metadata": {},
     "output_type": "execute_result"
    }
   ],
   "source": [
    "values = ['2001Q3', '2002Q2', '2003Q1']\n",
    "index = pd.PeriodIndex(values, freq='Q-DEC')\n",
    "index"
   ]
  },
  {
   "cell_type": "code",
   "execution_count": 77,
   "metadata": {},
   "outputs": [
    {
     "data": {
      "text/plain": [
       "2001Q3   -0.971521\n",
       "2002Q2   -0.045710\n",
       "2003Q1    0.339002\n",
       "Freq: Q-DEC, dtype: float64"
      ]
     },
     "execution_count": 77,
     "metadata": {},
     "output_type": "execute_result"
    }
   ],
   "source": [
    "pd.Series(np.random.randn(3), index=index)"
   ]
  },
  {
   "cell_type": "markdown",
   "metadata": {},
   "source": [
    "#### *5.1 时期的频率转换*"
   ]
  },
  {
   "cell_type": "code",
   "execution_count": 79,
   "metadata": {},
   "outputs": [
    {
     "data": {
      "text/plain": [
       "Period('2007', 'A-DEC')"
      ]
     },
     "execution_count": 79,
     "metadata": {},
     "output_type": "execute_result"
    }
   ],
   "source": [
    "p = pd.Period('2007', freq='A-DEC')\n",
    "p"
   ]
  },
  {
   "cell_type": "code",
   "execution_count": 85,
   "metadata": {},
   "outputs": [
    {
     "name": "stdout",
     "output_type": "stream",
     "text": [
      "2007-01\n",
      "2007-12\n"
     ]
    }
   ],
   "source": [
    "print(p.asfreq('M', how='start'))\n",
    "print(p.asfreq('M', how='end'))"
   ]
  },
  {
   "cell_type": "code",
   "execution_count": 86,
   "metadata": {},
   "outputs": [
    {
     "data": {
      "text/plain": [
       "Period('2007', 'A-JUN')"
      ]
     },
     "execution_count": 86,
     "metadata": {},
     "output_type": "execute_result"
    }
   ],
   "source": [
    "# 可以将Period('2007','A-DEC')看做一个被划分为多个月度时期的时间段中的游标\n",
    "p = pd.Period('2007', freq='A-JUN')\n",
    "p"
   ]
  },
  {
   "cell_type": "code",
   "execution_count": 87,
   "metadata": {},
   "outputs": [
    {
     "data": {
      "text/plain": [
       "Period('2006-07', 'M')"
      ]
     },
     "execution_count": 87,
     "metadata": {},
     "output_type": "execute_result"
    }
   ],
   "source": [
    "p.asfreq('M', 'start')"
   ]
  },
  {
   "cell_type": "code",
   "execution_count": 88,
   "metadata": {},
   "outputs": [
    {
     "data": {
      "text/plain": [
       "Period('2007-06', 'M')"
      ]
     },
     "execution_count": 88,
     "metadata": {},
     "output_type": "execute_result"
    }
   ],
   "source": [
    "p.asfreq('M', 'end')"
   ]
  },
  {
   "cell_type": "code",
   "execution_count": 89,
   "metadata": {},
   "outputs": [
    {
     "data": {
      "text/plain": [
       "Period('2007-08', 'M')"
      ]
     },
     "execution_count": 89,
     "metadata": {},
     "output_type": "execute_result"
    }
   ],
   "source": [
    "# 在将高频率转换为低频率时，超时期（superperiod）是由子时期（subperiod）所属的位置决定的。\n",
    "# 例如，在A-JUN频率中，月份“2007年8月”实际上是属于周期“2008年”的\n",
    "p = pd.Period('Aug-2007', 'M')\n",
    "p"
   ]
  },
  {
   "cell_type": "code",
   "execution_count": 90,
   "metadata": {},
   "outputs": [
    {
     "data": {
      "text/plain": [
       "2006   -1.589482\n",
       "2007    1.537636\n",
       "2008    1.494986\n",
       "2009   -1.596383\n",
       "Freq: A-DEC, dtype: float64"
      ]
     },
     "execution_count": 90,
     "metadata": {},
     "output_type": "execute_result"
    }
   ],
   "source": [
    "rng = pd.period_range('2006', '2009', freq='A-DEC')\n",
    "ts = pd.Series(np.random.randn(len(rng)), index=rng)\n",
    "ts"
   ]
  },
  {
   "cell_type": "code",
   "execution_count": 91,
   "metadata": {},
   "outputs": [
    {
     "data": {
      "text/plain": [
       "2006-01   -1.589482\n",
       "2007-01    1.537636\n",
       "2008-01    1.494986\n",
       "2009-01   -1.596383\n",
       "Freq: M, dtype: float64"
      ]
     },
     "execution_count": 91,
     "metadata": {},
     "output_type": "execute_result"
    }
   ],
   "source": [
    "ts.asfreq('M', how='start')"
   ]
  },
  {
   "cell_type": "code",
   "execution_count": 92,
   "metadata": {},
   "outputs": [
    {
     "data": {
      "text/plain": [
       "2006-12-29   -1.589482\n",
       "2007-12-31    1.537636\n",
       "2008-12-31    1.494986\n",
       "2009-12-31   -1.596383\n",
       "Freq: B, dtype: float64"
      ]
     },
     "execution_count": 92,
     "metadata": {},
     "output_type": "execute_result"
    }
   ],
   "source": [
    "ts.asfreq('B', how='end')"
   ]
  },
  {
   "cell_type": "markdown",
   "metadata": {},
   "source": [
    "#### *5.2 按季度计算的时期频率*  \n",
    "![](https://camo.githubusercontent.com/9824917a9cc8713d348d2b997601d5e55d4c5af194187c3519df63b32c96e8bc/687474703a2f2f75706c6f61642d696d616765732e6a69616e7368752e696f2f75706c6f61645f696d616765732f373137383639312d643230313230306430653635363736662e706e673f696d6167654d6f6772322f6175746f2d6f7269656e742f7374726970253743696d61676556696577322f322f772f31323430)\n",
    "![](https://camo.githubusercontent.com/3c8aa6170db237a2fffefb12aa76c81fb9c4c18d7507d2860c0f54895a54685d/687474703a2f2f75706c6f61642d696d616765732e6a69616e7368752e696f2f75706c6f61645f696d616765732f373137383639312d653265316435326339373636663666662e706e673f696d6167654d6f6772322f6175746f2d6f7269656e742f7374726970253743696d61676556696577322f322f772f31323430)"
   ]
  },
  {
   "cell_type": "code",
   "execution_count": 93,
   "metadata": {},
   "outputs": [
    {
     "data": {
      "text/plain": [
       "Period('2012Q4', 'Q-JAN')"
      ]
     },
     "execution_count": 93,
     "metadata": {},
     "output_type": "execute_result"
    }
   ],
   "source": [
    "p = pd.Period('2012Q4', freq='Q-JAN')\n",
    "p"
   ]
  },
  {
   "cell_type": "code",
   "execution_count": 94,
   "metadata": {},
   "outputs": [
    {
     "data": {
      "text/plain": [
       "Period('2011-11-01', 'D')"
      ]
     },
     "execution_count": 94,
     "metadata": {},
     "output_type": "execute_result"
    }
   ],
   "source": [
    "p.asfreq('D', 'start')"
   ]
  },
  {
   "cell_type": "code",
   "execution_count": 95,
   "metadata": {},
   "outputs": [
    {
     "data": {
      "text/plain": [
       "Period('2012-01-31', 'D')"
      ]
     },
     "execution_count": 95,
     "metadata": {},
     "output_type": "execute_result"
    }
   ],
   "source": [
    "p.asfreq('D', 'end')"
   ]
  },
  {
   "cell_type": "code",
   "execution_count": 101,
   "metadata": {},
   "outputs": [
    {
     "data": {
      "text/plain": [
       "Period('2012-01-30 16:00', 'T')"
      ]
     },
     "execution_count": 101,
     "metadata": {},
     "output_type": "execute_result"
    }
   ],
   "source": [
    "# Period之间的算术运算会非常简单。例如，要获取该季度倒数第二个工作日下午4点的时间戳\n",
    "p4pm = (p.asfreq('B', 'end') - 1).asfreq('min', 'start') + 16 * 60\n",
    "p4pm"
   ]
  },
  {
   "cell_type": "code",
   "execution_count": null,
   "metadata": {},
   "outputs": [],
   "source": [
    "p4pm.to_timestamp()"
   ]
  },
  {
   "cell_type": "code",
   "execution_count": 103,
   "metadata": {},
   "outputs": [
    {
     "data": {
      "text/plain": [
       "2011Q3    0\n",
       "2011Q4    1\n",
       "2012Q1    2\n",
       "2012Q2    3\n",
       "2012Q3    4\n",
       "2012Q4    5\n",
       "Freq: Q-JAN, dtype: int32"
      ]
     },
     "execution_count": 103,
     "metadata": {},
     "output_type": "execute_result"
    }
   ],
   "source": [
    "# period_range可用于生成季度型范围。季度型范围的算术运算也跟上面是一样的：\n",
    "rng = pd.period_range('2011Q3', '2012Q4', freq='Q-JAN')\n",
    "ts = pd.Series(np.arange(len(rng)), index=rng)\n",
    "ts"
   ]
  },
  {
   "cell_type": "code",
   "execution_count": 105,
   "metadata": {},
   "outputs": [
    {
     "data": {
      "text/plain": [
       "2010-10-28 16:00:00    0\n",
       "2011-01-28 16:00:00    1\n",
       "2011-04-28 16:00:00    2\n",
       "2011-07-28 16:00:00    3\n",
       "2011-10-28 16:00:00    4\n",
       "2012-01-30 16:00:00    5\n",
       "dtype: int32"
      ]
     },
     "execution_count": 105,
     "metadata": {},
     "output_type": "execute_result"
    }
   ],
   "source": [
    "new_rng = (rng.asfreq('B', 'e') - 1).asfreq('T', 's') + 16 * 60\n",
    "ts.index = new_rng.to_timestamp()\n",
    "ts"
   ]
  },
  {
   "cell_type": "markdown",
   "metadata": {},
   "source": [
    "#### *5.3 将Timestamp转换为Period（及其反向过程）*"
   ]
  },
  {
   "cell_type": "code",
   "execution_count": 109,
   "metadata": {},
   "outputs": [
    {
     "data": {
      "text/plain": [
       "2000-01-31    1.481477\n",
       "2000-02-29   -0.642672\n",
       "2000-03-31    1.412730\n",
       "Freq: M, dtype: float64"
      ]
     },
     "execution_count": 109,
     "metadata": {},
     "output_type": "execute_result"
    }
   ],
   "source": [
    "rng = pd.date_range('2000-01-01', periods=3, freq='M') # -->时间段\n",
    "ts = pd.Series(np.random.randn(3), index=rng)\n",
    "ts"
   ]
  },
  {
   "cell_type": "code",
   "execution_count": 111,
   "metadata": {},
   "outputs": [
    {
     "data": {
      "text/plain": [
       "2000-01    1.481477\n",
       "2000-02   -0.642672\n",
       "2000-03    1.412730\n",
       "Freq: M, dtype: float64"
      ]
     },
     "execution_count": 111,
     "metadata": {},
     "output_type": "execute_result"
    }
   ],
   "source": [
    "pts = ts.to_period()\n",
    "pts"
   ]
  },
  {
   "cell_type": "code",
   "execution_count": 112,
   "metadata": {},
   "outputs": [
    {
     "data": {
      "text/plain": [
       "2000-01-29    0.529426\n",
       "2000-01-30   -1.050481\n",
       "2000-01-31   -0.341063\n",
       "2000-02-01   -2.230153\n",
       "2000-02-02    0.874740\n",
       "2000-02-03    0.105202\n",
       "Freq: D, dtype: float64"
      ]
     },
     "execution_count": 112,
     "metadata": {},
     "output_type": "execute_result"
    }
   ],
   "source": [
    "rng = pd.date_range('1/29/2000', periods=6, freq='D')\n",
    "ts2 = pd.Series(np.random.randn(6), index=rng)\n",
    "ts2"
   ]
  },
  {
   "cell_type": "code",
   "execution_count": 119,
   "metadata": {},
   "outputs": [
    {
     "data": {
      "text/plain": [
       "2000-01    0.529426\n",
       "2000-01   -1.050481\n",
       "2000-01   -0.341063\n",
       "2000-02   -2.230153\n",
       "2000-02    0.874740\n",
       "2000-02    0.105202\n",
       "Freq: M, dtype: float64"
      ]
     },
     "execution_count": 119,
     "metadata": {},
     "output_type": "execute_result"
    }
   ],
   "source": [
    "ts2.to_period('M')"
   ]
  },
  {
   "cell_type": "code",
   "execution_count": 120,
   "metadata": {},
   "outputs": [
    {
     "data": {
      "text/plain": [
       "2000-01-29 23:59:59.999999999    0.529426\n",
       "2000-01-30 23:59:59.999999999   -1.050481\n",
       "2000-01-31 23:59:59.999999999   -0.341063\n",
       "2000-02-01 23:59:59.999999999   -2.230153\n",
       "2000-02-02 23:59:59.999999999    0.874740\n",
       "2000-02-03 23:59:59.999999999    0.105202\n",
       "Freq: D, dtype: float64"
      ]
     },
     "execution_count": 120,
     "metadata": {},
     "output_type": "execute_result"
    }
   ],
   "source": [
    "# 要转换回时间戳，使用to_timestamp即可：\n",
    "pts = ts2.to_period()\n",
    "pts.to_timestamp(how='end')"
   ]
  },
  {
   "cell_type": "markdown",
   "metadata": {},
   "source": [
    "#### *5.4 通过数组创建PeriodIndex*"
   ]
  },
  {
   "cell_type": "code",
   "execution_count": 122,
   "metadata": {},
   "outputs": [
    {
     "data": {
      "text/html": [
       "<div>\n",
       "<style scoped>\n",
       "    .dataframe tbody tr th:only-of-type {\n",
       "        vertical-align: middle;\n",
       "    }\n",
       "\n",
       "    .dataframe tbody tr th {\n",
       "        vertical-align: top;\n",
       "    }\n",
       "\n",
       "    .dataframe thead th {\n",
       "        text-align: right;\n",
       "    }\n",
       "</style>\n",
       "<table border=\"1\" class=\"dataframe\">\n",
       "  <thead>\n",
       "    <tr style=\"text-align: right;\">\n",
       "      <th></th>\n",
       "      <th>year</th>\n",
       "      <th>quarter</th>\n",
       "      <th>realgdp</th>\n",
       "      <th>realcons</th>\n",
       "      <th>realinv</th>\n",
       "      <th>realgovt</th>\n",
       "      <th>realdpi</th>\n",
       "      <th>cpi</th>\n",
       "      <th>m1</th>\n",
       "      <th>tbilrate</th>\n",
       "      <th>unemp</th>\n",
       "      <th>pop</th>\n",
       "      <th>infl</th>\n",
       "      <th>realint</th>\n",
       "    </tr>\n",
       "  </thead>\n",
       "  <tbody>\n",
       "    <tr>\n",
       "      <th>100</th>\n",
       "      <td>1984.0</td>\n",
       "      <td>1.0</td>\n",
       "      <td>6448.264</td>\n",
       "      <td>4239.2</td>\n",
       "      <td>921.763</td>\n",
       "      <td>644.635</td>\n",
       "      <td>4875.4</td>\n",
       "      <td>103.3</td>\n",
       "      <td>535.0</td>\n",
       "      <td>9.43</td>\n",
       "      <td>7.9</td>\n",
       "      <td>235.839</td>\n",
       "      <td>4.67</td>\n",
       "      <td>4.76</td>\n",
       "    </tr>\n",
       "    <tr>\n",
       "      <th>172</th>\n",
       "      <td>2002.0</td>\n",
       "      <td>1.0</td>\n",
       "      <td>11477.868</td>\n",
       "      <td>7957.3</td>\n",
       "      <td>1789.327</td>\n",
       "      <td>756.915</td>\n",
       "      <td>8611.6</td>\n",
       "      <td>179.3</td>\n",
       "      <td>1185.9</td>\n",
       "      <td>1.75</td>\n",
       "      <td>5.7</td>\n",
       "      <td>287.328</td>\n",
       "      <td>3.59</td>\n",
       "      <td>-1.84</td>\n",
       "    </tr>\n",
       "    <tr>\n",
       "      <th>136</th>\n",
       "      <td>1993.0</td>\n",
       "      <td>1.0</td>\n",
       "      <td>8432.485</td>\n",
       "      <td>5617.2</td>\n",
       "      <td>1054.979</td>\n",
       "      <td>762.901</td>\n",
       "      <td>6156.5</td>\n",
       "      <td>143.8</td>\n",
       "      <td>1047.6</td>\n",
       "      <td>2.92</td>\n",
       "      <td>7.2</td>\n",
       "      <td>259.414</td>\n",
       "      <td>2.79</td>\n",
       "      <td>0.13</td>\n",
       "    </tr>\n",
       "    <tr>\n",
       "      <th>105</th>\n",
       "      <td>1985.0</td>\n",
       "      <td>2.0</td>\n",
       "      <td>6797.344</td>\n",
       "      <td>4505.2</td>\n",
       "      <td>943.383</td>\n",
       "      <td>708.524</td>\n",
       "      <td>5172.7</td>\n",
       "      <td>107.7</td>\n",
       "      <td>589.1</td>\n",
       "      <td>7.17</td>\n",
       "      <td>7.3</td>\n",
       "      <td>238.466</td>\n",
       "      <td>2.61</td>\n",
       "      <td>4.56</td>\n",
       "    </tr>\n",
       "    <tr>\n",
       "      <th>115</th>\n",
       "      <td>1987.0</td>\n",
       "      <td>4.0</td>\n",
       "      <td>7458.022</td>\n",
       "      <td>4922.2</td>\n",
       "      <td>1021.980</td>\n",
       "      <td>795.467</td>\n",
       "      <td>5493.1</td>\n",
       "      <td>116.0</td>\n",
       "      <td>756.2</td>\n",
       "      <td>5.76</td>\n",
       "      <td>5.9</td>\n",
       "      <td>243.981</td>\n",
       "      <td>3.46</td>\n",
       "      <td>2.29</td>\n",
       "    </tr>\n",
       "  </tbody>\n",
       "</table>\n",
       "</div>"
      ],
      "text/plain": [
       "       year  quarter    realgdp  realcons   realinv  realgovt  realdpi    cpi  \\\n",
       "100  1984.0      1.0   6448.264    4239.2   921.763   644.635   4875.4  103.3   \n",
       "172  2002.0      1.0  11477.868    7957.3  1789.327   756.915   8611.6  179.3   \n",
       "136  1993.0      1.0   8432.485    5617.2  1054.979   762.901   6156.5  143.8   \n",
       "105  1985.0      2.0   6797.344    4505.2   943.383   708.524   5172.7  107.7   \n",
       "115  1987.0      4.0   7458.022    4922.2  1021.980   795.467   5493.1  116.0   \n",
       "\n",
       "         m1  tbilrate  unemp      pop  infl  realint  \n",
       "100   535.0      9.43    7.9  235.839  4.67     4.76  \n",
       "172  1185.9      1.75    5.7  287.328  3.59    -1.84  \n",
       "136  1047.6      2.92    7.2  259.414  2.79     0.13  \n",
       "105   589.1      7.17    7.3  238.466  2.61     4.56  \n",
       "115   756.2      5.76    5.9  243.981  3.46     2.29  "
      ]
     },
     "execution_count": 122,
     "metadata": {},
     "output_type": "execute_result"
    }
   ],
   "source": [
    "# 固定频率的数据集通常会将时间信息分开存放在多个列中。\n",
    "# 例如，在下面这个宏观经济数据集中，年度和季度就分别存放在不同的列中\n",
    "data = pd.read_csv('examples/macrodata.csv')\n",
    "data.sample(5)"
   ]
  },
  {
   "cell_type": "code",
   "execution_count": 124,
   "metadata": {},
   "outputs": [
    {
     "data": {
      "text/plain": [
       "PeriodIndex(['1959Q1', '1959Q2', '1959Q3', '1959Q4', '1960Q1', '1960Q2',\n",
       "             '1960Q3', '1960Q4', '1961Q1', '1961Q2',\n",
       "             ...\n",
       "             '2007Q2', '2007Q3', '2007Q4', '2008Q1', '2008Q2', '2008Q3',\n",
       "             '2008Q4', '2009Q1', '2009Q2', '2009Q3'],\n",
       "            dtype='period[Q-DEC]', length=203)"
      ]
     },
     "execution_count": 124,
     "metadata": {},
     "output_type": "execute_result"
    }
   ],
   "source": [
    "# 通过将这些数组以及一个频率传入PeriodIndex，就可以将它们合并成DataFrame的一个索引：\n",
    "index = pd.PeriodIndex(year=data.year, quarter=data.quarter,\n",
    "                       freq='Q-DEC')\n",
    "index                 "
   ]
  },
  {
   "cell_type": "code",
   "execution_count": 126,
   "metadata": {},
   "outputs": [
    {
     "data": {
      "text/plain": [
       "PeriodIndex(['1959Q1', '1959Q2', '1959Q3', '1959Q4', '1960Q1', '1960Q2',\n",
       "             '1960Q3', '1960Q4', '1961Q1', '1961Q2',\n",
       "             ...\n",
       "             '2007Q2', '2007Q3', '2007Q4', '2008Q1', '2008Q2', '2008Q3',\n",
       "             '2008Q4', '2009Q1', '2009Q2', '2009Q3'],\n",
       "            dtype='period[Q-DEC]', length=203)"
      ]
     },
     "execution_count": 126,
     "metadata": {},
     "output_type": "execute_result"
    }
   ],
   "source": [
    "data.index = index\n",
    "data.index"
   ]
  },
  {
   "cell_type": "markdown",
   "metadata": {},
   "source": [
    "### *六、重采样及频率转换*"
   ]
  },
  {
   "cell_type": "code",
   "execution_count": 127,
   "metadata": {},
   "outputs": [
    {
     "data": {
      "text/plain": [
       "2000-01-01   -0.320639\n",
       "2000-01-02   -0.691535\n",
       "2000-01-03   -0.087959\n",
       "2000-01-04    0.529498\n",
       "2000-01-05    0.678011\n",
       "                ...   \n",
       "2000-04-05    0.788198\n",
       "2000-04-06   -1.073135\n",
       "2000-04-07   -1.592318\n",
       "2000-04-08    0.976607\n",
       "2000-04-09    0.266996\n",
       "Freq: D, Length: 100, dtype: float64"
      ]
     },
     "execution_count": 127,
     "metadata": {},
     "output_type": "execute_result"
    }
   ],
   "source": [
    "\"\"\"\n",
    "重采样（resampling）指的是将时间序列从一个频率转换到另一个频率的处理过程。\n",
    "将高频率数据聚合到低频率称为降采样（downsampling），\n",
    "而将低频率数据转换到高频率则称为升采样（upsampling）。\n",
    "并不是所有的重采样都能被划分到这两个大类中。\n",
    "例如，将W-WED（每周三）转换为W-FRI既不是降采样也不是升采样。\n",
    "pandas对象都带有一个resample方法，它是各种频率转换工作的主力函数。\n",
    "resample有一个类似于groupby的API，调用resample可以分组数据，\n",
    "然后会调用一个聚合函数：\n",
    "\"\"\"\n",
    "rng = pd.date_range('2000-01-01', periods=100, freq='D')\n",
    "ts = pd.Series(np.random.randn(len(rng)), index=rng)\n",
    "ts"
   ]
  },
  {
   "cell_type": "code",
   "execution_count": 128,
   "metadata": {},
   "outputs": [
    {
     "data": {
      "text/plain": [
       "2000-01-31   -0.164758\n",
       "2000-02-29    0.058509\n",
       "2000-03-31   -0.084816\n",
       "2000-04-30   -0.242617\n",
       "Freq: M, dtype: float64"
      ]
     },
     "execution_count": 128,
     "metadata": {},
     "output_type": "execute_result"
    }
   ],
   "source": [
    "ts.resample('M').mean()"
   ]
  },
  {
   "cell_type": "code",
   "execution_count": 130,
   "metadata": {},
   "outputs": [
    {
     "data": {
      "text/plain": [
       "2000-01   -0.164758\n",
       "2000-02    0.058509\n",
       "2000-03   -0.084816\n",
       "2000-04   -0.242617\n",
       "Freq: M, dtype: float64"
      ]
     },
     "execution_count": 130,
     "metadata": {},
     "output_type": "execute_result"
    }
   ],
   "source": [
    "ts.resample('M',kind='period').mean()"
   ]
  },
  {
   "cell_type": "markdown",
   "metadata": {},
   "source": [
    "resample是一个灵活高效的方法，可用于处理非常大的时间序列:\n",
    "![](https://camo.githubusercontent.com/ae9df481e4d017d2ce12de4596c823669bf6dcb0e35e04296651e180779f139d/68747470733a2f2f75706c6f61642d696d616765732e6a69616e7368752e696f2f75706c6f61645f696d616765732f373137383639312d623430613537303836633930346538332e706e673f696d6167654d6f6772322f6175746f2d6f7269656e742f7374726970253743696d61676556696577322f322f772f31323430)"
   ]
  },
  {
   "cell_type": "markdown",
   "metadata": {},
   "source": [
    "#### *6.1 降采样*  \n",
    "![](https://camo.githubusercontent.com/747888cd7d14998533542947af38379c46f5db187303c1ed96fa708abd811953/687474703a2f2f75706c6f61642d696d616765732e6a69616e7368752e696f2f75706c6f61645f696d616765732f373137383639312d376137376634373834346632656538632e706e673f696d6167654d6f6772322f6175746f2d6f7269656e742f7374726970253743696d61676556696577322f322f772f31323430)"
   ]
  },
  {
   "cell_type": "code",
   "execution_count": 131,
   "metadata": {},
   "outputs": [
    {
     "data": {
      "text/plain": [
       "2000-01-01 00:00:00     0\n",
       "2000-01-01 00:01:00     1\n",
       "2000-01-01 00:02:00     2\n",
       "2000-01-01 00:03:00     3\n",
       "2000-01-01 00:04:00     4\n",
       "2000-01-01 00:05:00     5\n",
       "2000-01-01 00:06:00     6\n",
       "2000-01-01 00:07:00     7\n",
       "2000-01-01 00:08:00     8\n",
       "2000-01-01 00:09:00     9\n",
       "2000-01-01 00:10:00    10\n",
       "2000-01-01 00:11:00    11\n",
       "Freq: T, dtype: int32"
      ]
     },
     "execution_count": 131,
     "metadata": {},
     "output_type": "execute_result"
    }
   ],
   "source": [
    "\"\"\"\n",
    "在用resample对数据进行降采样时，需要考虑两样东西：\n",
    "\n",
    "各区间哪边是闭合的。\n",
    "如何标记各个聚合面元，用区间的开头还是末尾\n",
    "\"\"\"\n",
    "rng = pd.date_range('2000-01-01', periods=12, freq='T')\n",
    "ts = pd.Series(np.arange(12), index=rng)\n",
    "ts"
   ]
  },
  {
   "cell_type": "code",
   "execution_count": 132,
   "metadata": {},
   "outputs": [
    {
     "data": {
      "text/plain": [
       "1999-12-31 23:55:00     0\n",
       "2000-01-01 00:00:00    15\n",
       "2000-01-01 00:05:00    40\n",
       "2000-01-01 00:10:00    11\n",
       "Freq: 5T, dtype: int32"
      ]
     },
     "execution_count": 132,
     "metadata": {},
     "output_type": "execute_result"
    }
   ],
   "source": [
    "ts.resample('5min', closed='right').sum()"
   ]
  },
  {
   "cell_type": "code",
   "execution_count": 136,
   "metadata": {},
   "outputs": [
    {
     "data": {
      "text/plain": [
       "2000-01-01 00:00:00    10\n",
       "2000-01-01 00:05:00    35\n",
       "2000-01-01 00:10:00    21\n",
       "Freq: 5T, dtype: int32"
      ]
     },
     "execution_count": 136,
     "metadata": {},
     "output_type": "execute_result"
    }
   ],
   "source": [
    "ts.resample('5min', closed='left').sum()"
   ]
  },
  {
   "cell_type": "code",
   "execution_count": 134,
   "metadata": {},
   "outputs": [
    {
     "data": {
      "text/plain": [
       "2000-01-01 00:00:00     0\n",
       "2000-01-01 00:05:00    15\n",
       "2000-01-01 00:10:00    40\n",
       "2000-01-01 00:15:00    11\n",
       "Freq: 5T, dtype: int32"
      ]
     },
     "execution_count": 134,
     "metadata": {},
     "output_type": "execute_result"
    }
   ],
   "source": [
    "ts.resample('5min', closed='right', label='right').sum()"
   ]
  },
  {
   "cell_type": "code",
   "execution_count": 137,
   "metadata": {},
   "outputs": [
    {
     "data": {
      "text/plain": [
       "1999-12-31 23:55:00     0\n",
       "2000-01-01 00:00:00    15\n",
       "2000-01-01 00:05:00    40\n",
       "2000-01-01 00:10:00    11\n",
       "Freq: 5T, dtype: int32"
      ]
     },
     "execution_count": 137,
     "metadata": {},
     "output_type": "execute_result"
    }
   ],
   "source": [
    "ts.resample('5min', closed='right', label='left').sum()"
   ]
  },
  {
   "cell_type": "code",
   "execution_count": 138,
   "metadata": {},
   "outputs": [
    {
     "name": "stderr",
     "output_type": "stream",
     "text": [
      "C:\\Users\\mjl\\AppData\\Local\\Temp\\ipykernel_9380\\542427051.py:2: FutureWarning: 'loffset' in .resample() and in Grouper() is deprecated.\n",
      "\n",
      ">>> df.resample(freq=\"3s\", loffset=\"8H\")\n",
      "\n",
      "becomes:\n",
      "\n",
      ">>> from pandas.tseries.frequencies import to_offset\n",
      ">>> df = df.resample(freq=\"3s\").mean()\n",
      ">>> df.index = df.index.to_timestamp() + to_offset(\"8H\")\n",
      "\n",
      "  ts.resample('5min', closed='right',\n"
     ]
    },
    {
     "data": {
      "text/plain": [
       "1999-12-31 23:59:59     0\n",
       "2000-01-01 00:04:59    15\n",
       "2000-01-01 00:09:59    40\n",
       "2000-01-01 00:14:59    11\n",
       "Freq: 5T, dtype: int32"
      ]
     },
     "execution_count": 138,
     "metadata": {},
     "output_type": "execute_result"
    }
   ],
   "source": [
    "# 索引偏移\n",
    "ts.resample('5min', closed='right',\n",
    "            label='right', loffset='-1s').sum()"
   ]
  },
  {
   "cell_type": "code",
   "execution_count": 139,
   "metadata": {},
   "outputs": [
    {
     "name": "stderr",
     "output_type": "stream",
     "text": [
      "C:\\Users\\mjl\\AppData\\Local\\Temp\\ipykernel_9380\\787538257.py:1: FutureWarning: 'loffset' in .resample() and in Grouper() is deprecated.\n",
      "\n",
      ">>> df.resample(freq=\"3s\", loffset=\"8H\")\n",
      "\n",
      "becomes:\n",
      "\n",
      ">>> from pandas.tseries.frequencies import to_offset\n",
      ">>> df = df.resample(freq=\"3s\").mean()\n",
      ">>> df.index = df.index.to_timestamp() + to_offset(\"8H\")\n",
      "\n",
      "  ts.resample('5min', closed='left',\n"
     ]
    },
    {
     "data": {
      "text/plain": [
       "2000-01-01 00:04:59    10\n",
       "2000-01-01 00:09:59    35\n",
       "2000-01-01 00:14:59    21\n",
       "Freq: 5T, dtype: int32"
      ]
     },
     "execution_count": 139,
     "metadata": {},
     "output_type": "execute_result"
    }
   ],
   "source": [
    "ts.resample('5min', closed='left',\n",
    "            label='right', loffset='-1s').sum()"
   ]
  },
  {
   "cell_type": "markdown",
   "metadata": {},
   "source": [
    "#### *6.2 OHLC重采样*"
   ]
  },
  {
   "cell_type": "code",
   "execution_count": 140,
   "metadata": {},
   "outputs": [
    {
     "data": {
      "text/html": [
       "<div>\n",
       "<style scoped>\n",
       "    .dataframe tbody tr th:only-of-type {\n",
       "        vertical-align: middle;\n",
       "    }\n",
       "\n",
       "    .dataframe tbody tr th {\n",
       "        vertical-align: top;\n",
       "    }\n",
       "\n",
       "    .dataframe thead th {\n",
       "        text-align: right;\n",
       "    }\n",
       "</style>\n",
       "<table border=\"1\" class=\"dataframe\">\n",
       "  <thead>\n",
       "    <tr style=\"text-align: right;\">\n",
       "      <th></th>\n",
       "      <th>open</th>\n",
       "      <th>high</th>\n",
       "      <th>low</th>\n",
       "      <th>close</th>\n",
       "    </tr>\n",
       "  </thead>\n",
       "  <tbody>\n",
       "    <tr>\n",
       "      <th>2000-01-01 00:00:00</th>\n",
       "      <td>0</td>\n",
       "      <td>4</td>\n",
       "      <td>0</td>\n",
       "      <td>4</td>\n",
       "    </tr>\n",
       "    <tr>\n",
       "      <th>2000-01-01 00:05:00</th>\n",
       "      <td>5</td>\n",
       "      <td>9</td>\n",
       "      <td>5</td>\n",
       "      <td>9</td>\n",
       "    </tr>\n",
       "    <tr>\n",
       "      <th>2000-01-01 00:10:00</th>\n",
       "      <td>10</td>\n",
       "      <td>11</td>\n",
       "      <td>10</td>\n",
       "      <td>11</td>\n",
       "    </tr>\n",
       "  </tbody>\n",
       "</table>\n",
       "</div>"
      ],
      "text/plain": [
       "                     open  high  low  close\n",
       "2000-01-01 00:00:00     0     4    0      4\n",
       "2000-01-01 00:05:00     5     9    5      9\n",
       "2000-01-01 00:10:00    10    11   10     11"
      ]
     },
     "execution_count": 140,
     "metadata": {},
     "output_type": "execute_result"
    }
   ],
   "source": [
    "\"\"\"\n",
    "金融领域中有一种无所不在的时间序列聚合方式，\n",
    "即计算各面元的四个值：第一个值（open，开盘）、\n",
    "最后一个值（close，收盘）、最大值（high，最高）以及最小值（low，最低）。\n",
    "传入how='ohlc'即可得到一个含有这四种聚合值的DataFrame。\n",
    "整个过程很高效，只需一次扫描即可计算出结果\n",
    "\"\"\"\n",
    "\n",
    "ts.resample('5min').ohlc()\n"
   ]
  },
  {
   "cell_type": "markdown",
   "metadata": {},
   "source": [
    "#### *6.3 升采样和插值*"
   ]
  },
  {
   "cell_type": "code",
   "execution_count": 141,
   "metadata": {},
   "outputs": [
    {
     "data": {
      "text/html": [
       "<div>\n",
       "<style scoped>\n",
       "    .dataframe tbody tr th:only-of-type {\n",
       "        vertical-align: middle;\n",
       "    }\n",
       "\n",
       "    .dataframe tbody tr th {\n",
       "        vertical-align: top;\n",
       "    }\n",
       "\n",
       "    .dataframe thead th {\n",
       "        text-align: right;\n",
       "    }\n",
       "</style>\n",
       "<table border=\"1\" class=\"dataframe\">\n",
       "  <thead>\n",
       "    <tr style=\"text-align: right;\">\n",
       "      <th></th>\n",
       "      <th>Colorado</th>\n",
       "      <th>Texas</th>\n",
       "      <th>New York</th>\n",
       "      <th>Ohio</th>\n",
       "    </tr>\n",
       "  </thead>\n",
       "  <tbody>\n",
       "    <tr>\n",
       "      <th>2000-01-05</th>\n",
       "      <td>1.332863</td>\n",
       "      <td>-1.279975</td>\n",
       "      <td>-1.413226</td>\n",
       "      <td>-0.780859</td>\n",
       "    </tr>\n",
       "    <tr>\n",
       "      <th>2000-01-12</th>\n",
       "      <td>-1.478268</td>\n",
       "      <td>-1.049650</td>\n",
       "      <td>1.325353</td>\n",
       "      <td>-1.235808</td>\n",
       "    </tr>\n",
       "  </tbody>\n",
       "</table>\n",
       "</div>"
      ],
      "text/plain": [
       "            Colorado     Texas  New York      Ohio\n",
       "2000-01-05  1.332863 -1.279975 -1.413226 -0.780859\n",
       "2000-01-12 -1.478268 -1.049650  1.325353 -1.235808"
      ]
     },
     "execution_count": 141,
     "metadata": {},
     "output_type": "execute_result"
    }
   ],
   "source": [
    "# 将数据从低频率转换到高频率\n",
    "frame = pd.DataFrame(np.random.randn(2, 4),\n",
    "                    index=pd.date_range('1/1/2000', periods=2,freq='W-WED'),\n",
    "                    columns=['Colorado', 'Texas', 'New York', 'Ohio'])\n",
    "frame                 "
   ]
  },
  {
   "cell_type": "code",
   "execution_count": 142,
   "metadata": {},
   "outputs": [
    {
     "data": {
      "text/html": [
       "<div>\n",
       "<style scoped>\n",
       "    .dataframe tbody tr th:only-of-type {\n",
       "        vertical-align: middle;\n",
       "    }\n",
       "\n",
       "    .dataframe tbody tr th {\n",
       "        vertical-align: top;\n",
       "    }\n",
       "\n",
       "    .dataframe thead th {\n",
       "        text-align: right;\n",
       "    }\n",
       "</style>\n",
       "<table border=\"1\" class=\"dataframe\">\n",
       "  <thead>\n",
       "    <tr style=\"text-align: right;\">\n",
       "      <th></th>\n",
       "      <th>Colorado</th>\n",
       "      <th>Texas</th>\n",
       "      <th>New York</th>\n",
       "      <th>Ohio</th>\n",
       "    </tr>\n",
       "  </thead>\n",
       "  <tbody>\n",
       "    <tr>\n",
       "      <th>2000-01-05</th>\n",
       "      <td>1.332863</td>\n",
       "      <td>-1.279975</td>\n",
       "      <td>-1.413226</td>\n",
       "      <td>-0.780859</td>\n",
       "    </tr>\n",
       "    <tr>\n",
       "      <th>2000-01-06</th>\n",
       "      <td>NaN</td>\n",
       "      <td>NaN</td>\n",
       "      <td>NaN</td>\n",
       "      <td>NaN</td>\n",
       "    </tr>\n",
       "    <tr>\n",
       "      <th>2000-01-07</th>\n",
       "      <td>NaN</td>\n",
       "      <td>NaN</td>\n",
       "      <td>NaN</td>\n",
       "      <td>NaN</td>\n",
       "    </tr>\n",
       "    <tr>\n",
       "      <th>2000-01-08</th>\n",
       "      <td>NaN</td>\n",
       "      <td>NaN</td>\n",
       "      <td>NaN</td>\n",
       "      <td>NaN</td>\n",
       "    </tr>\n",
       "    <tr>\n",
       "      <th>2000-01-09</th>\n",
       "      <td>NaN</td>\n",
       "      <td>NaN</td>\n",
       "      <td>NaN</td>\n",
       "      <td>NaN</td>\n",
       "    </tr>\n",
       "    <tr>\n",
       "      <th>2000-01-10</th>\n",
       "      <td>NaN</td>\n",
       "      <td>NaN</td>\n",
       "      <td>NaN</td>\n",
       "      <td>NaN</td>\n",
       "    </tr>\n",
       "    <tr>\n",
       "      <th>2000-01-11</th>\n",
       "      <td>NaN</td>\n",
       "      <td>NaN</td>\n",
       "      <td>NaN</td>\n",
       "      <td>NaN</td>\n",
       "    </tr>\n",
       "    <tr>\n",
       "      <th>2000-01-12</th>\n",
       "      <td>-1.478268</td>\n",
       "      <td>-1.049650</td>\n",
       "      <td>1.325353</td>\n",
       "      <td>-1.235808</td>\n",
       "    </tr>\n",
       "  </tbody>\n",
       "</table>\n",
       "</div>"
      ],
      "text/plain": [
       "            Colorado     Texas  New York      Ohio\n",
       "2000-01-05  1.332863 -1.279975 -1.413226 -0.780859\n",
       "2000-01-06       NaN       NaN       NaN       NaN\n",
       "2000-01-07       NaN       NaN       NaN       NaN\n",
       "2000-01-08       NaN       NaN       NaN       NaN\n",
       "2000-01-09       NaN       NaN       NaN       NaN\n",
       "2000-01-10       NaN       NaN       NaN       NaN\n",
       "2000-01-11       NaN       NaN       NaN       NaN\n",
       "2000-01-12 -1.478268 -1.049650  1.325353 -1.235808"
      ]
     },
     "execution_count": 142,
     "metadata": {},
     "output_type": "execute_result"
    }
   ],
   "source": [
    "df_daily = frame.resample('D').asfreq()\n",
    "df_daily"
   ]
  },
  {
   "cell_type": "code",
   "execution_count": 144,
   "metadata": {},
   "outputs": [
    {
     "data": {
      "text/html": [
       "<div>\n",
       "<style scoped>\n",
       "    .dataframe tbody tr th:only-of-type {\n",
       "        vertical-align: middle;\n",
       "    }\n",
       "\n",
       "    .dataframe tbody tr th {\n",
       "        vertical-align: top;\n",
       "    }\n",
       "\n",
       "    .dataframe thead th {\n",
       "        text-align: right;\n",
       "    }\n",
       "</style>\n",
       "<table border=\"1\" class=\"dataframe\">\n",
       "  <thead>\n",
       "    <tr style=\"text-align: right;\">\n",
       "      <th></th>\n",
       "      <th>Colorado</th>\n",
       "      <th>Texas</th>\n",
       "      <th>New York</th>\n",
       "      <th>Ohio</th>\n",
       "    </tr>\n",
       "  </thead>\n",
       "  <tbody>\n",
       "    <tr>\n",
       "      <th>2000-01-05</th>\n",
       "      <td>1.332863</td>\n",
       "      <td>-1.279975</td>\n",
       "      <td>-1.413226</td>\n",
       "      <td>-0.780859</td>\n",
       "    </tr>\n",
       "    <tr>\n",
       "      <th>2000-01-06</th>\n",
       "      <td>1.332863</td>\n",
       "      <td>-1.279975</td>\n",
       "      <td>-1.413226</td>\n",
       "      <td>-0.780859</td>\n",
       "    </tr>\n",
       "    <tr>\n",
       "      <th>2000-01-07</th>\n",
       "      <td>1.332863</td>\n",
       "      <td>-1.279975</td>\n",
       "      <td>-1.413226</td>\n",
       "      <td>-0.780859</td>\n",
       "    </tr>\n",
       "    <tr>\n",
       "      <th>2000-01-08</th>\n",
       "      <td>NaN</td>\n",
       "      <td>NaN</td>\n",
       "      <td>NaN</td>\n",
       "      <td>NaN</td>\n",
       "    </tr>\n",
       "    <tr>\n",
       "      <th>2000-01-09</th>\n",
       "      <td>NaN</td>\n",
       "      <td>NaN</td>\n",
       "      <td>NaN</td>\n",
       "      <td>NaN</td>\n",
       "    </tr>\n",
       "    <tr>\n",
       "      <th>2000-01-10</th>\n",
       "      <td>NaN</td>\n",
       "      <td>NaN</td>\n",
       "      <td>NaN</td>\n",
       "      <td>NaN</td>\n",
       "    </tr>\n",
       "    <tr>\n",
       "      <th>2000-01-11</th>\n",
       "      <td>NaN</td>\n",
       "      <td>NaN</td>\n",
       "      <td>NaN</td>\n",
       "      <td>NaN</td>\n",
       "    </tr>\n",
       "    <tr>\n",
       "      <th>2000-01-12</th>\n",
       "      <td>-1.478268</td>\n",
       "      <td>-1.049650</td>\n",
       "      <td>1.325353</td>\n",
       "      <td>-1.235808</td>\n",
       "    </tr>\n",
       "  </tbody>\n",
       "</table>\n",
       "</div>"
      ],
      "text/plain": [
       "            Colorado     Texas  New York      Ohio\n",
       "2000-01-05  1.332863 -1.279975 -1.413226 -0.780859\n",
       "2000-01-06  1.332863 -1.279975 -1.413226 -0.780859\n",
       "2000-01-07  1.332863 -1.279975 -1.413226 -0.780859\n",
       "2000-01-08       NaN       NaN       NaN       NaN\n",
       "2000-01-09       NaN       NaN       NaN       NaN\n",
       "2000-01-10       NaN       NaN       NaN       NaN\n",
       "2000-01-11       NaN       NaN       NaN       NaN\n",
       "2000-01-12 -1.478268 -1.049650  1.325353 -1.235808"
      ]
     },
     "execution_count": 144,
     "metadata": {},
     "output_type": "execute_result"
    }
   ],
   "source": [
    "frame.resample('D').ffill(limit=2)"
   ]
  },
  {
   "cell_type": "code",
   "execution_count": 145,
   "metadata": {},
   "outputs": [
    {
     "data": {
      "text/html": [
       "<div>\n",
       "<style scoped>\n",
       "    .dataframe tbody tr th:only-of-type {\n",
       "        vertical-align: middle;\n",
       "    }\n",
       "\n",
       "    .dataframe tbody tr th {\n",
       "        vertical-align: top;\n",
       "    }\n",
       "\n",
       "    .dataframe thead th {\n",
       "        text-align: right;\n",
       "    }\n",
       "</style>\n",
       "<table border=\"1\" class=\"dataframe\">\n",
       "  <thead>\n",
       "    <tr style=\"text-align: right;\">\n",
       "      <th></th>\n",
       "      <th>Colorado</th>\n",
       "      <th>Texas</th>\n",
       "      <th>New York</th>\n",
       "      <th>Ohio</th>\n",
       "    </tr>\n",
       "  </thead>\n",
       "  <tbody>\n",
       "    <tr>\n",
       "      <th>2000-01-06</th>\n",
       "      <td>1.332863</td>\n",
       "      <td>-1.279975</td>\n",
       "      <td>-1.413226</td>\n",
       "      <td>-0.780859</td>\n",
       "    </tr>\n",
       "    <tr>\n",
       "      <th>2000-01-13</th>\n",
       "      <td>-1.478268</td>\n",
       "      <td>-1.049650</td>\n",
       "      <td>1.325353</td>\n",
       "      <td>-1.235808</td>\n",
       "    </tr>\n",
       "  </tbody>\n",
       "</table>\n",
       "</div>"
      ],
      "text/plain": [
       "            Colorado     Texas  New York      Ohio\n",
       "2000-01-06  1.332863 -1.279975 -1.413226 -0.780859\n",
       "2000-01-13 -1.478268 -1.049650  1.325353 -1.235808"
      ]
     },
     "execution_count": 145,
     "metadata": {},
     "output_type": "execute_result"
    }
   ],
   "source": [
    "frame.resample('W-THU').ffill()"
   ]
  },
  {
   "cell_type": "markdown",
   "metadata": {},
   "source": [
    "#### *6.4 通过时期进行重采样*"
   ]
  },
  {
   "cell_type": "code",
   "execution_count": 158,
   "metadata": {},
   "outputs": [
    {
     "data": {
      "text/html": [
       "<div>\n",
       "<style scoped>\n",
       "    .dataframe tbody tr th:only-of-type {\n",
       "        vertical-align: middle;\n",
       "    }\n",
       "\n",
       "    .dataframe tbody tr th {\n",
       "        vertical-align: top;\n",
       "    }\n",
       "\n",
       "    .dataframe thead th {\n",
       "        text-align: right;\n",
       "    }\n",
       "</style>\n",
       "<table border=\"1\" class=\"dataframe\">\n",
       "  <thead>\n",
       "    <tr style=\"text-align: right;\">\n",
       "      <th></th>\n",
       "      <th>Colorado</th>\n",
       "      <th>Texas</th>\n",
       "      <th>New York</th>\n",
       "      <th>Ohio</th>\n",
       "    </tr>\n",
       "  </thead>\n",
       "  <tbody>\n",
       "    <tr>\n",
       "      <th>2000-05</th>\n",
       "      <td>-0.345986</td>\n",
       "      <td>-1.336534</td>\n",
       "      <td>0.136488</td>\n",
       "      <td>0.002274</td>\n",
       "    </tr>\n",
       "    <tr>\n",
       "      <th>2001-04</th>\n",
       "      <td>-0.979441</td>\n",
       "      <td>-1.509948</td>\n",
       "      <td>-0.335620</td>\n",
       "      <td>0.843241</td>\n",
       "    </tr>\n",
       "    <tr>\n",
       "      <th>2001-09</th>\n",
       "      <td>-0.447341</td>\n",
       "      <td>1.006731</td>\n",
       "      <td>-0.622695</td>\n",
       "      <td>1.031398</td>\n",
       "    </tr>\n",
       "    <tr>\n",
       "      <th>2000-03</th>\n",
       "      <td>0.137873</td>\n",
       "      <td>-1.905340</td>\n",
       "      <td>-2.009869</td>\n",
       "      <td>-0.883025</td>\n",
       "    </tr>\n",
       "    <tr>\n",
       "      <th>2000-08</th>\n",
       "      <td>-0.351906</td>\n",
       "      <td>0.901474</td>\n",
       "      <td>0.083254</td>\n",
       "      <td>0.056937</td>\n",
       "    </tr>\n",
       "  </tbody>\n",
       "</table>\n",
       "</div>"
      ],
      "text/plain": [
       "         Colorado     Texas  New York      Ohio\n",
       "2000-05 -0.345986 -1.336534  0.136488  0.002274\n",
       "2001-04 -0.979441 -1.509948 -0.335620  0.843241\n",
       "2001-09 -0.447341  1.006731 -0.622695  1.031398\n",
       "2000-03  0.137873 -1.905340 -2.009869 -0.883025\n",
       "2000-08 -0.351906  0.901474  0.083254  0.056937"
      ]
     },
     "execution_count": 158,
     "metadata": {},
     "output_type": "execute_result"
    }
   ],
   "source": [
    "frame = pd.DataFrame(np.random.randn(24, 4),\n",
    "index=pd.period_range('1-2000', '12-2001',freq='M'),\n",
    "columns=['Colorado', 'Texas', 'New York', 'Ohio'])\n",
    "frame.sample(n=5,random_state=2022)"
   ]
  },
  {
   "cell_type": "code",
   "execution_count": 159,
   "metadata": {},
   "outputs": [
    {
     "data": {
      "text/html": [
       "<div>\n",
       "<style scoped>\n",
       "    .dataframe tbody tr th:only-of-type {\n",
       "        vertical-align: middle;\n",
       "    }\n",
       "\n",
       "    .dataframe tbody tr th {\n",
       "        vertical-align: top;\n",
       "    }\n",
       "\n",
       "    .dataframe thead th {\n",
       "        text-align: right;\n",
       "    }\n",
       "</style>\n",
       "<table border=\"1\" class=\"dataframe\">\n",
       "  <thead>\n",
       "    <tr style=\"text-align: right;\">\n",
       "      <th></th>\n",
       "      <th>Colorado</th>\n",
       "      <th>Texas</th>\n",
       "      <th>New York</th>\n",
       "      <th>Ohio</th>\n",
       "    </tr>\n",
       "  </thead>\n",
       "  <tbody>\n",
       "    <tr>\n",
       "      <th>2000</th>\n",
       "      <td>0.151019</td>\n",
       "      <td>-0.356309</td>\n",
       "      <td>-0.336562</td>\n",
       "      <td>-0.086860</td>\n",
       "    </tr>\n",
       "    <tr>\n",
       "      <th>2001</th>\n",
       "      <td>-0.170496</td>\n",
       "      <td>0.048388</td>\n",
       "      <td>-0.140108</td>\n",
       "      <td>-0.164686</td>\n",
       "    </tr>\n",
       "  </tbody>\n",
       "</table>\n",
       "</div>"
      ],
      "text/plain": [
       "      Colorado     Texas  New York      Ohio\n",
       "2000  0.151019 -0.356309 -0.336562 -0.086860\n",
       "2001 -0.170496  0.048388 -0.140108 -0.164686"
      ]
     },
     "execution_count": 159,
     "metadata": {},
     "output_type": "execute_result"
    }
   ],
   "source": [
    "annual_frame = frame.resample('A-DEC').mean()\n",
    "annual_frame"
   ]
  },
  {
   "cell_type": "code",
   "execution_count": 160,
   "metadata": {},
   "outputs": [
    {
     "data": {
      "text/html": [
       "<div>\n",
       "<style scoped>\n",
       "    .dataframe tbody tr th:only-of-type {\n",
       "        vertical-align: middle;\n",
       "    }\n",
       "\n",
       "    .dataframe tbody tr th {\n",
       "        vertical-align: top;\n",
       "    }\n",
       "\n",
       "    .dataframe thead th {\n",
       "        text-align: right;\n",
       "    }\n",
       "</style>\n",
       "<table border=\"1\" class=\"dataframe\">\n",
       "  <thead>\n",
       "    <tr style=\"text-align: right;\">\n",
       "      <th></th>\n",
       "      <th>Colorado</th>\n",
       "      <th>Texas</th>\n",
       "      <th>New York</th>\n",
       "      <th>Ohio</th>\n",
       "    </tr>\n",
       "  </thead>\n",
       "  <tbody>\n",
       "    <tr>\n",
       "      <th>2000Q1</th>\n",
       "      <td>0.151019</td>\n",
       "      <td>-0.356309</td>\n",
       "      <td>-0.336562</td>\n",
       "      <td>-0.086860</td>\n",
       "    </tr>\n",
       "    <tr>\n",
       "      <th>2000Q2</th>\n",
       "      <td>0.151019</td>\n",
       "      <td>-0.356309</td>\n",
       "      <td>-0.336562</td>\n",
       "      <td>-0.086860</td>\n",
       "    </tr>\n",
       "    <tr>\n",
       "      <th>2000Q3</th>\n",
       "      <td>0.151019</td>\n",
       "      <td>-0.356309</td>\n",
       "      <td>-0.336562</td>\n",
       "      <td>-0.086860</td>\n",
       "    </tr>\n",
       "    <tr>\n",
       "      <th>2000Q4</th>\n",
       "      <td>0.151019</td>\n",
       "      <td>-0.356309</td>\n",
       "      <td>-0.336562</td>\n",
       "      <td>-0.086860</td>\n",
       "    </tr>\n",
       "    <tr>\n",
       "      <th>2001Q1</th>\n",
       "      <td>-0.170496</td>\n",
       "      <td>0.048388</td>\n",
       "      <td>-0.140108</td>\n",
       "      <td>-0.164686</td>\n",
       "    </tr>\n",
       "    <tr>\n",
       "      <th>2001Q2</th>\n",
       "      <td>-0.170496</td>\n",
       "      <td>0.048388</td>\n",
       "      <td>-0.140108</td>\n",
       "      <td>-0.164686</td>\n",
       "    </tr>\n",
       "    <tr>\n",
       "      <th>2001Q3</th>\n",
       "      <td>-0.170496</td>\n",
       "      <td>0.048388</td>\n",
       "      <td>-0.140108</td>\n",
       "      <td>-0.164686</td>\n",
       "    </tr>\n",
       "    <tr>\n",
       "      <th>2001Q4</th>\n",
       "      <td>-0.170496</td>\n",
       "      <td>0.048388</td>\n",
       "      <td>-0.140108</td>\n",
       "      <td>-0.164686</td>\n",
       "    </tr>\n",
       "  </tbody>\n",
       "</table>\n",
       "</div>"
      ],
      "text/plain": [
       "        Colorado     Texas  New York      Ohio\n",
       "2000Q1  0.151019 -0.356309 -0.336562 -0.086860\n",
       "2000Q2  0.151019 -0.356309 -0.336562 -0.086860\n",
       "2000Q3  0.151019 -0.356309 -0.336562 -0.086860\n",
       "2000Q4  0.151019 -0.356309 -0.336562 -0.086860\n",
       "2001Q1 -0.170496  0.048388 -0.140108 -0.164686\n",
       "2001Q2 -0.170496  0.048388 -0.140108 -0.164686\n",
       "2001Q3 -0.170496  0.048388 -0.140108 -0.164686\n",
       "2001Q4 -0.170496  0.048388 -0.140108 -0.164686"
      ]
     },
     "execution_count": 160,
     "metadata": {},
     "output_type": "execute_result"
    }
   ],
   "source": [
    "# Q-DEC: Quarterly, year ending in December\n",
    "annual_frame.resample('Q-DEC').ffill()"
   ]
  },
  {
   "cell_type": "code",
   "execution_count": 161,
   "metadata": {},
   "outputs": [
    {
     "data": {
      "text/html": [
       "<div>\n",
       "<style scoped>\n",
       "    .dataframe tbody tr th:only-of-type {\n",
       "        vertical-align: middle;\n",
       "    }\n",
       "\n",
       "    .dataframe tbody tr th {\n",
       "        vertical-align: top;\n",
       "    }\n",
       "\n",
       "    .dataframe thead th {\n",
       "        text-align: right;\n",
       "    }\n",
       "</style>\n",
       "<table border=\"1\" class=\"dataframe\">\n",
       "  <thead>\n",
       "    <tr style=\"text-align: right;\">\n",
       "      <th></th>\n",
       "      <th>Colorado</th>\n",
       "      <th>Texas</th>\n",
       "      <th>New York</th>\n",
       "      <th>Ohio</th>\n",
       "    </tr>\n",
       "  </thead>\n",
       "  <tbody>\n",
       "    <tr>\n",
       "      <th>2000Q4</th>\n",
       "      <td>0.151019</td>\n",
       "      <td>-0.356309</td>\n",
       "      <td>-0.336562</td>\n",
       "      <td>-0.086860</td>\n",
       "    </tr>\n",
       "    <tr>\n",
       "      <th>2001Q1</th>\n",
       "      <td>0.151019</td>\n",
       "      <td>-0.356309</td>\n",
       "      <td>-0.336562</td>\n",
       "      <td>-0.086860</td>\n",
       "    </tr>\n",
       "    <tr>\n",
       "      <th>2001Q2</th>\n",
       "      <td>0.151019</td>\n",
       "      <td>-0.356309</td>\n",
       "      <td>-0.336562</td>\n",
       "      <td>-0.086860</td>\n",
       "    </tr>\n",
       "    <tr>\n",
       "      <th>2001Q3</th>\n",
       "      <td>0.151019</td>\n",
       "      <td>-0.356309</td>\n",
       "      <td>-0.336562</td>\n",
       "      <td>-0.086860</td>\n",
       "    </tr>\n",
       "    <tr>\n",
       "      <th>2001Q4</th>\n",
       "      <td>-0.170496</td>\n",
       "      <td>0.048388</td>\n",
       "      <td>-0.140108</td>\n",
       "      <td>-0.164686</td>\n",
       "    </tr>\n",
       "  </tbody>\n",
       "</table>\n",
       "</div>"
      ],
      "text/plain": [
       "        Colorado     Texas  New York      Ohio\n",
       "2000Q4  0.151019 -0.356309 -0.336562 -0.086860\n",
       "2001Q1  0.151019 -0.356309 -0.336562 -0.086860\n",
       "2001Q2  0.151019 -0.356309 -0.336562 -0.086860\n",
       "2001Q3  0.151019 -0.356309 -0.336562 -0.086860\n",
       "2001Q4 -0.170496  0.048388 -0.140108 -0.164686"
      ]
     },
     "execution_count": 161,
     "metadata": {},
     "output_type": "execute_result"
    }
   ],
   "source": [
    "annual_frame.resample('Q-DEC', convention='end').ffill()"
   ]
  },
  {
   "cell_type": "code",
   "execution_count": 162,
   "metadata": {},
   "outputs": [
    {
     "data": {
      "text/html": [
       "<div>\n",
       "<style scoped>\n",
       "    .dataframe tbody tr th:only-of-type {\n",
       "        vertical-align: middle;\n",
       "    }\n",
       "\n",
       "    .dataframe tbody tr th {\n",
       "        vertical-align: top;\n",
       "    }\n",
       "\n",
       "    .dataframe thead th {\n",
       "        text-align: right;\n",
       "    }\n",
       "</style>\n",
       "<table border=\"1\" class=\"dataframe\">\n",
       "  <thead>\n",
       "    <tr style=\"text-align: right;\">\n",
       "      <th></th>\n",
       "      <th>Colorado</th>\n",
       "      <th>Texas</th>\n",
       "      <th>New York</th>\n",
       "      <th>Ohio</th>\n",
       "    </tr>\n",
       "  </thead>\n",
       "  <tbody>\n",
       "    <tr>\n",
       "      <th>2000Q4</th>\n",
       "      <td>0.151019</td>\n",
       "      <td>-0.356309</td>\n",
       "      <td>-0.336562</td>\n",
       "      <td>-0.086860</td>\n",
       "    </tr>\n",
       "    <tr>\n",
       "      <th>2001Q1</th>\n",
       "      <td>0.151019</td>\n",
       "      <td>-0.356309</td>\n",
       "      <td>-0.336562</td>\n",
       "      <td>-0.086860</td>\n",
       "    </tr>\n",
       "    <tr>\n",
       "      <th>2001Q2</th>\n",
       "      <td>0.151019</td>\n",
       "      <td>-0.356309</td>\n",
       "      <td>-0.336562</td>\n",
       "      <td>-0.086860</td>\n",
       "    </tr>\n",
       "    <tr>\n",
       "      <th>2001Q3</th>\n",
       "      <td>0.151019</td>\n",
       "      <td>-0.356309</td>\n",
       "      <td>-0.336562</td>\n",
       "      <td>-0.086860</td>\n",
       "    </tr>\n",
       "    <tr>\n",
       "      <th>2001Q4</th>\n",
       "      <td>-0.170496</td>\n",
       "      <td>0.048388</td>\n",
       "      <td>-0.140108</td>\n",
       "      <td>-0.164686</td>\n",
       "    </tr>\n",
       "    <tr>\n",
       "      <th>2002Q1</th>\n",
       "      <td>-0.170496</td>\n",
       "      <td>0.048388</td>\n",
       "      <td>-0.140108</td>\n",
       "      <td>-0.164686</td>\n",
       "    </tr>\n",
       "    <tr>\n",
       "      <th>2002Q2</th>\n",
       "      <td>-0.170496</td>\n",
       "      <td>0.048388</td>\n",
       "      <td>-0.140108</td>\n",
       "      <td>-0.164686</td>\n",
       "    </tr>\n",
       "    <tr>\n",
       "      <th>2002Q3</th>\n",
       "      <td>-0.170496</td>\n",
       "      <td>0.048388</td>\n",
       "      <td>-0.140108</td>\n",
       "      <td>-0.164686</td>\n",
       "    </tr>\n",
       "  </tbody>\n",
       "</table>\n",
       "</div>"
      ],
      "text/plain": [
       "        Colorado     Texas  New York      Ohio\n",
       "2000Q4  0.151019 -0.356309 -0.336562 -0.086860\n",
       "2001Q1  0.151019 -0.356309 -0.336562 -0.086860\n",
       "2001Q2  0.151019 -0.356309 -0.336562 -0.086860\n",
       "2001Q3  0.151019 -0.356309 -0.336562 -0.086860\n",
       "2001Q4 -0.170496  0.048388 -0.140108 -0.164686\n",
       "2002Q1 -0.170496  0.048388 -0.140108 -0.164686\n",
       "2002Q2 -0.170496  0.048388 -0.140108 -0.164686\n",
       "2002Q3 -0.170496  0.048388 -0.140108 -0.164686"
      ]
     },
     "execution_count": 162,
     "metadata": {},
     "output_type": "execute_result"
    }
   ],
   "source": [
    "\"\"\"\n",
    "由于时期指的是时间区间，所以升采样和降采样的规则就比较严格：\n",
    "\n",
    "在降采样中，目标频率必须是源频率的子时期（subperiod）。\n",
    "在升采样中，目标频率必须是源频率的超时期（superperiod）。\n",
    "如果不满足这些条件，就会引发异常。这主要影响的是按季、年、周计算的频率。\n",
    "例如，由Q-MAR定义的时间区间只能升采样为A-MAR、A-JUN、A-SEP、A-DEC等：\n",
    "\"\"\"\n",
    "annual_frame.resample('Q-MAR').ffill()"
   ]
  },
  {
   "cell_type": "markdown",
   "metadata": {},
   "source": [
    "### *七、移动窗口函数*"
   ]
  },
  {
   "cell_type": "code",
   "execution_count": 203,
   "metadata": {},
   "outputs": [
    {
     "data": {
      "text/html": [
       "<div>\n",
       "<style scoped>\n",
       "    .dataframe tbody tr th:only-of-type {\n",
       "        vertical-align: middle;\n",
       "    }\n",
       "\n",
       "    .dataframe tbody tr th {\n",
       "        vertical-align: top;\n",
       "    }\n",
       "\n",
       "    .dataframe thead th {\n",
       "        text-align: right;\n",
       "    }\n",
       "</style>\n",
       "<table border=\"1\" class=\"dataframe\">\n",
       "  <thead>\n",
       "    <tr style=\"text-align: right;\">\n",
       "      <th></th>\n",
       "      <th>AAPL</th>\n",
       "      <th>MSFT</th>\n",
       "      <th>XOM</th>\n",
       "    </tr>\n",
       "  </thead>\n",
       "  <tbody>\n",
       "    <tr>\n",
       "      <th>2006-11-22</th>\n",
       "      <td>90.31</td>\n",
       "      <td>27.23</td>\n",
       "      <td>65.77</td>\n",
       "    </tr>\n",
       "    <tr>\n",
       "      <th>2006-04-21</th>\n",
       "      <td>67.04</td>\n",
       "      <td>24.44</td>\n",
       "      <td>57.82</td>\n",
       "    </tr>\n",
       "    <tr>\n",
       "      <th>2006-05-15</th>\n",
       "      <td>67.79</td>\n",
       "      <td>20.92</td>\n",
       "      <td>55.43</td>\n",
       "    </tr>\n",
       "    <tr>\n",
       "      <th>2003-01-16</th>\n",
       "      <td>7.31</td>\n",
       "      <td>21.75</td>\n",
       "      <td>28.90</td>\n",
       "    </tr>\n",
       "    <tr>\n",
       "      <th>2006-03-03</th>\n",
       "      <td>67.72</td>\n",
       "      <td>24.24</td>\n",
       "      <td>54.25</td>\n",
       "    </tr>\n",
       "  </tbody>\n",
       "</table>\n",
       "</div>"
      ],
      "text/plain": [
       "             AAPL   MSFT    XOM\n",
       "2006-11-22  90.31  27.23  65.77\n",
       "2006-04-21  67.04  24.44  57.82\n",
       "2006-05-15  67.79  20.92  55.43\n",
       "2003-01-16   7.31  21.75  28.90\n",
       "2006-03-03  67.72  24.24  54.25"
      ]
     },
     "execution_count": 203,
     "metadata": {},
     "output_type": "execute_result"
    }
   ],
   "source": [
    "\"\"\"\n",
    "在移动窗口（可以带有指数衰减权数）上\n",
    "计算的各种统计函数也是一类常见于时间序列的数组变换。\n",
    "这样可以圆滑噪音数据或断裂数据。\n",
    "我将它们称为移动窗口函数（moving window function），\n",
    "其中还包括那些窗口不定长的函数（如指数加权移动平均）。\n",
    "跟其他统计函数一样，移动窗口函数也会自动排除缺失值。\n",
    "开始之前，我们加载一些时间序列数据，将其重采样为工作日频率：\n",
    "\"\"\"\n",
    "close_px_all = pd.read_csv('examples/stock_px_2.csv',\n",
    "                          parse_dates=True, index_col=0)\n",
    "close_px = close_px_all[['AAPL', 'MSFT', 'XOM']]\n",
    "close_px = close_px.resample('B').ffill()    \n",
    "close_px.sample(5)                 "
   ]
  },
  {
   "cell_type": "code",
   "execution_count": 204,
   "metadata": {},
   "outputs": [
    {
     "data": {
      "text/plain": [
       "<AxesSubplot:>"
      ]
     },
     "execution_count": 204,
     "metadata": {},
     "output_type": "execute_result"
    },
    {
     "data": {
      "image/png": "[encoded data removed]",
      "text/plain": [
       "<Figure size 432x288 with 1 Axes>"
      ]
     },
     "metadata": {
      "needs_background": "light"
     },
     "output_type": "display_data"
    }
   ],
   "source": [
    "close_px.AAPL.plot()\n",
    "#close_px.AAPL.rolling(2000).mean().plot()\n",
    "close_px.AAPL.rolling(100).mean().plot()\n",
    "#close_px.AAPL.rolling(365).mean().plot()"
   ]
  },
  {
   "cell_type": "code",
   "execution_count": 205,
   "metadata": {},
   "outputs": [
    {
     "data": {
      "text/plain": [
       "2003-01-09         NaN\n",
       "2003-01-10         NaN\n",
       "2003-01-13         NaN\n",
       "2003-01-14         NaN\n",
       "2003-01-15    0.077496\n",
       "2003-01-16    0.074760\n",
       "2003-01-17    0.112368\n",
       "Freq: B, Name: AAPL, dtype: float64"
      ]
     },
     "execution_count": 205,
     "metadata": {},
     "output_type": "execute_result"
    }
   ],
   "source": [
    "\"\"\"\n",
    "表达式rolling(250)与groupby很像，但不是对其进行分组，\n",
    "而是创建一个按照250天分组的滑动窗口对象。\n",
    "然后，我们就得到了苹果公司股价的250天的移动窗口。\n",
    "\n",
    "默认情况下，rolling函数需要窗口中所有的值为非NA值。\n",
    "可以修改该行为以解决缺失数据的问题。\n",
    "其实，在时间序列开始处尚不足窗口期的那些数据就是个特例\n",
    "\"\"\"\n",
    "\n",
    "appl_std250 = close_px.AAPL.rolling(250, min_periods=10).std()\n",
    "appl_std250[5:12]"
   ]
  },
  {
   "cell_type": "code",
   "execution_count": 206,
   "metadata": {},
   "outputs": [
    {
     "data": {
      "text/plain": [
       "<AxesSubplot:>"
      ]
     },
     "execution_count": 206,
     "metadata": {},
     "output_type": "execute_result"
    },
    {
     "data": {
      "image/png": "[encoded data removed]",
      "text/plain": [
       "<Figure size 432x288 with 1 Axes>"
      ]
     },
     "metadata": {
      "needs_background": "light"
     },
     "output_type": "display_data"
    }
   ],
   "source": [
    "appl_std250.plot()"
   ]
  },
  {
   "cell_type": "code",
   "execution_count": 207,
   "metadata": {},
   "outputs": [
    {
     "data": {
      "text/plain": [
       "<AxesSubplot:>"
      ]
     },
     "execution_count": 207,
     "metadata": {},
     "output_type": "execute_result"
    },
    {
     "data": {
      "image/png": "[encoded data removed]",
      "text/plain": [
       "<Figure size 432x288 with 1 Axes>"
      ]
     },
     "metadata": {
      "needs_background": "light"
     },
     "output_type": "display_data"
    }
   ],
   "source": [
    "\"\"\"\n",
    "要计算扩展窗口平均（expanding window mean），\n",
    "可以使用expanding而不是rolling。\n",
    "“扩展”意味着，从时间序列的起始处开始窗口，增加窗口直到它超过所有的序列。\n",
    "apple_std250时间序列的扩展窗口平均如下所示\n",
    "\"\"\"\n",
    "\n",
    "expanding_mean = appl_std250.expanding().mean()\n",
    "close_px.rolling(60).mean().plot(logy=True)"
   ]
  },
  {
   "cell_type": "code",
   "execution_count": 208,
   "metadata": {},
   "outputs": [
    {
     "data": {
      "text/html": [
       "<div>\n",
       "<style scoped>\n",
       "    .dataframe tbody tr th:only-of-type {\n",
       "        vertical-align: middle;\n",
       "    }\n",
       "\n",
       "    .dataframe tbody tr th {\n",
       "        vertical-align: top;\n",
       "    }\n",
       "\n",
       "    .dataframe thead th {\n",
       "        text-align: right;\n",
       "    }\n",
       "</style>\n",
       "<table border=\"1\" class=\"dataframe\">\n",
       "  <thead>\n",
       "    <tr style=\"text-align: right;\">\n",
       "      <th></th>\n",
       "      <th>AAPL</th>\n",
       "      <th>MSFT</th>\n",
       "      <th>XOM</th>\n",
       "    </tr>\n",
       "  </thead>\n",
       "  <tbody>\n",
       "    <tr>\n",
       "      <th>2003-01-02</th>\n",
       "      <td>7.400000</td>\n",
       "      <td>21.110000</td>\n",
       "      <td>29.220000</td>\n",
       "    </tr>\n",
       "    <tr>\n",
       "      <th>2003-01-03</th>\n",
       "      <td>7.425000</td>\n",
       "      <td>21.125000</td>\n",
       "      <td>29.230000</td>\n",
       "    </tr>\n",
       "    <tr>\n",
       "      <th>2003-01-06</th>\n",
       "      <td>7.433333</td>\n",
       "      <td>21.256667</td>\n",
       "      <td>29.473333</td>\n",
       "    </tr>\n",
       "    <tr>\n",
       "      <th>2003-01-07</th>\n",
       "      <td>7.432500</td>\n",
       "      <td>21.425000</td>\n",
       "      <td>29.342500</td>\n",
       "    </tr>\n",
       "    <tr>\n",
       "      <th>2003-01-08</th>\n",
       "      <td>7.402000</td>\n",
       "      <td>21.402000</td>\n",
       "      <td>29.240000</td>\n",
       "    </tr>\n",
       "    <tr>\n",
       "      <th>...</th>\n",
       "      <td>...</td>\n",
       "      <td>...</td>\n",
       "      <td>...</td>\n",
       "    </tr>\n",
       "    <tr>\n",
       "      <th>2011-10-10</th>\n",
       "      <td>389.351429</td>\n",
       "      <td>25.602143</td>\n",
       "      <td>72.527857</td>\n",
       "    </tr>\n",
       "    <tr>\n",
       "      <th>2011-10-11</th>\n",
       "      <td>388.505000</td>\n",
       "      <td>25.674286</td>\n",
       "      <td>72.835000</td>\n",
       "    </tr>\n",
       "    <tr>\n",
       "      <th>2011-10-12</th>\n",
       "      <td>388.531429</td>\n",
       "      <td>25.810000</td>\n",
       "      <td>73.400714</td>\n",
       "    </tr>\n",
       "    <tr>\n",
       "      <th>2011-10-13</th>\n",
       "      <td>388.826429</td>\n",
       "      <td>25.961429</td>\n",
       "      <td>73.905000</td>\n",
       "    </tr>\n",
       "    <tr>\n",
       "      <th>2011-10-14</th>\n",
       "      <td>391.038000</td>\n",
       "      <td>26.048667</td>\n",
       "      <td>74.185333</td>\n",
       "    </tr>\n",
       "  </tbody>\n",
       "</table>\n",
       "<p>2292 rows × 3 columns</p>\n",
       "</div>"
      ],
      "text/plain": [
       "                  AAPL       MSFT        XOM\n",
       "2003-01-02    7.400000  21.110000  29.220000\n",
       "2003-01-03    7.425000  21.125000  29.230000\n",
       "2003-01-06    7.433333  21.256667  29.473333\n",
       "2003-01-07    7.432500  21.425000  29.342500\n",
       "2003-01-08    7.402000  21.402000  29.240000\n",
       "...                ...        ...        ...\n",
       "2011-10-10  389.351429  25.602143  72.527857\n",
       "2011-10-11  388.505000  25.674286  72.835000\n",
       "2011-10-12  388.531429  25.810000  73.400714\n",
       "2011-10-13  388.826429  25.961429  73.905000\n",
       "2011-10-14  391.038000  26.048667  74.185333\n",
       "\n",
       "[2292 rows x 3 columns]"
      ]
     },
     "execution_count": 208,
     "metadata": {},
     "output_type": "execute_result"
    }
   ],
   "source": [
    "close_px.rolling('20D').mean()"
   ]
  },
  {
   "cell_type": "markdown",
   "metadata": {},
   "source": [
    "#### *7.1 指数加权函数*"
   ]
  },
  {
   "cell_type": "code",
   "execution_count": 209,
   "metadata": {},
   "outputs": [
    {
     "data": {
      "text/plain": [
       "<matplotlib.legend.Legend at 0x1e3b62d9810>"
      ]
     },
     "execution_count": 209,
     "metadata": {},
     "output_type": "execute_result"
    },
    {
     "data": {
      "image/png": "[encoded data removed]",
      "text/plain": [
       "<Figure size 1440x720 with 1 Axes>"
      ]
     },
     "metadata": {
      "needs_background": "light"
     },
     "output_type": "display_data"
    }
   ],
   "source": [
    "\"\"\"\n",
    "另一种使用固定大小窗口及相等权数观测值的办法是，\n",
    "定义一个衰减因子（decay factor）常量，以便使近期的观测值拥有更大的权数。\n",
    "衰减因子的定义方式有很多，比较流行的是使用时间间隔（span），\n",
    "它可以使结果兼容于窗口大小等于时间间隔的简单移动窗口（simple moving window）函数。\n",
    "\n",
    "由于指数加权统计会赋予近期的观测值更大的权数，因此相对于等权统计，\n",
    "它能“适应”更快的变化。\n",
    "\n",
    "除了rolling和expanding，pandas还有ewm运算符。\n",
    "下面这个例子对比了苹果公司股价的30日移动平均和span=30的指数加权移动平均\n",
    "\"\"\"\n",
    "import matplotlib.pyplot as plt\n",
    "fig = plt.figure(figsize=[20,10])\n",
    "\n",
    "aapl_px = close_px.AAPL['2006':'2007']\n",
    "ma60 = aapl_px.rolling(30, min_periods=20).mean()\n",
    "ewma60 = aapl_px.ewm(span=30).mean()\n",
    "ma60.plot(style='k--', label='Simple MA')\n",
    "ewma60.plot(style='k-', label='EW MA')\n",
    "plt.legend()"
   ]
  },
  {
   "cell_type": "markdown",
   "metadata": {},
   "source": [
    "#### *7.2 二元移动窗口函数*"
   ]
  },
  {
   "cell_type": "code",
   "execution_count": 213,
   "metadata": {},
   "outputs": [
    {
     "data": {
      "text/plain": [
       "<AxesSubplot:>"
      ]
     },
     "execution_count": 213,
     "metadata": {},
     "output_type": "execute_result"
    },
    {
     "data": {
      "image/png": "[encoded data removed]",
      "text/plain": [
       "<Figure size 1440x720 with 1 Axes>"
      ]
     },
     "metadata": {
      "needs_background": "light"
     },
     "output_type": "display_data"
    }
   ],
   "source": [
    "\"\"\"\n",
    "有些统计运算（如相关系数和协方差）需要在两个时间序列上执行。\n",
    "例如，金融分析师常常对某只股票对某个参考指数（如标准普尔500指数）的相关系数感兴趣。\n",
    "要进行说明，我们先计算我们感兴趣的时间序列的百分数变化：\n",
    "\"\"\"\n",
    "fig = plt.figure(figsize=[20,10])\n",
    "spx_px = close_px_all['SPX']\n",
    "spx_rets = spx_px.pct_change() # 计算变化百分比\n",
    "returns = close_px.pct_change()\n",
    "\n",
    "corr = returns.AAPL.rolling(125, min_periods=100).corr(spx_rets)\n",
    "corr.plot()"
   ]
  },
  {
   "cell_type": "code",
   "execution_count": 216,
   "metadata": {},
   "outputs": [
    {
     "data": {
      "text/plain": [
       "<AxesSubplot:>"
      ]
     },
     "execution_count": 216,
     "metadata": {},
     "output_type": "execute_result"
    },
    {
     "data": {
      "text/plain": [
       "<Figure size 1440x720 with 0 Axes>"
      ]
     },
     "metadata": {},
     "output_type": "display_data"
    },
    {
     "data": {
      "image/png": "[encoded data removed]",
      "text/plain": [
       "<Figure size 432x288 with 1 Axes>"
      ]
     },
     "metadata": {
      "needs_background": "light"
     },
     "output_type": "display_data"
    }
   ],
   "source": [
    "fig = plt.figure(figsize=[20,10])\n",
    "corr = returns.rolling(125, min_periods=100).corr(spx_rets)\n",
    "corr.plot()"
   ]
  },
  {
   "cell_type": "markdown",
   "metadata": {},
   "source": [
    "#### *7.3 用户定义的移动窗口函数*"
   ]
  },
  {
   "cell_type": "code",
   "execution_count": 217,
   "metadata": {},
   "outputs": [
    {
     "data": {
      "text/plain": [
       "<AxesSubplot:>"
      ]
     },
     "execution_count": 217,
     "metadata": {},
     "output_type": "execute_result"
    },
    {
     "data": {
      "image/png": "[encoded data removed]",
      "text/plain": [
       "<Figure size 1440x720 with 1 Axes>"
      ]
     },
     "metadata": {
      "needs_background": "light"
     },
     "output_type": "display_data"
    }
   ],
   "source": [
    "\"\"\"\n",
    "rolling_apply函数使你能够在移动窗口上应用自己设计的数组函数。\n",
    "唯一要求的就是：该函数要能从数组的各个片段中产生单个值（即约简）。\n",
    "比如说，当我们用rolling(...).quantile(q)计算样本分位数时，\n",
    "可能对样本中特定值的百分等级感兴趣。\n",
    "scipy.stats.percentileofscore函数就能达到这个目的（结果见图11-10）：\n",
    "\"\"\"\n",
    "fig = plt.figure(figsize=[20,10])\n",
    "from scipy.stats import percentileofscore\n",
    "score_at_2percent = lambda x: percentileofscore(x, 0.02)\n",
    "result = returns.AAPL.rolling(250).apply(score_at_2percent)\n",
    "result.plot()"
   ]
  },
  {
   "cell_type": "markdown",
   "metadata": {},
   "source": [
    "### *八、时间序列预测*\n",
    "https://zhuanlan.zhihu.com/p/472739821  \n",
    "```\n",
    "AR：自回归\n",
    "MA：平均移动\n",
    "I：差分整合\n",
    "S：季节性\n",
    "V：向量（多维输入）\n",
    "X：外生变量\n",
    "```"
   ]
  },
  {
   "cell_type": "markdown",
   "metadata": {},
   "source": [
    "自回归 (AR)"
   ]
  },
  {
   "cell_type": "code",
   "execution_count": 17,
   "metadata": {},
   "outputs": [],
   "source": [
    "import matplotlib\n",
    "import matplotlib.pyplot as plt\n",
    "import numpy as np\n",
    "import pandas as pd\n",
    "import seaborn as sns\n",
    "\n",
    "import warnings\n",
    "warnings.filterwarnings(\"ignore\") \n",
    "\n",
    "plt.rcParams[\"font.family\"]=\"Kaiti\"\n",
    "matplotlib.rcParams['axes.unicode_minus'] = False \n",
    "plt.style.use('ggplot')\n",
    "#sns.set_style('darkgrid')\n",
    "#sns.set(font=\"Kaiti\")\n",
    "\n",
    "import matplotlib as mpl\n",
    "from cycler import cycler\n",
    "mpl.rcParams['lines.linewidth'] = 2\n",
    "mpl.rcParams['lines.linestyle'] = '-'"
   ]
  },
  {
   "cell_type": "code",
   "execution_count": 65,
   "metadata": {},
   "outputs": [
    {
     "data": {
      "text/plain": [
       "<matplotlib.legend.Legend at 0x2579b9f08b0>"
      ]
     },
     "execution_count": 65,
     "metadata": {},
     "output_type": "execute_result"
    },
    {
     "data": {
      "image/png": "[encoded data removed]",
      "text/plain": [
       "<Figure size 900x600 with 1 Axes>"
      ]
     },
     "metadata": {},
     "output_type": "display_data"
    }
   ],
   "source": [
    "from cProfile import label\n",
    "from statsmodels.tsa.ar_model import AutoReg \n",
    "from random import random \n",
    "# contrived dataset \n",
    "data_x = range(1, 100)\n",
    "data = [i + random() for i in data_x] \n",
    "# fit model \n",
    "model = AutoReg(data, lags=1) \n",
    "model_fit = model.fit() \n",
    "# make prediction \n",
    "y_pred = model_fit.predict(start= len(data), end=len(data)+len(data)//3)\n",
    "\n",
    "fig=plt.figure(num=1,figsize=(6,4),dpi=150,facecolor='#F0FFFF')\n",
    "sns.lineplot(x=range(len(data),len(data)+len(y_pred)), y=y_pred,label='预测值')\n",
    "sns.lineplot(x=range(0,len(data)), y=data,label='原始值')\n",
    "plt.legend()"
   ]
  },
  {
   "cell_type": "markdown",
   "metadata": {},
   "source": [
    "移动平均模型(MA)"
   ]
  },
  {
   "cell_type": "code",
   "execution_count": 64,
   "metadata": {},
   "outputs": [
    {
     "data": {
      "text/plain": [
       "<matplotlib.legend.Legend at 0x2579b9b7b50>"
      ]
     },
     "execution_count": 64,
     "metadata": {},
     "output_type": "execute_result"
    },
    {
     "data": {
      "image/png": "[encoded data removed]",
      "text/plain": [
       "<Figure size 900x600 with 1 Axes>"
      ]
     },
     "metadata": {},
     "output_type": "display_data"
    }
   ],
   "source": [
    "# MA example \n",
    "from statsmodels.tsa.arima.model import ARIMA \n",
    "from random import random \n",
    "# contrived dataset \n",
    "data = [x + random() for x in range(1, 100)] \n",
    "# fit model \n",
    "model = ARIMA(data, order=(0, 0, 1)) \n",
    "model_fit = model.fit() \n",
    "# make prediction \n",
    "yhat = model_fit.predict(len(data), len(data)+len(data)//3) \n",
    "\n",
    "fig=plt.figure(num=1,figsize=(6,4),dpi=150,facecolor='#F0FFFF')\n",
    "sns.lineplot(x=range(len(data),len(data)+len(yhat)), y=yhat,label='预测值')\n",
    "sns.lineplot(x=range(0,len(data)), y=data,label='原始值')\n",
    "plt.legend()"
   ]
  },
  {
   "cell_type": "markdown",
   "metadata": {},
   "source": [
    "自回归滑动平均模型 (ARMA)"
   ]
  },
  {
   "cell_type": "code",
   "execution_count": 66,
   "metadata": {},
   "outputs": [
    {
     "data": {
      "text/plain": [
       "<matplotlib.legend.Legend at 0x2579bb353c0>"
      ]
     },
     "execution_count": 66,
     "metadata": {},
     "output_type": "execute_result"
    },
    {
     "data": {
      "image/png": "[encoded data removed]",
      "text/plain": [
       "<Figure size 900x600 with 1 Axes>"
      ]
     },
     "metadata": {},
     "output_type": "display_data"
    }
   ],
   "source": [
    "# ARMA example \n",
    "from statsmodels.tsa.arima.model import ARIMA \n",
    "from random import random \n",
    "# contrived dataset \n",
    "data = [random() for x in range(1, 100)] \n",
    "# fit model \n",
    "model = ARIMA(data, order=(2, 0, 1)) \n",
    "model_fit = model.fit() \n",
    "# make prediction \n",
    "yhat = model_fit.predict(len(data), len(data)+len(data)//3) \n",
    "fig=plt.figure(num=1,figsize=(6,4),dpi=150,facecolor='#F0FFFF')\n",
    "sns.lineplot(x=range(len(data),len(data)+len(yhat)), y=yhat,label='预测值')\n",
    "sns.lineplot(x=range(0,len(data)), y=data,label='原始值')\n",
    "plt.legend()"
   ]
  },
  {
   "cell_type": "markdown",
   "metadata": {},
   "source": [
    "差分整合移动平均自回归模型 (ARIMA)"
   ]
  },
  {
   "cell_type": "code",
   "execution_count": 67,
   "metadata": {},
   "outputs": [
    {
     "data": {
      "text/plain": [
       "<matplotlib.legend.Legend at 0x2579bb4d7b0>"
      ]
     },
     "execution_count": 67,
     "metadata": {},
     "output_type": "execute_result"
    },
    {
     "data": {
      "image/png": "[encoded data removed]",
      "text/plain": [
       "<Figure size 900x600 with 1 Axes>"
      ]
     },
     "metadata": {},
     "output_type": "display_data"
    }
   ],
   "source": [
    "# ARIMA example \n",
    "from statsmodels.tsa.arima.model import ARIMA \n",
    "from random import random \n",
    "# contrived dataset \n",
    "data = [x + random() for x in range(1, 100)] \n",
    "# fit model \n",
    "model = ARIMA(data, order=(1, 1, 1)) \n",
    "model_fit = model.fit() \n",
    "# make prediction \n",
    "yhat = model_fit.predict(len(data), len(data)+len(data)//3, typ='levels') \n",
    "fig=plt.figure(num=1,figsize=(6,4),dpi=150,facecolor='#F0FFFF')\n",
    "sns.lineplot(x=range(len(data),len(data)+len(yhat)), y=yhat,label='预测值')\n",
    "sns.lineplot(x=range(0,len(data)), y=data,label='原始值')\n",
    "plt.legend()"
   ]
  },
  {
   "cell_type": "markdown",
   "metadata": {},
   "source": [
    "季节性 ARIMA (SARIMA)"
   ]
  },
  {
   "cell_type": "code",
   "execution_count": 68,
   "metadata": {},
   "outputs": [
    {
     "data": {
      "text/plain": [
       "<matplotlib.legend.Legend at 0x2579bbfe2c0>"
      ]
     },
     "execution_count": 68,
     "metadata": {},
     "output_type": "execute_result"
    },
    {
     "data": {
      "image/png": "[encoded data removed]",
      "text/plain": [
       "<Figure size 900x600 with 1 Axes>"
      ]
     },
     "metadata": {},
     "output_type": "display_data"
    }
   ],
   "source": [
    "# SARIMA example \n",
    "from statsmodels.tsa.statespace.sarimax import SARIMAX \n",
    "from random import random \n",
    "# contrived dataset \n",
    "data = [x + random() for x in range(1, 100)] \n",
    "# fit model \n",
    "model = SARIMAX(data, order=(1, 1, 1), seasonal_order=(0, 0, 0, 0)) \n",
    "model_fit = model.fit(disp=False) \n",
    "# make prediction \n",
    "yhat = model_fit.predict(len(data), len(data)+ len(data)//3) \n",
    "fig=plt.figure(num=1,figsize=(6,4),dpi=150,facecolor='#F0FFFF')\n",
    "sns.lineplot(x=range(len(data),len(data)+len(yhat)), y=yhat,label='预测值')\n",
    "sns.lineplot(x=range(0,len(data)), y=data,label='原始值')\n",
    "plt.legend()"
   ]
  },
  {
   "cell_type": "markdown",
   "metadata": {},
   "source": [
    "包含外生变量的SARIMA (SARIMAX)"
   ]
  },
  {
   "cell_type": "code",
   "execution_count": null,
   "metadata": {},
   "outputs": [],
   "source": [
    "# SARIMAX example \n",
    "from statsmodels.tsa.statespace.sarimax import SARIMAX \n",
    "from random import random \n",
    "# contrived dataset \n",
    "data1 = [x + random() for x in range(1, 100)] \n",
    "data2 = [x + random() for x in range(101, 200)] \n",
    "# fit model \n",
    "model = SARIMAX(data1, exog=data2, order=(1, 1, 1), seasonal_order=(0, 0, 0, 0)) \n",
    "model_fit = model.fit(disp=False) \n",
    "# make prediction \n",
    "exog2 = [200 + random()] \n",
    "yhat = model_fit.predict(len(data1), len(data1)+len(data1)//3, exog=[exog2]) \n",
    "sns.lineplot(x=range(len(data),len(data)+len(yhat)), y=yhat,label='预测值')\n",
    "sns.lineplot(x=range(0,len(data)), y=data,label='原始值')\n",
    "plt.legend()"
   ]
  },
  {
   "cell_type": "markdown",
   "metadata": {},
   "source": [
    "向量自回归 (VAR)"
   ]
  },
  {
   "cell_type": "code",
   "execution_count": null,
   "metadata": {},
   "outputs": [],
   "source": [
    "# VAR example \n",
    "from statsmodels.tsa.vector_ar.var_model import VAR \n",
    "from random import random \n",
    "# contrived dataset with dependency \n",
    "data = list() \n",
    "for i in range(100): \n",
    "    v1 = i + random() \n",
    "    v2 = v1 + random() \n",
    "    row = [v1, v2] \n",
    "    data.append(row) \n",
    "# fit model \n",
    "model = VAR(data) \n",
    "model_fit = model.fit() \n",
    "# make prediction \n",
    "yhat = model_fit.forecast(model_fit.y, steps=1) \n",
    "print(yhat)"
   ]
  },
  {
   "cell_type": "markdown",
   "metadata": {},
   "source": [
    "向量自回归滑动平均模型 (VARMA)"
   ]
  },
  {
   "cell_type": "code",
   "execution_count": null,
   "metadata": {},
   "outputs": [],
   "source": [
    "# VARMAX example \n",
    "from statsmodels.tsa.statespace.varmax import VARMAX \n",
    "from random import random \n",
    "# contrived dataset with dependency \n",
    "data = list() \n",
    "for i in range(100): \n",
    "    v1 = random() \n",
    "    v2 = v1 + random() \n",
    "    row = [v1, v2] \n",
    "    data.append(row) \n",
    "data_exog = [x + random() for x in range(100)] \n",
    "# fit model \n",
    "model = VARMAX(data, exog=data_exog, order=(1, 1)) \n",
    "model_fit = model.fit(disp=False) \n",
    "# make prediction \n",
    "data_exog2 = [[100]] \n",
    "yhat = model_fit.forecast(exog=data_exog2) \n",
    "print(yhat)"
   ]
  },
  {
   "cell_type": "markdown",
   "metadata": {},
   "source": [
    "包含外生变量的向量自回归滑动平均模型 (VARMAX)"
   ]
  },
  {
   "cell_type": "code",
   "execution_count": null,
   "metadata": {},
   "outputs": [],
   "source": [
    "# VARMAX example \n",
    "from statsmodels.tsa.statespace.varmax import VARMAX \n",
    "from random import random \n",
    "# contrived dataset with dependency \n",
    "data = list() \n",
    "for i in range(100): \n",
    "    v1 = random() \n",
    "    v2 = v1 + random() \n",
    "    row = [v1, v2] \n",
    "    data.append(row) \n",
    "data_exog = [x + random() for x in range(100)] \n",
    "# fit model \n",
    "model = VARMAX(data, exog=data_exog, order=(1, 1)) \n",
    "model_fit = model.fit(disp=False) \n",
    "# make prediction \n",
    "data_exog2 = [[100]] \n",
    "yhat = model_fit.forecast(exog=data_exog2) \n",
    "print(yhat)"
   ]
  },
  {
   "cell_type": "markdown",
   "metadata": {},
   "source": [
    "### *九、Auto ARIMA*"
   ]
  },
  {
   "cell_type": "code",
   "execution_count": null,
   "metadata": {},
   "outputs": [],
   "source": [
    "#!usr/bin/env python\n",
    "# !usr/bin/env python\n",
    "# -*- coding:utf-8 _*-\n",
    "\"\"\"\n",
    "@author: liujie\n",
    "@software: PyCharm\n",
    "@file: auto_arima.py\n",
    "@time: 2020/11/7 21:27\n",
    "\"\"\"\n",
    "# 一次性预测多个值\n",
    "'''\n",
    "# 文档部分参考:http://alkaline-ml.com/pmdarima/modules/generated/pmdarima.arima.auto_arima.html?highlight=auto_arima\n",
    "ARIMA是一个非常强大的时间序列预测模型，但是数据准备与参数调整过程非常耗时\n",
    "Auto ARIMA让整个任务变得非常简单，舍去了序列平稳化，确定d值，创建ACF值和PACF图，确定p值和q值的过程\n",
    "\n",
    "Auto ARIMA的步骤:\n",
    "    1.加载数据并进行数据处理，修改成时间索引\n",
    "    2.预处理数据:输入的应该是单变量，因此需要删除其他列\n",
    "    3.拟合Auto ARIMA，在单变量序列上拟合模型\n",
    "    4.在验证集上进行预测\n",
    "    5.计算RMSE:用验证集上的预测值和实际值检查RMSE值\n",
    "    \n",
    "Auto-ARIMA通过进行差分测试,来确定差分d的顺序，然后在定义的start_p、max_p、start_q、max_q范围内拟合模型。\n",
    "如果季节可选选项被启用，auto-ARIMA还会在进行Canova-Hansen测试以确定季节差分的最优顺序D后，寻找最优的P和Q超参数。\n",
    "为了找到最好的模型,给定information_criterion auto-ARIMA优化,(‘aic’,‘aicc’,‘bic’,‘hqic’,‘oob’)\n",
    "并返回ARIMA的最小值。\n",
    "注意，由于平稳性问题，auto-ARIMA可能无法找到合适的收敛模型。如果是这种情况，将抛出一个ValueError，\n",
    "建议在重新拟合之前使数据变稳定，或者选择一个新的顺序值范围。\n",
    "非逐步的(也就是网格搜索)选择可能会很慢，特别是对于季节性数据。Hyndman和Khandakar(2008)中概述了逐步算法。\n",
    "'''\n",
    "import warnings\n",
    "import pandas as pd\n",
    "import numpy as np\n",
    "import matplotlib as mpl\n",
    "import matplotlib.pyplot as plt\n",
    "from datetime import datetime\n",
    "from math import sqrt\n",
    "from sklearn.metrics import mean_squared_error\n",
    "from pmdarima.arima import auto_arima\n",
    "\n",
    "\n",
    "def main():\n",
    "    warnings.filterwarnings(action='ignore')\n",
    "    # 第一步:加载数据\n",
    "    # 定义将字符串时间转化成日期时间数组\n",
    "    date_parser = lambda dates: datetime.strptime(dates, '%Y/%m/%d')\n",
    "    data = pd.read_csv('../data/Data.csv', header=0, parse_dates=['month'], date_parser=date_parser, index_col='month')\n",
    "    data.fillna(method='pad', inplace=True)\n",
    "    # print(data.head(5))\n",
    "    # print(data.index)\n",
    "    # print(data.dtypes)\n",
    "\n",
    "    # 第二步：预处理数据-由于所给数据本身就是单变量序列，并且没有空值，因此，可以不进行这一步处理\n",
    "    # 将数据分成训练集与验证集\n",
    "    val_size = 100\n",
    "    train_size = 10 * val_size\n",
    "    train, val = data[-(train_size + val_size):-val_size + 1]['data'], data[-val_size:]['data']\n",
    "    # plot the data\n",
    "    fig = plt.figure()\n",
    "    fig.add_subplot()\n",
    "    plt.plot(train, 'r-', label='train_data')\n",
    "    plt.plot(val, 'y-', label='val_data')\n",
    "    plt.legend(loc='best')\n",
    "    plt.show(block=False)\n",
    "\n",
    "    # 第三步:buliding the model\n",
    "    # 仅需要fit命令来拟合模型,而不必要选择p、d、q的组合，模型会生成AIC值和BIC值，以确定参数的最佳组合\n",
    "    # AIC和 BIC是用于比较模型的评估器，这些值越低，模型就越好\n",
    "    '''\n",
    "    网址:http://alkaline-ml.com/pmdarima/modules/generated/pmdarima.arima.auto_arima.html?highlight=auto_arima\n",
    "    auto_arima部分参数解析(季节性参数未写):\n",
    "        1.start_p:p的起始值，自回归(“AR”)模型的阶数(或滞后时间的数量),必须是正整数\n",
    "        2.start_q:q的初始值，移动平均(MA)模型的阶数。必须是正整数。\n",
    "        3.max_p:p的最大值，必须是大于或等于start_p的正整数。\n",
    "        4.max_q:q的最大值，必须是一个大于start_q的正整数\n",
    "        5.seasonal:是否适合季节性ARIMA。默认是正确的。注意，如果season为真，而m == 1，则season将设置为False。\n",
    "        6.stationary :时间序列是否平稳，d是否为零。\n",
    "        6.information_criterion：信息准则用于选择最佳的ARIMA模型。(‘aic’，‘bic’，‘hqic’，‘oob’)之一\n",
    "        7.alpha：检验水平的检验显著性，默认0.05\n",
    "        8.test:如果stationary为假且d为None，用来检测平稳性的单位根检验的类型。默认为‘kpss’;可设置为adf\n",
    "        9.n_jobs ：网格搜索中并行拟合的模型数(逐步=False)。默认值是1，但是-1可以用来表示“尽可能多”。\n",
    "        10.suppress_warnings：statsmodel中可能会抛出许多警告。如果suppress_warnings为真，那么来自ARIMA的所有警告都将被压制\n",
    "        11.error_action:如果由于某种原因无法匹配ARIMA，则可以控制错误处理行为。(warn,raise,ignore,trace)\n",
    "        12.max_d:d的最大值，即非季节差异的最大数量。必须是大于或等于d的正整数。\n",
    "        13.trace:是否打印适合的状态。如果值为False，则不会打印任何调试信息。值为真会打印一些\n",
    "    '''\n",
    "    model = auto_arima(train, start_p=0, start_q=0, max_p=6, max_q=6, max_d=2,\n",
    "                       seasonal=True, test='adf',\n",
    "                       error_action='ignore',\n",
    "                       information_criterion='aic',\n",
    "                       njob=-1, trace=True, suppress_warnings=True)\n",
    "    model.fit(train)\n",
    "\n",
    "    # 第四步:在验证集上进行预测\n",
    "    forecast = model.predict(n_periods=len(val))\n",
    "    print(forecast)\n",
    "    forecast = pd.DataFrame(forecast, index=val.index, columns=['prediction'])\n",
    "\n",
    "    # calculate rmse\n",
    "    rmse = np.sqrt(mean_squared_error(val, forecast))\n",
    "    print('RMSE : %.4f' % rmse)\n",
    "\n",
    "    # plot predictions\n",
    "    fig = plt.figure()\n",
    "    fig.add_subplot()\n",
    "    plt.plot(train, 'r-', label='train')\n",
    "    plt.plot(val, 'y-', label='val')\n",
    "    plt.plot(forecast, 'b-', label='prediction')\n",
    "    plt.legend(loc='best')\n",
    "    plt.title('RMSE : %.4f' % rmse)\n",
    "    plt.show(block=False)\n",
    "\n",
    "\n",
    "if __name__ == '__main__':\n",
    "    main()\n",
    "\n"
   ]
  },
  {
   "cell_type": "code",
   "execution_count": null,
   "metadata": {},
   "outputs": [],
   "source": [
    "#!usr/bin/env python\n",
    "# !usr/bin/env python\n",
    "# -*- coding:utf-8 _*-\n",
    "\"\"\"\n",
    "@author: liujie\n",
    "@software: PyCharm\n",
    "@file: auto_arima.py\n",
    "@time: 2020/11/8 14:29\n",
    "\"\"\"\n",
    "# 滚动预测-滚动窗口大小为120，预测个数为100\n",
    "'''\n",
    "# 文档部分参考:http://alkaline-ml.com/pmdarima/modules/generated/pmdarima.arima.auto_arima.html?highlight=auto_arima\n",
    "ARIMA是一个非常强大的时间序列预测模型，但是数据准备与参数调整过程非常耗时\n",
    "Auto ARIMA让整个任务变得非常简单，舍去了序列平稳化，确定d值，创建ACF值和PACF图，确定p值和q值的过程\n",
    "\n",
    "Auto ARIMA的步骤:\n",
    "    1.加载数据并进行数据处理，修改成时间索引\n",
    "    2.预处理数据:输入的应该是单变量，因此需要删除其他列\n",
    "    3.拟合Auto ARIMA，在单变量序列上拟合模型\n",
    "    4.在验证集上进行预测\n",
    "    5.计算RMSE:用验证集上的预测值和实际值检查RMSE值\n",
    "\n",
    "Auto-ARIMA通过进行差分测试,来确定差分d的顺序，然后在定义的start_p、max_p、start_q、max_q范围内拟合模型。\n",
    "如果季节可选选项被启用，auto-ARIMA还会在进行Canova-Hansen测试以确定季节差分的最优顺序D后，寻找最优的P和Q超参数。\n",
    "为了找到最好的模型,给定information_criterion auto-ARIMA优化,(‘aic’,‘aicc’,‘bic’,‘hqic’,‘oob’)\n",
    "并返回ARIMA的最小值。\n",
    "注意，由于平稳性问题，auto-ARIMA可能无法找到合适的收敛模型。如果是这种情况，将抛出一个ValueError，\n",
    "建议在重新拟合之前使数据变稳定，或者选择一个新的顺序值范围。\n",
    "非逐步的(也就是网格搜索)选择可能会很慢，特别是对于季节性数据。Hyndman和Khandakar(2008)中概述了逐步算法。\n",
    "'''\n",
    "import os\n",
    "import pandas as pd\n",
    "import numpy as np\n",
    "import matplotlib.pyplot as plt\n",
    "from datetime import datetime\n",
    "from sklearn.metrics import mean_squared_error\n",
    "from pmdarima.arima import auto_arima\n",
    "\n",
    "# 生成一个路径\n",
    "def generpath(path):\n",
    "    if not os.path.exists(path):\n",
    "        os.makedirs(path)\n",
    "\n",
    "# 生成文件\n",
    "def generfile(path,filename,m):\n",
    "    if not os.path.exists(path+filename):\n",
    "        order = [x for x in range(1,m+1)]\n",
    "        dataframe = pd.DataFrame({\"order\":order})\n",
    "        dataframe.to_csv(path+filename,sep=',')     # 将对象写入文件中\n",
    "\n",
    "# 生成数据\n",
    "def datasave(savepath,saveindex,y_test_pre):\n",
    "    sdata =pd.read_csv(savepath)\n",
    "    sdata= pd.DataFrame(sdata)\n",
    "    y_test_pre = np.array(y_test_pre)\n",
    "    sdata[saveindex] = y_test_pre\n",
    "    sdata.to_csv(savepath,index = False)\n",
    "\n",
    "def main():\n",
    "    # 加载数据\n",
    "    # 定义将字符串时间转化成日期时间数组\n",
    "    date_parser = lambda dates: datetime.strptime(dates, '%Y/%m/%d')\n",
    "    data = pd.read_csv('../data/Data.csv', header=0, parse_dates=['month'], date_parser=date_parser, index_col='month')\n",
    "    data.fillna(method='pad', inplace=True)\n",
    "    # print(data.head(5))\n",
    "    # print(data.index)\n",
    "    # print(data.dtypes)\n",
    "\n",
    "    # 预处理数据-由于所给数据本身就是单变量序列，并且没有空值，因此，可以不进行这一步处理\n",
    "\n",
    "    # 设置滚动预测的参数\n",
    "    columns = 'data'\n",
    "    ts = data[columns]\n",
    "    test_size = 100  # 需要预测的个数\n",
    "    rolling_size = 120  # 滚动窗口大小\n",
    "    ps = 1  # 每次预测的个数\n",
    "    horizon = 1  # 用来消除切片的影响\n",
    "    pre = []  # 存放预测值\n",
    "    test = ts[-test_size:]\n",
    "\n",
    "    # 滚动预测\n",
    "    for i in range(test_size):\n",
    "        print(i)\n",
    "        train = ts[-(rolling_size + test_size - i):-(test_size + horizon - i)]\n",
    "        '''\n",
    "        网址:http://alkaline-ml.com/pmdarima/modules/generated/pmdarima.arima.auto_arima.html?highlight=auto_arima\n",
    "        auto_arima部分参数解析:\n",
    "            1.start_p:p的起始值，自回归(“AR”)模型的阶数(或滞后时间的数量),必须是正整数\n",
    "            2.start_q:q的初始值，移动平均(MA)模型的阶数。必须是正整数。\n",
    "            3.max_p:p的最大值，必须是大于或等于start_p的正整数。\n",
    "            4.max_q:q的最大值，必须是一个大于start_q的正整数\n",
    "            5.seasonal:是否适合季节性ARIMA。默认是正确的。注意，如果season为真，而m == 1，则season将设置为False。\n",
    "            6.stationary :时间序列是否平稳，d是否为零。\n",
    "            6.information_criterion：信息准则用于选择最佳的ARIMA模型。(‘aic’，‘bic’，‘hqic’，‘oob’)之一\n",
    "            7.alpha：检验水平的检验显著性，默认0.05\n",
    "            8.test:如果stationary为假且d为None，用来检测平稳性的单位根检验的类型。默认为‘kpss’;可设置为adf\n",
    "            9.n_jobs ：网格搜索中并行拟合的模型数(逐步=False)。默认值是1，但是-1可以用来表示“尽可能多”。\n",
    "            10.suppress_warnings：statsmodel中可能会抛出许多警告。如果suppress_warnings为真，那么来自ARIMA的所有警告都将被压制\n",
    "            11.error_action:如果由于某种原因无法匹配ARIMA，则可以控制错误处理行为。(warn,raise,ignore,trace)\n",
    "            12.max_d:d的最大值，即非季节差异的最大数量。必须是大于或等于d的正整数。\n",
    "            13.trace:是否打印适合的状态。如果值为False，则不会打印任何调试信息。值为真会打印一些\n",
    "        '''\n",
    "        model = auto_arima(train, start_p=0, start_q=0, max_p=6, max_q=6, max_d=2,\n",
    "                           seasonal=True, test='adf',\n",
    "                           error_action='ignore',\n",
    "                           information_criterion='aic',\n",
    "                           njob=-1, suppress_warnings=True)\n",
    "        model.fit(train)\n",
    "        forecast = model.predict(n_periods=ps)\n",
    "        pre.append(forecast[-1])\n",
    "\n",
    "\n",
    "    predictions_ = pd.Series(pre,index=test.index)\n",
    "    # print(predictions)\n",
    "\n",
    "    # 计算RMSE\n",
    "    rmse = np.sqrt(mean_squared_error(predictions_, test))\n",
    "\n",
    "    # 画图\n",
    "    fig = plt.figure()\n",
    "    fig.add_subplot()\n",
    "    plt.plot(test, 'r-', label='test')\n",
    "    plt.plot(predictions_, 'b-', label='predictions')\n",
    "    plt.title('RMSE : %.4f' % rmse)\n",
    "    plt.legend(loc='best')\n",
    "    plt.show(block=False)\n",
    "\n",
    "    predictions = np.array(pre).reshape(-1,1)\n",
    "    test = np.array(test[:len(predictions)].values).reshape(-1,1)\n",
    "    # 保存模型\n",
    "    savepath = \"predata/AUTO-ARIMA/\"\n",
    "    filename = \"AUTO-ARIMA预测.csv\"\n",
    "\n",
    "    saveindex = columns + \"_\" + \"day\" + str(horizon)\n",
    "    generpath(savepath)\n",
    "    generfile(savepath, filename, len(predictions))\n",
    "    datasave(savepath + filename, \"y_true\", test)\n",
    "    datasave(savepath + filename, saveindex, predictions)\n",
    "\n",
    "\n",
    "if __name__ == '__main__':\n",
    "    main()\n",
    "\n"
   ]
  },
  {
   "cell_type": "markdown",
   "metadata": {},
   "source": [
    "### *十、指数平滑法*"
   ]
  },
  {
   "cell_type": "markdown",
   "metadata": {},
   "source": [
    "一次指数平滑"
   ]
  },
  {
   "cell_type": "code",
   "execution_count": 5,
   "metadata": {},
   "outputs": [
    {
     "data": {
      "image/png": "[encoded data removed]",
      "text/plain": [
       "<Figure size 432x288 with 1 Axes>"
      ]
     },
     "metadata": {
      "needs_background": "light"
     },
     "output_type": "display_data"
    }
   ],
   "source": [
    "import numpy as np\n",
    "import pandas as pd\n",
    "import matplotlib.pyplot as plt\n",
    "\n",
    "#def ses():\n",
    "from statsmodels.tsa.holtwinters import SimpleExpSmoothing\n",
    "number = 30\n",
    "x1 = np.round(np.linspace(0, 1, number), 4)\n",
    "y1 = pd.Series(np.multiply(x1, (x1 - 0.5)) + np.random.randn(number))\n",
    "# fitted部分是直线或者是曲线，受到原始数据影响。\n",
    "# 多次测试显示，直线的概率高。\n",
    "# ets1 = SimpleExpSmoothing(endog=y1, initialization_method='estimated')\n",
    "ets1 = SimpleExpSmoothing(endog=y1, initialization_method='heuristic')\n",
    "r1 = ets1.fit()\n",
    "pred1 = r1.predict(start=len(y1), end=len(y1) + len(y1)//2)\n",
    "\n",
    "plot_data=pd.DataFrame({\n",
    "    'origin': y1,\n",
    "    'fitted': r1.fittedvalues,\n",
    "    'pred': pred1\n",
    "})\n",
    "plot_data.plot()\n",
    "plt.savefig('ses.png')\n",
    "\n",
    "#ses()\n"
   ]
  },
  {
   "cell_type": "code",
   "execution_count": 6,
   "metadata": {},
   "outputs": [
    {
     "data": {
      "text/html": [
       "<div>\n",
       "<style scoped>\n",
       "    .dataframe tbody tr th:only-of-type {\n",
       "        vertical-align: middle;\n",
       "    }\n",
       "\n",
       "    .dataframe tbody tr th {\n",
       "        vertical-align: top;\n",
       "    }\n",
       "\n",
       "    .dataframe thead th {\n",
       "        text-align: right;\n",
       "    }\n",
       "</style>\n",
       "<table border=\"1\" class=\"dataframe\">\n",
       "  <thead>\n",
       "    <tr style=\"text-align: right;\">\n",
       "      <th></th>\n",
       "      <th>origin</th>\n",
       "      <th>fitted</th>\n",
       "      <th>pred</th>\n",
       "    </tr>\n",
       "  </thead>\n",
       "  <tbody>\n",
       "    <tr>\n",
       "      <th>0</th>\n",
       "      <td>-0.213734</td>\n",
       "      <td>0.068058</td>\n",
       "      <td>NaN</td>\n",
       "    </tr>\n",
       "    <tr>\n",
       "      <th>1</th>\n",
       "      <td>0.468390</td>\n",
       "      <td>0.068058</td>\n",
       "      <td>NaN</td>\n",
       "    </tr>\n",
       "    <tr>\n",
       "      <th>2</th>\n",
       "      <td>-0.193751</td>\n",
       "      <td>0.068058</td>\n",
       "      <td>NaN</td>\n",
       "    </tr>\n",
       "    <tr>\n",
       "      <th>3</th>\n",
       "      <td>0.076279</td>\n",
       "      <td>0.068058</td>\n",
       "      <td>NaN</td>\n",
       "    </tr>\n",
       "    <tr>\n",
       "      <th>4</th>\n",
       "      <td>-0.470229</td>\n",
       "      <td>0.068058</td>\n",
       "      <td>NaN</td>\n",
       "    </tr>\n",
       "    <tr>\n",
       "      <th>5</th>\n",
       "      <td>-0.438117</td>\n",
       "      <td>0.068058</td>\n",
       "      <td>NaN</td>\n",
       "    </tr>\n",
       "    <tr>\n",
       "      <th>6</th>\n",
       "      <td>-0.879043</td>\n",
       "      <td>0.068058</td>\n",
       "      <td>NaN</td>\n",
       "    </tr>\n",
       "    <tr>\n",
       "      <th>7</th>\n",
       "      <td>0.847233</td>\n",
       "      <td>0.068058</td>\n",
       "      <td>NaN</td>\n",
       "    </tr>\n",
       "    <tr>\n",
       "      <th>8</th>\n",
       "      <td>0.940916</td>\n",
       "      <td>0.068058</td>\n",
       "      <td>NaN</td>\n",
       "    </tr>\n",
       "    <tr>\n",
       "      <th>9</th>\n",
       "      <td>-1.491035</td>\n",
       "      <td>0.068058</td>\n",
       "      <td>NaN</td>\n",
       "    </tr>\n",
       "    <tr>\n",
       "      <th>10</th>\n",
       "      <td>-0.169536</td>\n",
       "      <td>0.068058</td>\n",
       "      <td>NaN</td>\n",
       "    </tr>\n",
       "    <tr>\n",
       "      <th>11</th>\n",
       "      <td>2.017067</td>\n",
       "      <td>0.068058</td>\n",
       "      <td>NaN</td>\n",
       "    </tr>\n",
       "    <tr>\n",
       "      <th>12</th>\n",
       "      <td>-0.305707</td>\n",
       "      <td>0.068058</td>\n",
       "      <td>NaN</td>\n",
       "    </tr>\n",
       "    <tr>\n",
       "      <th>13</th>\n",
       "      <td>-0.222886</td>\n",
       "      <td>0.068058</td>\n",
       "      <td>NaN</td>\n",
       "    </tr>\n",
       "    <tr>\n",
       "      <th>14</th>\n",
       "      <td>0.034618</td>\n",
       "      <td>0.068058</td>\n",
       "      <td>NaN</td>\n",
       "    </tr>\n",
       "    <tr>\n",
       "      <th>15</th>\n",
       "      <td>0.225241</td>\n",
       "      <td>0.068058</td>\n",
       "      <td>NaN</td>\n",
       "    </tr>\n",
       "    <tr>\n",
       "      <th>16</th>\n",
       "      <td>-0.650213</td>\n",
       "      <td>0.068058</td>\n",
       "      <td>NaN</td>\n",
       "    </tr>\n",
       "    <tr>\n",
       "      <th>17</th>\n",
       "      <td>-1.381560</td>\n",
       "      <td>0.068058</td>\n",
       "      <td>NaN</td>\n",
       "    </tr>\n",
       "    <tr>\n",
       "      <th>18</th>\n",
       "      <td>0.356669</td>\n",
       "      <td>0.068058</td>\n",
       "      <td>NaN</td>\n",
       "    </tr>\n",
       "    <tr>\n",
       "      <th>19</th>\n",
       "      <td>1.436686</td>\n",
       "      <td>0.068058</td>\n",
       "      <td>NaN</td>\n",
       "    </tr>\n",
       "    <tr>\n",
       "      <th>20</th>\n",
       "      <td>0.685693</td>\n",
       "      <td>0.068058</td>\n",
       "      <td>NaN</td>\n",
       "    </tr>\n",
       "    <tr>\n",
       "      <th>21</th>\n",
       "      <td>-0.269881</td>\n",
       "      <td>0.068058</td>\n",
       "      <td>NaN</td>\n",
       "    </tr>\n",
       "    <tr>\n",
       "      <th>22</th>\n",
       "      <td>-0.086420</td>\n",
       "      <td>0.068058</td>\n",
       "      <td>NaN</td>\n",
       "    </tr>\n",
       "    <tr>\n",
       "      <th>23</th>\n",
       "      <td>0.422183</td>\n",
       "      <td>0.068058</td>\n",
       "      <td>NaN</td>\n",
       "    </tr>\n",
       "    <tr>\n",
       "      <th>24</th>\n",
       "      <td>-2.177039</td>\n",
       "      <td>0.068058</td>\n",
       "      <td>NaN</td>\n",
       "    </tr>\n",
       "    <tr>\n",
       "      <th>25</th>\n",
       "      <td>1.078268</td>\n",
       "      <td>0.068058</td>\n",
       "      <td>NaN</td>\n",
       "    </tr>\n",
       "    <tr>\n",
       "      <th>26</th>\n",
       "      <td>0.974040</td>\n",
       "      <td>0.068058</td>\n",
       "      <td>NaN</td>\n",
       "    </tr>\n",
       "    <tr>\n",
       "      <th>27</th>\n",
       "      <td>-0.667075</td>\n",
       "      <td>0.068058</td>\n",
       "      <td>NaN</td>\n",
       "    </tr>\n",
       "    <tr>\n",
       "      <th>28</th>\n",
       "      <td>-0.385958</td>\n",
       "      <td>0.068058</td>\n",
       "      <td>NaN</td>\n",
       "    </tr>\n",
       "    <tr>\n",
       "      <th>29</th>\n",
       "      <td>2.480643</td>\n",
       "      <td>0.068058</td>\n",
       "      <td>NaN</td>\n",
       "    </tr>\n",
       "    <tr>\n",
       "      <th>30</th>\n",
       "      <td>NaN</td>\n",
       "      <td>NaN</td>\n",
       "      <td>0.068058</td>\n",
       "    </tr>\n",
       "    <tr>\n",
       "      <th>31</th>\n",
       "      <td>NaN</td>\n",
       "      <td>NaN</td>\n",
       "      <td>0.068058</td>\n",
       "    </tr>\n",
       "    <tr>\n",
       "      <th>32</th>\n",
       "      <td>NaN</td>\n",
       "      <td>NaN</td>\n",
       "      <td>0.068058</td>\n",
       "    </tr>\n",
       "    <tr>\n",
       "      <th>33</th>\n",
       "      <td>NaN</td>\n",
       "      <td>NaN</td>\n",
       "      <td>0.068058</td>\n",
       "    </tr>\n",
       "    <tr>\n",
       "      <th>34</th>\n",
       "      <td>NaN</td>\n",
       "      <td>NaN</td>\n",
       "      <td>0.068058</td>\n",
       "    </tr>\n",
       "    <tr>\n",
       "      <th>35</th>\n",
       "      <td>NaN</td>\n",
       "      <td>NaN</td>\n",
       "      <td>0.068058</td>\n",
       "    </tr>\n",
       "    <tr>\n",
       "      <th>36</th>\n",
       "      <td>NaN</td>\n",
       "      <td>NaN</td>\n",
       "      <td>0.068058</td>\n",
       "    </tr>\n",
       "    <tr>\n",
       "      <th>37</th>\n",
       "      <td>NaN</td>\n",
       "      <td>NaN</td>\n",
       "      <td>0.068058</td>\n",
       "    </tr>\n",
       "    <tr>\n",
       "      <th>38</th>\n",
       "      <td>NaN</td>\n",
       "      <td>NaN</td>\n",
       "      <td>0.068058</td>\n",
       "    </tr>\n",
       "    <tr>\n",
       "      <th>39</th>\n",
       "      <td>NaN</td>\n",
       "      <td>NaN</td>\n",
       "      <td>0.068058</td>\n",
       "    </tr>\n",
       "    <tr>\n",
       "      <th>40</th>\n",
       "      <td>NaN</td>\n",
       "      <td>NaN</td>\n",
       "      <td>0.068058</td>\n",
       "    </tr>\n",
       "    <tr>\n",
       "      <th>41</th>\n",
       "      <td>NaN</td>\n",
       "      <td>NaN</td>\n",
       "      <td>0.068058</td>\n",
       "    </tr>\n",
       "    <tr>\n",
       "      <th>42</th>\n",
       "      <td>NaN</td>\n",
       "      <td>NaN</td>\n",
       "      <td>0.068058</td>\n",
       "    </tr>\n",
       "    <tr>\n",
       "      <th>43</th>\n",
       "      <td>NaN</td>\n",
       "      <td>NaN</td>\n",
       "      <td>0.068058</td>\n",
       "    </tr>\n",
       "    <tr>\n",
       "      <th>44</th>\n",
       "      <td>NaN</td>\n",
       "      <td>NaN</td>\n",
       "      <td>0.068058</td>\n",
       "    </tr>\n",
       "    <tr>\n",
       "      <th>45</th>\n",
       "      <td>NaN</td>\n",
       "      <td>NaN</td>\n",
       "      <td>0.068058</td>\n",
       "    </tr>\n",
       "  </tbody>\n",
       "</table>\n",
       "</div>"
      ],
      "text/plain": [
       "      origin    fitted      pred\n",
       "0  -0.213734  0.068058       NaN\n",
       "1   0.468390  0.068058       NaN\n",
       "2  -0.193751  0.068058       NaN\n",
       "3   0.076279  0.068058       NaN\n",
       "4  -0.470229  0.068058       NaN\n",
       "5  -0.438117  0.068058       NaN\n",
       "6  -0.879043  0.068058       NaN\n",
       "7   0.847233  0.068058       NaN\n",
       "8   0.940916  0.068058       NaN\n",
       "9  -1.491035  0.068058       NaN\n",
       "10 -0.169536  0.068058       NaN\n",
       "11  2.017067  0.068058       NaN\n",
       "12 -0.305707  0.068058       NaN\n",
       "13 -0.222886  0.068058       NaN\n",
       "14  0.034618  0.068058       NaN\n",
       "15  0.225241  0.068058       NaN\n",
       "16 -0.650213  0.068058       NaN\n",
       "17 -1.381560  0.068058       NaN\n",
       "18  0.356669  0.068058       NaN\n",
       "19  1.436686  0.068058       NaN\n",
       "20  0.685693  0.068058       NaN\n",
       "21 -0.269881  0.068058       NaN\n",
       "22 -0.086420  0.068058       NaN\n",
       "23  0.422183  0.068058       NaN\n",
       "24 -2.177039  0.068058       NaN\n",
       "25  1.078268  0.068058       NaN\n",
       "26  0.974040  0.068058       NaN\n",
       "27 -0.667075  0.068058       NaN\n",
       "28 -0.385958  0.068058       NaN\n",
       "29  2.480643  0.068058       NaN\n",
       "30       NaN       NaN  0.068058\n",
       "31       NaN       NaN  0.068058\n",
       "32       NaN       NaN  0.068058\n",
       "33       NaN       NaN  0.068058\n",
       "34       NaN       NaN  0.068058\n",
       "35       NaN       NaN  0.068058\n",
       "36       NaN       NaN  0.068058\n",
       "37       NaN       NaN  0.068058\n",
       "38       NaN       NaN  0.068058\n",
       "39       NaN       NaN  0.068058\n",
       "40       NaN       NaN  0.068058\n",
       "41       NaN       NaN  0.068058\n",
       "42       NaN       NaN  0.068058\n",
       "43       NaN       NaN  0.068058\n",
       "44       NaN       NaN  0.068058\n",
       "45       NaN       NaN  0.068058"
      ]
     },
     "execution_count": 6,
     "metadata": {},
     "output_type": "execute_result"
    }
   ],
   "source": [
    "plot_data"
   ]
  },
  {
   "cell_type": "markdown",
   "metadata": {},
   "source": [
    "二次指数平滑"
   ]
  },
  {
   "cell_type": "code",
   "execution_count": 41,
   "metadata": {},
   "outputs": [
    {
     "data": {
      "image/png": "[encoded data removed]",
      "text/plain": [
       "<Figure size 432x288 with 1 Axes>"
      ]
     },
     "metadata": {},
     "output_type": "display_data"
    }
   ],
   "source": [
    "import numpy as np\n",
    "import pandas as pd\n",
    "import matplotlib.pyplot as plt\n",
    "\n",
    "def holt():\n",
    "    from statsmodels.tsa.holtwinters import Holt\n",
    "    number = 50\n",
    "    x2 = np.round(np.linspace(0, 99, number))\n",
    "    y2 = pd.Series(0.1 * x2 + 2 * np.random.randn(number))\n",
    "    # fitted部分是直线或者是曲线，受到原始数据影响。\n",
    "    # 多次测试显示，直线的概率高。\n",
    "    ets2 = Holt(endog=y2, initialization_method='estimated')\n",
    "    # ets2 = Holt(endog=y2, initialization_method='heuristic')\n",
    "    # ets2 = Holt(endog=y2, initialization_method='estimated', damped_trend=True)\n",
    "    r2 = ets2.fit()\n",
    "    pred2 = r2.predict(start=len(y2), end=len(y2) + len(y2) // 2)\n",
    "\n",
    "    pd.DataFrame({\n",
    "        'origin': y2,\n",
    "        'fitted': r2.fittedvalues,\n",
    "        'pred': pred2\n",
    "    }).plot(legend=True)\n",
    "    plt.savefig('holt2.png')\n",
    "\n",
    "holt()\n"
   ]
  },
  {
   "cell_type": "markdown",
   "metadata": {},
   "source": [
    "三次指数平滑-引入了季节性"
   ]
  },
  {
   "cell_type": "code",
   "execution_count": 40,
   "metadata": {},
   "outputs": [
    {
     "data": {
      "image/png": "[encoded data removed]",
      "text/plain": [
       "<Figure size 432x288 with 1 Axes>"
      ]
     },
     "metadata": {},
     "output_type": "display_data"
    }
   ],
   "source": [
    "import numpy as np\n",
    "import pandas as pd\n",
    "import matplotlib.pyplot as plt\n",
    "\n",
    "def holtwinters():\n",
    "    from statsmodels.tsa.holtwinters import ExponentialSmoothing\n",
    "    number = 100\n",
    "    x3 = np.round(np.linspace(0, 4 * np.pi, number))\n",
    "    y3 = pd.Series(20 + 0.1 * np.multiply(x3, x3) + 8 * np.cos(2 * x3) + 2 * np.random.randn(number))\n",
    "    # ets3 = ExponentialSmoothing(y3, trend='add', seasonal='add', seasonal_periods=25)\n",
    "    # ets3 = ExponentialSmoothing(y3, trend='mul', seasonal='mul', seasonal_periods=25)\n",
    "    ets3 = ExponentialSmoothing(y3, trend='mul', seasonal='mul', damped_trend=True, seasonal_periods=25)\n",
    "    r3 = ets3.fit()\n",
    "    #pred3 = r3.predict(start=len(y3), end=len(y3) + len(y3) // 2)\n",
    "    pred3 = r3.predict(start=len(y3), end=len(y3) + len(y3) // 5)\n",
    "    pd.DataFrame({\n",
    "        'origin': y3,\n",
    "        'fitted': r3.fittedvalues,\n",
    "        'pred': pred3\n",
    "    }).plot(legend=True)\n",
    "    plt.savefig('holtwinters_mul_damped.png')\n",
    "holtwinters()\n"
   ]
  }
 ],
 "metadata": {
  "kernelspec": {
   "display_name": "Python 3.10.6 64-bit (windows store)",
   "language": "python",
   "name": "python3"
  },
  "language_info": {
   "codemirror_mode": {
    "name": "ipython",
    "version": 3
   },
   "file_extension": ".py",
   "mimetype": "text/x-python",
   "name": "python",
   "nbconvert_exporter": "python",
   "pygments_lexer": "ipython3",
   "version": "3.10.6"
  },
  "orig_nbformat": 4,
  "vscode": {
   "interpreter": {
    "hash": "825850a1542703e8330eb48918fb3db9db9b2154f7cb48e5f7ab1215ef3a88b8"
   }
  }
 },
 "nbformat": 4,
 "nbformat_minor": 2
}
