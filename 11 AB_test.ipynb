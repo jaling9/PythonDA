{
 "cells": [
  {
   "cell_type": "markdown",
   "metadata": {},
   "source": [
    "### **abtest 双样本独立t检验**  \n",
    "https://juejin.cn/post/6984130390424289316#heading-11"
   ]
  },
  {
   "cell_type": "code",
   "execution_count": 1,
   "metadata": {},
   "outputs": [],
   "source": [
    "import numpy as np\n",
    "import pandas as pd\n",
    "import matplotlib.pyplot as plt\n",
    "import seaborn as sns\n",
    "import scipy.stats as stats"
   ]
  },
  {
   "cell_type": "code",
   "execution_count": 40,
   "metadata": {},
   "outputs": [
    {
     "data": {
      "text/html": [
       "<div>\n",
       "<style scoped>\n",
       "    .dataframe tbody tr th:only-of-type {\n",
       "        vertical-align: middle;\n",
       "    }\n",
       "\n",
       "    .dataframe tbody tr th {\n",
       "        vertical-align: top;\n",
       "    }\n",
       "\n",
       "    .dataframe thead th {\n",
       "        text-align: right;\n",
       "    }\n",
       "</style>\n",
       "<table border=\"1\" class=\"dataframe\">\n",
       "  <thead>\n",
       "    <tr style=\"text-align: right;\">\n",
       "      <th></th>\n",
       "      <th>A</th>\n",
       "      <th>B</th>\n",
       "    </tr>\n",
       "  </thead>\n",
       "  <tbody>\n",
       "    <tr>\n",
       "      <th>0</th>\n",
       "      <td>29</td>\n",
       "      <td>80</td>\n",
       "    </tr>\n",
       "    <tr>\n",
       "      <th>1</th>\n",
       "      <td>29</td>\n",
       "      <td>62</td>\n",
       "    </tr>\n",
       "    <tr>\n",
       "      <th>2</th>\n",
       "      <td>52</td>\n",
       "      <td>82</td>\n",
       "    </tr>\n",
       "    <tr>\n",
       "      <th>3</th>\n",
       "      <td>61</td>\n",
       "      <td>94</td>\n",
       "    </tr>\n",
       "    <tr>\n",
       "      <th>4</th>\n",
       "      <td>79</td>\n",
       "      <td>26</td>\n",
       "    </tr>\n",
       "  </tbody>\n",
       "</table>\n",
       "</div>"
      ],
      "text/plain": [
       "    A   B\n",
       "0  29  80\n",
       "1  29  62\n",
       "2  52  82\n",
       "3  61  94\n",
       "4  79  26"
      ]
     },
     "execution_count": 40,
     "metadata": {},
     "output_type": "execute_result"
    }
   ],
   "source": [
    "# 读取数据，查看前5行\n",
    "dict = {'A':np.random.randint(1,100,10),\n",
    "        'B':np.random.randint(1,100,10)\n",
    "        }\n",
    "df = pd.DataFrame(dict)\n",
    "df.head()"
   ]
  },
  {
   "cell_type": "code",
   "execution_count": 41,
   "metadata": {},
   "outputs": [
    {
     "data": {
      "text/plain": [
       "(10, 2)"
      ]
     },
     "execution_count": 41,
     "metadata": {},
     "output_type": "execute_result"
    }
   ],
   "source": [
    "# 数据预览，查看数据有多少行、多少列\n",
    "df.shape"
   ]
  },
  {
   "cell_type": "code",
   "execution_count": 42,
   "metadata": {},
   "outputs": [
    {
     "name": "stdout",
     "output_type": "stream",
     "text": [
      "<class 'pandas.core.frame.DataFrame'>\n",
      "RangeIndex: 10 entries, 0 to 9\n",
      "Data columns (total 2 columns):\n",
      " #   Column  Non-Null Count  Dtype\n",
      "---  ------  --------------  -----\n",
      " 0   A       10 non-null     int32\n",
      " 1   B       10 non-null     int32\n",
      "dtypes: int32(2)\n",
      "memory usage: 208.0 bytes\n"
     ]
    }
   ],
   "source": [
    "# 查看数据中是否有空值\n",
    "df.isnull().any()\n",
    "df.info()"
   ]
  },
  {
   "cell_type": "code",
   "execution_count": 43,
   "metadata": {},
   "outputs": [
    {
     "ename": "SyntaxError",
     "evalue": "invalid non-printable character U+00A0 (801591402.py, line 2)",
     "output_type": "error",
     "traceback": [
      "\u001b[1;36m  Input \u001b[1;32mIn [43]\u001b[1;36m\u001b[0m\n\u001b[1;33m    print((True) != (True))\u001b[0m\n\u001b[1;37m                ^\u001b[0m\n\u001b[1;31mSyntaxError\u001b[0m\u001b[1;31m:\u001b[0m invalid non-printable character U+00A0\n"
     ]
    }
   ],
   "source": [
    "# 查看数据中的错误行\n",
    "print((True) != (True))\n",
    "print((True) != (False))\n",
    "print((False) != (True))\n",
    "print((False) != (False))\n",
    "\"\"\"\n",
    "true  != true   fasle    treatment  new_page\n",
    "true  != false  true     treatment  old_page\n",
    "false != true   true     control    new_page\n",
    "false != false  false    control    old_page\n",
    "\"\"\""
   ]
  },
  {
   "cell_type": "code",
   "execution_count": null,
   "metadata": {},
   "outputs": [],
   "source": [
    "# 下面这句代码，展示的就是group=treatment且landing_page=old_page和group=control且landing_page=new_page，这样的错误行；\n",
    "num_error = df[((df.group == \"treatment\")!=(df.landing_page == \"new_page\"))].shape[0]\n",
    "num_error\n",
    "# 去掉错误行后，再次查看是否还存在错误行\n",
    "print(\"没有删除错误行之前的记录数：\", df.shape[0])\n",
    "df2 = df[~((df.landing_page == \"new_page\")&(df.group == \"control\"))]\n",
    "df3 = df2[~((df2.landing_page == \"old_page\")&(df2.group == \"treatment\"))]\n",
    "print(\"删除错误行之后的记录数：\", df3.shape[0])\n",
    "print(\"错误行共有\",str(df.shape[0]-df3.shape[0]),\"条记录\")\n",
    "num_error2 = df3[((df3.group == \"treatment\")!=(df3.landing_page == \"new_page\"))].shape[0]\n",
    "num_error2\n",
    "# 查看是否有重复行\n",
    "print(\"数据的记录数为：\", df3.user_id.shape[0])\n",
    "print(\"将user_id去重计数后的记录数为：\", df3.user_id.nunique())\n",
    "\"\"\"\n",
    "通过上述分析，可以看出：user_id中有一条记录数是重复的。接下来，我们可以找出这条重复的记录，并去重。\n",
    "\"\"\"\n",
    "# 查看重复的行\n",
    "df3[df3.user_id.duplicated(keep=False)]\n",
    "#  去除重复的行\n",
    "df4 = df3.drop_duplicates(subset=[\"user_id\"],keep=\"first\")\n",
    "df4.shape[0]\n",
    "# 我们来看一下control组的转化率\n",
    "control_converted = df4.query('group==\"control\"').converted.mean()\n",
    "control_converted\n",
    "# 再来看一下treatment组的转化率\n",
    "treatment_converted = df4.query('group==\"treatment\"').converted.mean()\n",
    "treatment_converted\n",
    "\"\"\"\n",
    "自己下去思考一下：根据上述结果，老页面的转化率比新页面的转换率好，是不是就可以说明老页面好呢？\n",
    "\"\"\"\n",
    "# 进行独立两样本的假设检验\n",
    "import statsmodels.stats.proportion as ssp\n",
    "\n",
    "converted_old = df4[df4.landing_page == \"old_page\"].converted.sum()\n",
    "converted_new = df4[df4.landing_page == \"new_page\"].converted.sum()\n",
    "n_old = len(df4[df4.landing_page == \"old_page\"])\n",
    "n_new = len(df4[df4.landing_page == \"new_page\"])\n",
    "data = pd.DataFrame({\"converted\":[converted_old, converted_new],\n",
    "                     \"total\":[n_old ,n_new]})\n",
    "display(data)\n",
    "z_score, p_value = ssp.proportions_ztest(count=data.converted, nobs=data.total, alternative=\"smaller\")\n",
    "print(\"Z值为：\", z_score)\n",
    "print(\"P值为：\", p_value)"
   ]
  },
  {
   "cell_type": "markdown",
   "metadata": {},
   "source": [
    "### **一、单样本检验分析（单个样本的平均值是否等于目标值）**"
   ]
  },
  {
   "cell_type": "code",
   "execution_count": 4,
   "metadata": {},
   "outputs": [],
   "source": [
    "import matplotlib\n",
    "import matplotlib.pyplot as plt\n",
    "import numpy as np\n",
    "import pandas as pd\n",
    "import seaborn as sns\n",
    "\n",
    "import warnings\n",
    "warnings.filterwarnings(\"ignore\") \n",
    "\n",
    "plt.rcParams[\"font.family\"]=\"Kaiti\"\n",
    "matplotlib.rcParams['axes.unicode_minus'] = False \n",
    "plt.style.use('ggplot')\n",
    "#sns.set_style('darkgrid')\n",
    "#sns.set(font=\"Kaiti\")\n",
    "\n",
    "import matplotlib as mpl\n",
    "from cycler import cycler\n",
    "mpl.rcParams['lines.linewidth'] = 2\n",
    "mpl.rcParams['lines.linestyle'] = '-'"
   ]
  },
  {
   "cell_type": "code",
   "execution_count": 5,
   "metadata": {},
   "outputs": [
    {
     "name": "stdout",
     "output_type": "stream",
     "text": [
      "样本平均值= 17.169999999999998 单位：ppm\n",
      "样本标准差= 2.9814426038413018 单位：ppm\n"
     ]
    }
   ],
   "source": [
    "#样本数据集\n",
    "dataSer=pd.Series([15.6,16.2,22.5,20.5,16.4,19.4,16.6,17.9,12.7,13.9])\n",
    "\n",
    "#判断标准（显著水平）使用alpha=5%\n",
    "alpha=0.05\n",
    "\n",
    "#样本平均值\n",
    "sample_mean=dataSer.mean()\n",
    "#样本标准差\n",
    "sample_std=dataSer.std()\n",
    "print('样本平均值=',sample_mean,'单位：ppm')\n",
    "print('样本标准差=',sample_std,'单位：ppm')"
   ]
  },
  {
   "cell_type": "code",
   "execution_count": 6,
   "metadata": {},
   "outputs": [
    {
     "data": {
      "image/png": "[encoded data removed]",
      "text/plain": [
       "<Figure size 432x288 with 1 Axes>"
      ]
     },
     "metadata": {},
     "output_type": "display_data"
    }
   ],
   "source": [
    "# 查看数据集分布\n",
    "# 从下图易得数据集的分布近似于正态分布，结合样本数小于30近似于t分布。\n",
    "sns.distplot(dataSer)\n",
    "plt.title('数据集分布')\n",
    "plt.show()"
   ]
  },
  {
   "cell_type": "code",
   "execution_count": 8,
   "metadata": {},
   "outputs": [
    {
     "name": "stdout",
     "output_type": "stream",
     "text": [
      "t值= -3.001649525885985\n",
      "双尾检验的p值= 0.014916414248897527\n",
      "单尾检验的p值= 0.0074582071244487635\n"
     ]
    }
   ],
   "source": [
    "#导入统计模块（stats）\n",
    "from scipy import stats\n",
    "\n",
    "#总体平均值\n",
    "pop_mean=20\n",
    "\n",
    "##ttest_1samp：单独样本t检验\n",
    "##返回的第1个值t是假设检验计算出的（t值），第2个值p是双尾检验的p值\n",
    "\n",
    "t,p_two =stats.ttest_1samp(dataSer,pop_mean)\n",
    "\n",
    "print('t值=',t) \n",
    "print('双尾检验的p值=',p_two) \n",
    "\n",
    "##因为scipy计算出的是双尾检验的t值和p值，但是我们这里是左尾检验。\n",
    "##根据对称性，双尾的p值是对应单尾p值的2倍\n",
    "\n",
    "#单尾检验的p值\n",
    "p_one=p_two/2\n",
    "\n",
    "print('单尾检验的p值=',p_one)"
   ]
  },
  {
   "cell_type": "code",
   "execution_count": 9,
   "metadata": {},
   "outputs": [
    {
     "name": "stdout",
     "output_type": "stream",
     "text": [
      "拒绝零假设，有统计显著，也就是汽车引擎排放满足标准\n"
     ]
    }
   ],
   "source": [
    "'''\n",
    "左尾判断条件：t < 0 and  p_one < 判断标准（显著水平）alpha\n",
    "右尾判断条件：t > 0 and  p_one < 判断标准（显著水平）alpha\n",
    "'''\n",
    "#做出结论\n",
    "if(t<0 and p_one< alpha): \n",
    "    #左尾判断条件\n",
    "    print('拒绝零假设，有统计显著，也就是汽车引擎排放满足标准')\n",
    "else: \n",
    "    print('接受零假设，没有统计显著，也就是汽车引擎排放不满足标准')"
   ]
  },
  {
   "cell_type": "code",
   "execution_count": 10,
   "metadata": {},
   "outputs": [
    {
     "name": "stdout",
     "output_type": "stream",
     "text": [
      "单个平均值的置信区间，95置信水平 CI=(15.441820,18.898180)\n"
     ]
    }
   ],
   "source": [
    "#查t分布表易得单尾检验，自由度为9对应的t值为1.833\n",
    "t_ci=1.833\n",
    "#使用scipy计算标准误差\n",
    "se=stats.sem(dataSer)\n",
    "#置信区间上限\n",
    "a=sample_mean - t_ci * se\n",
    "#置信区间下限\n",
    "b=sample_mean + t_ci * se\n",
    "\n",
    "print('单个平均值的置信区间，95置信水平 CI=(%f,%f)' % (a,b))"
   ]
  },
  {
   "cell_type": "markdown",
   "metadata": {},
   "source": [
    "### **二、相关配对检验（检验相关或配对观测之差的平均值是否等于目标值）**"
   ]
  },
  {
   "cell_type": "code",
   "execution_count": 17,
   "metadata": {},
   "outputs": [
    {
     "data": {
      "text/html": [
       "<div>\n",
       "<style scoped>\n",
       "    .dataframe tbody tr th:only-of-type {\n",
       "        vertical-align: middle;\n",
       "    }\n",
       "\n",
       "    .dataframe tbody tr th {\n",
       "        vertical-align: top;\n",
       "    }\n",
       "\n",
       "    .dataframe thead th {\n",
       "        text-align: right;\n",
       "    }\n",
       "</style>\n",
       "<table border=\"1\" class=\"dataframe\">\n",
       "  <thead>\n",
       "    <tr style=\"text-align: right;\">\n",
       "      <th></th>\n",
       "      <th>Congruent</th>\n",
       "      <th>Incongruent</th>\n",
       "    </tr>\n",
       "  </thead>\n",
       "  <tbody>\n",
       "    <tr>\n",
       "      <th>count</th>\n",
       "      <td>10.000000</td>\n",
       "      <td>10.000000</td>\n",
       "    </tr>\n",
       "    <tr>\n",
       "      <th>mean</th>\n",
       "      <td>60.100000</td>\n",
       "      <td>38.500000</td>\n",
       "    </tr>\n",
       "    <tr>\n",
       "      <th>std</th>\n",
       "      <td>28.005753</td>\n",
       "      <td>30.456709</td>\n",
       "    </tr>\n",
       "    <tr>\n",
       "      <th>min</th>\n",
       "      <td>2.000000</td>\n",
       "      <td>4.000000</td>\n",
       "    </tr>\n",
       "    <tr>\n",
       "      <th>25%</th>\n",
       "      <td>59.250000</td>\n",
       "      <td>12.000000</td>\n",
       "    </tr>\n",
       "    <tr>\n",
       "      <th>50%</th>\n",
       "      <td>70.000000</td>\n",
       "      <td>35.000000</td>\n",
       "    </tr>\n",
       "    <tr>\n",
       "      <th>75%</th>\n",
       "      <td>77.500000</td>\n",
       "      <td>53.750000</td>\n",
       "    </tr>\n",
       "    <tr>\n",
       "      <th>max</th>\n",
       "      <td>84.000000</td>\n",
       "      <td>96.000000</td>\n",
       "    </tr>\n",
       "  </tbody>\n",
       "</table>\n",
       "</div>"
      ],
      "text/plain": [
       "       Congruent  Incongruent\n",
       "count  10.000000    10.000000\n",
       "mean   60.100000    38.500000\n",
       "std    28.005753    30.456709\n",
       "min     2.000000     4.000000\n",
       "25%    59.250000    12.000000\n",
       "50%    70.000000    35.000000\n",
       "75%    77.500000    53.750000\n",
       "max    84.000000    96.000000"
      ]
     },
     "execution_count": 17,
     "metadata": {},
     "output_type": "execute_result"
    }
   ],
   "source": [
    "dict = {'Congruent':np.random.randint(1,100,10),\n",
    "        'Incongruent':np.random.randint(1,100,10)\n",
    "        }\n",
    "data = pd.DataFrame(dict)\n",
    "data.head()\n",
    "data.describe()"
   ]
  },
  {
   "cell_type": "code",
   "execution_count": 18,
   "metadata": {},
   "outputs": [
    {
     "name": "stdout",
     "output_type": "stream",
     "text": [
      "第一组均值： 60.1 第一组标准差： 28.005753377158456\n",
      "第二组均值： 38.5 第二组标准差： 30.45670880300613\n"
     ]
    }
   ],
   "source": [
    "# 第一组数据均值、标准差\n",
    "con1_mean = data['Congruent'].mean()\n",
    "con1_std = data['Congruent'].std()\n",
    "print('第一组均值：',con1_mean,'第一组标准差：',con1_std)\n",
    "\n",
    "# 第二组数据均值、标准差\n",
    "con2_mean = data['Incongruent'].mean()\n",
    "con2_std = data['Incongruent'].std()\n",
    "print('第二组均值：',con2_mean,'第二组标准差：',con2_std)"
   ]
  },
  {
   "cell_type": "code",
   "execution_count": 19,
   "metadata": {},
   "outputs": [
    {
     "data": {
      "image/png": "[encoded data removed]",
      "text/plain": [
       "<Figure size 1440x720 with 1 Axes>"
      ]
     },
     "metadata": {},
     "output_type": "display_data"
    }
   ],
   "source": [
    "fg = plt.figure(figsize = (20,10))\n",
    "#画纸\n",
    "ax = fg.add_subplot(1,1,1)\n",
    "#绘制柱状图\n",
    "data.plot(kind = 'bar',ax = ax)\n",
    "#显示图形\n",
    "plt.show()"
   ]
  },
  {
   "cell_type": "code",
   "execution_count": 20,
   "metadata": {},
   "outputs": [
    {
     "data": {
      "text/html": [
       "<div>\n",
       "<style scoped>\n",
       "    .dataframe tbody tr th:only-of-type {\n",
       "        vertical-align: middle;\n",
       "    }\n",
       "\n",
       "    .dataframe tbody tr th {\n",
       "        vertical-align: top;\n",
       "    }\n",
       "\n",
       "    .dataframe thead th {\n",
       "        text-align: right;\n",
       "    }\n",
       "</style>\n",
       "<table border=\"1\" class=\"dataframe\">\n",
       "  <thead>\n",
       "    <tr style=\"text-align: right;\">\n",
       "      <th></th>\n",
       "      <th>Congruent</th>\n",
       "      <th>Incongruent</th>\n",
       "      <th>diff</th>\n",
       "    </tr>\n",
       "  </thead>\n",
       "  <tbody>\n",
       "    <tr>\n",
       "      <th>0</th>\n",
       "      <td>81</td>\n",
       "      <td>33</td>\n",
       "      <td>48</td>\n",
       "    </tr>\n",
       "    <tr>\n",
       "      <th>1</th>\n",
       "      <td>17</td>\n",
       "      <td>54</td>\n",
       "      <td>-37</td>\n",
       "    </tr>\n",
       "    <tr>\n",
       "      <th>2</th>\n",
       "      <td>71</td>\n",
       "      <td>15</td>\n",
       "      <td>56</td>\n",
       "    </tr>\n",
       "    <tr>\n",
       "      <th>3</th>\n",
       "      <td>73</td>\n",
       "      <td>11</td>\n",
       "      <td>62</td>\n",
       "    </tr>\n",
       "    <tr>\n",
       "      <th>4</th>\n",
       "      <td>69</td>\n",
       "      <td>9</td>\n",
       "      <td>60</td>\n",
       "    </tr>\n",
       "  </tbody>\n",
       "</table>\n",
       "</div>"
      ],
      "text/plain": [
       "   Congruent  Incongruent  diff\n",
       "0         81           33    48\n",
       "1         17           54   -37\n",
       "2         71           15    56\n",
       "3         73           11    62\n",
       "4         69            9    60"
      ]
     },
     "execution_count": 20,
     "metadata": {},
     "output_type": "execute_result"
    }
   ],
   "source": [
    "data['diff'] =data['Congruent'] -data['Incongruent']\n",
    "data.head()"
   ]
  },
  {
   "cell_type": "code",
   "execution_count": 21,
   "metadata": {},
   "outputs": [
    {
     "data": {
      "image/png": "[encoded data removed]",
      "text/plain": [
       "<Figure size 432x288 with 1 Axes>"
      ]
     },
     "metadata": {},
     "output_type": "display_data"
    }
   ],
   "source": [
    "import seaborn as sns\n",
    "#查看数据集分布\n",
    "sns.distplot(data['diff'])\n",
    "plt.title('差值数据集分布')\n",
    "plt.show()"
   ]
  },
  {
   "cell_type": "code",
   "execution_count": 22,
   "metadata": {},
   "outputs": [
    {
     "name": "stdout",
     "output_type": "stream",
     "text": [
      "t值= 1.9713996664985332 单尾检验的p值= 0.040080714649298146\n"
     ]
    }
   ],
   "source": [
    "#导入统计模块（stats）\n",
    "from scipy import stats\n",
    "t,p_two = stats.ttest_rel(data['Congruent'],data['Incongruent'])\n",
    "p_one=p_two/2\n",
    "print('t值=',t,'单尾检验的p值=',p_one)"
   ]
  },
  {
   "cell_type": "code",
   "execution_count": 24,
   "metadata": {},
   "outputs": [
    {
     "name": "stdout",
     "output_type": "stream",
     "text": [
      "接受备选假设，没有统计显著，也就是特鲁普效应不存在\n"
     ]
    }
   ],
   "source": [
    "#显著水平使用alpha=5%\n",
    "alpha=0.05\n",
    "'''\n",
    "左尾判断条件：t < 0 and  p_one < 判断标准（显著水平）alpha\n",
    "右尾判断条件：t > 0 and  p_one < 判断标准（显著水平）alpha\n",
    "'''\n",
    "#做出结论\n",
    "if(t<0 and p_one< alpha):\n",
    "    print('拒绝零假设，有统计显著')\n",
    "    print('也就是接受备选假设：特鲁普效应存在')\n",
    "else:\n",
    "    print('接受备选假设，没有统计显著，也就是特鲁普效应不存在')"
   ]
  },
  {
   "cell_type": "code",
   "execution_count": 25,
   "metadata": {},
   "outputs": [
    {
     "name": "stdout",
     "output_type": "stream",
     "text": [
      "两个平均值差值的置信区间，95置信水平 CI=[2.853116,40.346884]\n"
     ]
    }
   ],
   "source": [
    "t_ci=1.711\n",
    "#差值数据集平均值\n",
    "sample_mean=data['diff'].mean()\n",
    "#使用scipy计算标准误差\n",
    "se=stats.sem(data['diff'])\n",
    "#置信区间上限\n",
    "a=sample_mean - t_ci * se\n",
    "#置信区间下限\n",
    "b=sample_mean + t_ci * se\n",
    "print('两个平均值差值的置信区间，95置信水平 CI=[%f,%f]' % (a,b))"
   ]
  },
  {
   "cell_type": "code",
   "execution_count": 26,
   "metadata": {},
   "outputs": [
    {
     "name": "stdout",
     "output_type": "stream",
     "text": [
      "d= 0.6234113124631705\n"
     ]
    }
   ],
   "source": [
    "pop_mean=0\n",
    "#差值数据集的标准差\n",
    "sample_std=data['diff'].std()\n",
    "d=np.abs((sample_mean - pop_mean) / sample_std)\n",
    "print('d=',d)"
   ]
  },
  {
   "cell_type": "code",
   "execution_count": null,
   "metadata": {},
   "outputs": [],
   "source": [
    "\"\"\"\n",
    "3.数据分析报告总结\n",
    "\n",
    "1、描述统计分析\n",
    "\n",
    "第一组样本数据：字体内容和字体颜色一致情况下，平均反应时间是: 13.92 秒,标准差是 3.54 秒\n",
    "第二组样本数据：字体内容和字体颜色不一致情况下，平均反应时间是: 22.35 秒,标准差是 5.01 秒\n",
    "“不一致”情况下所用时间均大于“一致”情况，也就是当字体内容和字体验证不一致时，实验者的平均反应时间变长\n",
    "\n",
    "2、推论统计分析\n",
    "1）假设检验\n",
    "相关配对检验t(24)=-8.09,p=p=1.77e-08 (α=5%),左尾检验\n",
    "统计上存在显著差异，拒绝零假设，从而验证斯特鲁普效应存在。\n",
    "2）置信区间\n",
    "两个平均值差值的置信区间，95%置信水平 CI=[-10.205794,-6.641956]\n",
    "3）效应量\n",
    "d= 1.65\n",
    "\"\"\""
   ]
  },
  {
   "cell_type": "markdown",
   "metadata": {},
   "source": [
    "### **三、独立双样本检验（检验两个独立样本的平局值之差是否等于目标值）**"
   ]
  },
  {
   "cell_type": "code",
   "execution_count": null,
   "metadata": {},
   "outputs": [],
   "source": []
  },
  {
   "cell_type": "code",
   "execution_count": null,
   "metadata": {},
   "outputs": [],
   "source": []
  },
  {
   "cell_type": "markdown",
   "metadata": {},
   "source": [
    "1.描述统计分析 https://zhuanlan.zhihu.com/p/148550428"
   ]
  },
  {
   "cell_type": "code",
   "execution_count": 30,
   "metadata": {},
   "outputs": [
    {
     "data": {
      "text/html": [
       "<div>\n",
       "<style scoped>\n",
       "    .dataframe tbody tr th:only-of-type {\n",
       "        vertical-align: middle;\n",
       "    }\n",
       "\n",
       "    .dataframe tbody tr th {\n",
       "        vertical-align: top;\n",
       "    }\n",
       "\n",
       "    .dataframe thead th {\n",
       "        text-align: right;\n",
       "    }\n",
       "</style>\n",
       "<table border=\"1\" class=\"dataframe\">\n",
       "  <thead>\n",
       "    <tr style=\"text-align: right;\">\n",
       "      <th></th>\n",
       "      <th>A</th>\n",
       "      <th>B</th>\n",
       "    </tr>\n",
       "  </thead>\n",
       "  <tbody>\n",
       "    <tr>\n",
       "      <th>0</th>\n",
       "      <td>37</td>\n",
       "      <td>74</td>\n",
       "    </tr>\n",
       "    <tr>\n",
       "      <th>1</th>\n",
       "      <td>5</td>\n",
       "      <td>33</td>\n",
       "    </tr>\n",
       "    <tr>\n",
       "      <th>2</th>\n",
       "      <td>25</td>\n",
       "      <td>19</td>\n",
       "    </tr>\n",
       "    <tr>\n",
       "      <th>3</th>\n",
       "      <td>18</td>\n",
       "      <td>20</td>\n",
       "    </tr>\n",
       "    <tr>\n",
       "      <th>4</th>\n",
       "      <td>61</td>\n",
       "      <td>90</td>\n",
       "    </tr>\n",
       "  </tbody>\n",
       "</table>\n",
       "</div>"
      ],
      "text/plain": [
       "    A   B\n",
       "0  37  74\n",
       "1   5  33\n",
       "2  25  19\n",
       "3  18  20\n",
       "4  61  90"
      ]
     },
     "execution_count": 30,
     "metadata": {},
     "output_type": "execute_result"
    }
   ],
   "source": [
    "dict = {'A':np.random.randint(1,100,10),\n",
    "        'B':np.random.randint(1,100,10)\n",
    "        }\n",
    "data = pd.DataFrame(dict)\n",
    "data.head()"
   ]
  },
  {
   "cell_type": "code",
   "execution_count": 31,
   "metadata": {},
   "outputs": [
    {
     "data": {
      "image/png": "[encoded data removed]",
      "text/plain": [
       "<Figure size 1440x720 with 1 Axes>"
      ]
     },
     "metadata": {},
     "output_type": "display_data"
    }
   ],
   "source": [
    "fg = plt.figure(figsize = (20,10))\n",
    "#画纸\n",
    "ax = fg.add_subplot(1,1,1)\n",
    "#绘制柱状图\n",
    "data.plot(kind = 'bar',ax = ax)\n",
    "#显示图形\n",
    "plt.show()"
   ]
  },
  {
   "cell_type": "code",
   "execution_count": 32,
   "metadata": {},
   "outputs": [
    {
     "name": "stdout",
     "output_type": "stream",
     "text": [
      "A版本平均值= 53.9 单位：打错字数量\n",
      "B版本平均值= 57.4 单位：打错字数量\n",
      "A版本样本大小25，样本标准差= 32.171243197751764 单位：打错字数量\n",
      "B版本样本大小25，样本标准差= 30.819185943535597 单位：打错字数量\n"
     ]
    }
   ],
   "source": [
    "#样本平均值\n",
    "a_mean=data['A'].mean()\n",
    "b_mean=data['B'].mean()\n",
    "\n",
    "print('A版本平均值=',a_mean,'单位：打错字数量')\n",
    "print('B版本平均值=',b_mean,'单位：打错字数量')\n",
    "\n",
    "#样本标准差\n",
    "a_std=data['A'].std()\n",
    "b_std=data['B'].std()\n",
    "\n",
    "print('A版本样本大小25，样本标准差=',a_std,'单位：打错字数量')\n",
    "print('B版本样本大小25，样本标准差=',b_std,'单位：打错字数量')"
   ]
  },
  {
   "cell_type": "markdown",
   "metadata": {},
   "source": [
    "2.推论统计分析"
   ]
  },
  {
   "cell_type": "code",
   "execution_count": null,
   "metadata": {},
   "outputs": [],
   "source": [
    "\"\"\"\n",
    "1.零假设和备选假设\n",
    "\n",
    "要研究的问题是：哪个键盘布局对用户体验更好呢？根据这个问题我提出来下面两个互为相反的假设。\n",
    "零假设：A版本和B版本没有差别，也就是A版本平均值等于B版本平均值。(零假设总是表述为研究没有改变，\n",
    "没有效果，不起作用等，这里就是不满足标准。)\n",
    "备选假设：A版本和B版本有差别，也就是A版本平均值不等于B版本平均值。\n",
    "\n",
    "2.检验类型\n",
    "\n",
    "因为这里有2组样本，是不同的人，所以选择双独立样本检验。\n",
    "\n",
    "3.抽样分布类型\n",
    "\n",
    "在我们这个AB测试案例中，样本大小是25（小于30），属于小样本。\n",
    "那小样本的抽样分布是否满足t分布呢？因为t分布还要求总体分布近似正态分布，但是总体分布我们是不知道的，\n",
    "我们可以通过样本数据集的分布来推断总体分布。\n",
    "\"\"\""
   ]
  },
  {
   "cell_type": "code",
   "execution_count": 33,
   "metadata": {},
   "outputs": [
    {
     "data": {
      "image/png": "[encoded data removed]",
      "text/plain": [
       "<Figure size 1440x720 with 2 Axes>"
      ]
     },
     "metadata": {},
     "output_type": "display_data"
    }
   ],
   "source": [
    "import seaborn as sns\n",
    "fg = plt.figure(figsize = (20,10))\n",
    "#画纸\n",
    "fg.add_subplot(1,2,1)\n",
    "#查看数据集分布\n",
    "sns.distplot(data['A'])\n",
    "plt.title('A版本数据集分布')\n",
    "fg.add_subplot(1,2,2)\n",
    "sns.distplot(data['B'])\n",
    "plt.title('B版本数据集分布')\n",
    "plt.show()"
   ]
  },
  {
   "cell_type": "markdown",
   "metadata": {},
   "source": [
    "4.检验方向"
   ]
  },
  {
   "cell_type": "code",
   "execution_count": 35,
   "metadata": {},
   "outputs": [
    {
     "name": "stdout",
     "output_type": "stream",
     "text": [
      "t= -0.24843252481419548 p_two= 0.8066171793487775 ,df= 17\n"
     ]
    }
   ],
   "source": [
    "import statsmodels.stats.weightstats as st  \n",
    "t,p_two,df=st.ttest_ind(data['A'],data['B'],usevar='unequal')\n",
    "\n",
    "#自由度一般只保留整数部分\n",
    "print('t=',t,'p_two=',p_two,',df=',int(df))"
   ]
  },
  {
   "cell_type": "markdown",
   "metadata": {},
   "source": [
    "5.做出结论"
   ]
  },
  {
   "cell_type": "code",
   "execution_count": 36,
   "metadata": {},
   "outputs": [
    {
     "name": "stdout",
     "output_type": "stream",
     "text": [
      "接受零假设，没有统计显著\n",
      "零假设：A版本和B版本没有差异\n"
     ]
    }
   ],
   "source": [
    "#判断标准（显著水平）使用alpha=5%\n",
    "alpha=0.05\n",
    "if(p_two< alpha): \n",
    "    print('拒绝零假设，有统计显著，也就是接受备选假设')\n",
    "    print('备选假设：A版本和B版本有差异')\n",
    "else: \n",
    "    print('接受零假设，没有统计显著')\n",
    "    print('零假设：A版本和B版本没有差异')\n"
   ]
  },
  {
   "cell_type": "markdown",
   "metadata": {},
   "source": [
    "6.置信区间"
   ]
  },
  {
   "cell_type": "code",
   "execution_count": 37,
   "metadata": {},
   "outputs": [
    {
     "name": "stdout",
     "output_type": "stream",
     "text": [
      "两个平均值差值的置信区间，95置信水平 CI=[-21.446122,14.446122]\n"
     ]
    }
   ],
   "source": [
    "t_ci=2.0141\n",
    "\n",
    "#样本大小n\n",
    "a_n = 25\n",
    "b_n = 25\n",
    "se=np.sqrt( np.square(a_std)/a_n + np.square(b_std)/b_n )\n",
    "sample_mean=a_mean - b_mean\n",
    "#置信区间上限\n",
    "a=sample_mean - t_ci * se\n",
    "#置信区间下限\n",
    "b=sample_mean + t_ci * se\n",
    "print('两个平均值差值的置信区间，95置信水平 CI=[%f,%f]' % (a,b))"
   ]
  },
  {
   "cell_type": "markdown",
   "metadata": {},
   "source": [
    "7.效应量"
   ]
  },
  {
   "cell_type": "code",
   "execution_count": 38,
   "metadata": {},
   "outputs": [
    {
     "name": "stdout",
     "output_type": "stream",
     "text": [
      "d= 0.10879281159531291\n"
     ]
    }
   ],
   "source": [
    "#合并标准差\n",
    "sp=np.sqrt(((a_n-1)*np.square(a_std) + (b_n-1)* np.square(a_std) ) / (a_n+b_n-2))\n",
    "#效应量Cohen's d\n",
    "d=np.abs((a_mean - b_mean) / sp)\n",
    "\n",
    "print('d=',d)"
   ]
  },
  {
   "cell_type": "code",
   "execution_count": null,
   "metadata": {},
   "outputs": [],
   "source": [
    "\"\"\"\n",
    "3.数据分析报告\n",
    "\n",
    "1、描述统计分析\n",
    "A版本打错字数量 平均是5.08个，标准差是2.06个\n",
    "B版本打错字数量 平均是7.8个，标准差是2.65个\n",
    "\n",
    "2、推论统计分析\n",
    "1）假设检验 独立双样本t(45)=-4.05 , p=.00019 (α=5%) , 双尾检验,拒绝零假设，统计显著。\n",
    "2）置信区间 两个平均值差值的置信区间， 95%置信水平 CI=[-2.76,-2.68]\n",
    "3）效应量 d= - 1.32，效果显著\n",
    "\"\"\""
   ]
  }
 ],
 "metadata": {
  "kernelspec": {
   "display_name": "Python 3.10.7 64-bit (microsoft store)",
   "language": "python",
   "name": "python3"
  },
  "language_info": {
   "codemirror_mode": {
    "name": "ipython",
    "version": 3
   },
   "file_extension": ".py",
   "mimetype": "text/x-python",
   "name": "python",
   "nbconvert_exporter": "python",
   "pygments_lexer": "ipython3",
   "version": "3.10.7"
  },
  "orig_nbformat": 4,
  "vscode": {
   "interpreter": {
    "hash": "825850a1542703e8330eb48918fb3db9db9b2154f7cb48e5f7ab1215ef3a88b8"
   }
  }
 },
 "nbformat": 4,
 "nbformat_minor": 2
}
