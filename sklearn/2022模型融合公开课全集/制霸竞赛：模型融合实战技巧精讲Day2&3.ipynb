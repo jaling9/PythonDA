{
 "cells": [
  {
   "cell_type": "markdown",
   "id": "cb8a721a-8900-4328-a607-528e47641244",
   "metadata": {},
   "source": [
    "# **机器学习新年公开课 - 模型融合实战技巧精讲**\n",
    "## Day 2&3 融合进阶：Stacking与Blending\n",
    "> 节选自《2022机器学习实战》正课<br>\n",
    "> 作者：@菜菜TsaiTsai<br>\n",
    "> 版本号：2022/1/20 V3<br>"
   ]
  },
  {
   "cell_type": "markdown",
   "id": "3fce5a8a-93c7-4507-a3d4-3223b867305e",
   "metadata": {},
   "source": [
    "<font color=\"red\" size=5>**今日直播已结束，周日晚8点千元口令红包等你来抢**</font><br>\n",
    "<font color=\"red\" size = 5>**查看动态预约周日晚的直播，共同闹新年吧~**</font>\n",
    "### <font color=\"red\">**现在下单，可获新年活动优惠+直播特惠>>>**</font>\n",
    "### <font color=\"red\">**微信扫码加小可爱，回复“ML”即可获得特惠>>>**</font>"
   ]
  },
  {
   "cell_type": "markdown",
   "id": "33fd0289-e225-4b12-b70f-f541e80c7efb",
   "metadata": {
    "jupyter": {
     "source_hidden": true
    },
    "tags": []
   },
   "source": [
    "# <font color=\"red\">**今日直播已结束**</font>\n",
    "# <font color=\"red\">**明晚8点继续直播stacking应用及Blending相关内容**</font>\n",
    "### <font color=\"red\">**现在下单，可获新年活动优惠+直播特惠>>>**</font>\n",
    "### <font color=\"red\">**微信扫码加小可爱，回复“ML”即可获得特惠 + 今日课件>>>**</font>"
   ]
  },
  {
   "cell_type": "markdown",
   "id": "f6bbb6c0-d2d9-4b52-8c73-c695acb4fa92",
   "metadata": {},
   "source": [
    "## 课程规划"
   ]
  },
  {
   "cell_type": "markdown",
   "id": "510cd1ea-a89f-43ea-9a78-20ce94130f52",
   "metadata": {},
   "source": [
    "欢迎来到为期三天的《制霸竞赛：融合模型实战技巧精讲》公开课。在这门课程中，我将用三天时间带你了解模型融合中的四大核心方法：Averaging，Voting，Stacking与Blending，我们会讲解每种方法的基本流程、提供完成融合的基础代码、同时深入探讨每种方法在实际应用中的所涉及到的核心技巧以及理论局限性。**当你完成这门课程时，你将能够自由地使用以上任意一种方法完成基本的融合**。如果你想更深入地学习更多模型融合相关的知识、包括如何在竞赛中使用融合提分、融合应用的相关技巧等，则可以向客服小可爱咨询正课《2022机器学习实战》。"
   ]
  },
  {
   "cell_type": "markdown",
   "id": "33aee788-ae6a-445b-a45f-38f0779d47b2",
   "metadata": {},
   "source": [
    "<img style=\"float: left;\" src=\"https://skojiangdoc.oss-cn-beijing.aliyuncs.com/2021MachineLearning/Ensembles/Fusion/barcode.png\" width=300 height=300>"
   ]
  },
  {
   "cell_type": "markdown",
   "id": "fa686f46-afdd-4fa3-ae5e-b3032be17eaf",
   "metadata": {},
   "source": [
    "**DAY 1：融合入门：Voting与Averaging**\n",
    "\n",
    "**DAY 2：融合进阶：堆叠法Stacking**\n",
    "\n",
    "**DAY 3：Stacking参数详解 + Blending原理**\n",
    "\n",
    "为掌握这门课程，你需要先掌握：\n",
    "- Python基础 >> 《九天老师的Python基础》<br>https://www.bilibili.com/video/BV1U54y1W7jw?spm_id_from=333.999.0.0\n",
    "\n",
    "- 机器学习基础 >> 《2022机器学习实战公开课》<br>包括超参数、泛化能力等基本概念<br>交叉验证等基本工具<br>随机森林、XGBoost等集成算法<br>https://www.bilibili.com/video/BV1f3411r7EP?share_source=copy_web"
   ]
  },
  {
   "cell_type": "code",
   "execution_count": 1,
   "id": "be374b29-99ff-4910-9781-c6c7175b03f5",
   "metadata": {},
   "outputs": [],
   "source": [
    "#版本确认\n",
    "import re\n",
    "import numpy as np\n",
    "import pandas as pd\n",
    "import matplotlib as mlp\n",
    "import matplotlib.pyplot as plt\n",
    "import sklearn\n",
    "import xgboost as xgb"
   ]
  },
  {
   "cell_type": "code",
   "execution_count": 2,
   "id": "0cf5d821-af7e-44d1-9941-ce78efda7e53",
   "metadata": {},
   "outputs": [
    {
     "name": "stdout",
     "output_type": "stream",
     "text": [
      "sklearn 1.0.1\n",
      "matplotlib 3.4.3\n",
      "numpy 1.21.4\n",
      "pandas 1.3.4\n",
      "xgboost 1.5.1\n"
     ]
    }
   ],
   "source": [
    "for package in [sklearn,mlp,np,pd,xgb]:\n",
    "    print(re.findall(\"([^']*)\",str(package))[2],package.__version__)"
   ]
  },
  {
   "cell_type": "code",
   "execution_count": null,
   "id": "6a80ac94-6fed-4063-abc7-5354950eef28",
   "metadata": {},
   "outputs": [],
   "source": [
    "#pip install --upgrade scikit-learn\n",
    "#conda update scikit-learn\n",
    "\n",
    "#使用清华源配置xgboost\n",
    "#!pip install xgboost -i https://pypi.tuna.tsinghua.edu.cn/simple"
   ]
  },
  {
   "cell_type": "markdown",
   "id": "486719d4-9afe-492a-90ef-2071ff15056a",
   "metadata": {
    "tags": []
   },
   "source": [
    "# <font color=\"Red\">2022新版课程重装上线</font>"
   ]
  },
  {
   "cell_type": "markdown",
   "id": "5c00c9a7-6ac5-4c3e-9ec3-0b9c474462c2",
   "metadata": {},
   "source": [
    "![](https://skojiangdoc.oss-cn-beijing.aliyuncs.com/2021MachineLearning/Ensembles/Fusion/08.png)"
   ]
  },
  {
   "cell_type": "markdown",
   "id": "3dae163a-6591-4b1d-88c9-25b02663241e",
   "metadata": {},
   "source": [
    "### **新年新班型，内容大更新**\n",
    "- 十周高效充电，决胜金三银四\n",
    "- 新增业务分析方法论\n",
    "- 新增贝叶斯优化器和AutoML\n",
    "- 新增CV医学影像识别\n",
    "...\n",
    "\n",
    "**更多实战案例、更多前沿技术**<br>\n",
    "**内容迭代【超过30%】**<br>"
   ]
  },
  {
   "cell_type": "markdown",
   "id": "3be0bb15-1fc1-4a26-a217-791179a469ed",
   "metadata": {
    "jupyter": {
     "source_hidden": true
    },
    "tags": []
   },
   "source": [
    "<font color=\"Red\" size=5>**融合直播课正式完结，在正课中将会包括：**</font><br>\n",
    "- <font color=\"Red\" size=4.5>**xgboost, lgbm等复杂集成算法上的融合(手写融合)**</font><br><br>\n",
    "- <font color=\"Red\" size=4.5>**基于Kaggle数据的融合调优实战**</font><br><br>\n",
    "- <font color=\"Red\" size=4.5>**gbdt+lr原理详解 + CTR融合实战**</font><br><br>\n",
    "- <font color=\"Red\" size=4.5>**如果融合无效应该怎么办？**</font>"
   ]
  },
  {
   "cell_type": "markdown",
   "id": "3e27aa70-135c-4528-a366-13ff1ef7a676",
   "metadata": {
    "tags": []
   },
   "source": [
    "<font color=\"green\" size=4.5>**现在下单，可获新年活动优惠+直播特惠>>>**</font><br><br>\n",
    "<font color=\"green\" size=4.5>**微信扫码加小可爱，回复“ML”即可获得特惠>>>**</font>"
   ]
  },
  {
   "cell_type": "markdown",
   "id": "aa6e4f29-9635-4dc1-af5d-5f23192a16df",
   "metadata": {},
   "source": [
    "   "
   ]
  },
  {
   "cell_type": "markdown",
   "id": "00c391bd-362b-46a7-9d08-71cd10d5a160",
   "metadata": {
    "tags": []
   },
   "source": [
    "# 一 堆叠法Stacking"
   ]
  },
  {
   "cell_type": "markdown",
   "id": "95d6d4ca-0c74-4378-9e0d-c6f2109d9d90",
   "metadata": {},
   "source": [
    "## 1 堆叠法的基本思想"
   ]
  },
  {
   "cell_type": "markdown",
   "id": "a71b4865-5104-43f4-bd06-d95d0e30604f",
   "metadata": {},
   "source": [
    "堆叠法Stacking是近年来模型融合领域最为热门的方法，它不仅是竞赛冠军队最常采用的融合方法之一，也是工业中实际落地人工智能时会考虑的方案之一。作为强学习器的融合方法，Stacking集**模型效果好、可解释性强、适用复杂数据**三大优点于一身，属于融合领域最为实用的先驱方法。在Stacking的众多应用当中，CTR（广告点击率预测）中实用的GBDT+LR堆叠尤为著名。因此在《2022机器学习实战》正课当中，讲解完毕通用的stacking手段之后，我会给大家详细讲解GBDT+LR在CTR中的用法，并完成一个CTR实战。\n",
    "\n",
    "Stacking究竟是怎样一种算法呢？它的核心思想其实非常简单——首先，如下图所示，Stacking结构中有两层算法串联，第一层叫做level 0，第二层叫做level 1，level 0里面可能包含1个或多个强学习器，而level 1只能包含一个学习器。在训练中，数据会先被输入level 0进行训练，训练完毕后，level 0中的每个算法会输出相应的预测结果。我们将这些预测结果拼凑成新特征矩阵，再输入level 1的算法进行训练。融合模型最终输出的预测结果就是level 1的学习器输出的结果。"
   ]
  },
  {
   "cell_type": "markdown",
   "id": "98724e61-3e24-4005-917b-a576d2845097",
   "metadata": {},
   "source": [
    "![](https://skojiangdoc.oss-cn-beijing.aliyuncs.com/2021MachineLearning/Ensembles/Fusion/10.png)"
   ]
  },
  {
   "cell_type": "markdown",
   "id": "72f1e703-b166-40e1-8a57-f0ef814294c9",
   "metadata": {},
   "source": [
    "在这个过程中，level 0输出的预测结果一般如下排布：\n",
    "\n",
    "||学习器1|学习器2|...|学习器n|\n",
    "|:-:|:-:|:-:|:-:|:-:|\n",
    "|样本1|xxx|xxx|...|xxx|\n",
    "|样本2|xxx|xxx|...|xxx|\n",
    "|样本3|xxx|xxx|...|xxx|\n",
    "|...|...|...|...|...|\n",
    "|样本m|xxx|xxx|...|xxx|"
   ]
  },
  {
   "cell_type": "markdown",
   "id": "c8f8b9de-ca8e-49a4-a4be-351bd9273bd5",
   "metadata": {},
   "source": [
    "第一列就是学习器1在全部样本上输出的结果，第二列就是学习器2在全部样本上输出的结果，以此类推。"
   ]
  },
  {
   "cell_type": "markdown",
   "id": "cc81cbb5-5712-4801-bce4-722c0236a7f1",
   "metadata": {},
   "source": [
    "同时，level 0上训练的多个强学习器被称为基学习器(base-model)，也叫做个体学习器。在level1上训练的学习器叫元学习器（meta-model）。根据行业惯例，**level 0上的学习器是复杂度高、学习能力强的学习器**，例如集成算法、支持向量机，而**level 1上的学习器是可解释性强、较为简单的学习器**，如决策树、线性回归、逻辑回归等。有这样的要求是因为level 0上的算法们的职责是找出原始数据与标签的关系、即建立原始数据与标签之间的假设，因此需要强大的学习能力。但level 1上的算法的职责是融合个体学习器做出的假设、并最终输出融合模型的结果，相当于在寻找“最佳融合规则”，而非直接建立原始数据与标签之间的假设。\n",
    "\n",
    "说到这里，不知道你是否有注意到，**Stacking的本质是让算法找出融合规则**。虽然大部分人可能从未接触过类似于Stacking算法的串联结构，但事实上Stacking的流程与投票法、均值法完全一致：\n",
    "\n",
    "![](https://skojiangdoc.oss-cn-beijing.aliyuncs.com/2021MachineLearning/Ensembles/Fusion/11.png)\n",
    "\n",
    "在投票法中，我们用投票方式融合强学习器的结果，在均值法中，我们用求均值方式融合强学习器的结果，在Stacking堆叠法中，我们用算法融合强学习器的结果。当level 1上的算法是线性回归时，其实我们就是在求解所有强学习器结果的加权求和，而训练线性回归的过程，就是找加权求和的权重的过程。同样的，当level 1上的算法是逻辑回归的时候，其实我们就是在求解所有强学习器结果的加权求和，再在求和基础上套上sigmoid函数。训练逻辑回归的过程，也就是找加权求和的权重的过程。其他任意简单的算法同理。\n",
    "\n",
    "虽然对大多数算法来说，我们难以找出类似“加权求和”这样一目了然的名字来概括算法找出的融合规则，但本质上，level 1的算法只是在学习如何将level 0上输出的结果更好地结合起来，所以**Stacking是通过训练学习器来融合学习器结果的方法**。这一方法的根本优势在于，我们可以让level 1上的元学习器向着损失函数最小化的方向训练，而其他融合方法只能保证融合后的结果有一定的提升。因此Stacking是比Voting和Averaging更有效的方法。在实际应用时，Stacking也常常表现出胜过投票或均值法的结果。"
   ]
  },
  {
   "cell_type": "markdown",
   "id": "30be24ef-04fc-421a-842b-acf1d0ae1918",
   "metadata": {},
   "source": [
    "当我们了解了Stacking的本质之后，很多实现过程中的细节问题就迎刃而解了，比如：\n",
    "\n",
    "- **要不要对融合的算法进行精密的调参？**<br>\n",
    "> 个体学习器粗调，元学习器精调，如果不过拟合的话，可以两类学习器都精调。理论上来说，算法输出结果越接近真实标签越好，但个体学习器精调后再融合，很容易过拟合。<br>\n",
    "\n",
    "- **个体学习器算法要怎样选择才能最大化stacking的效果？**<br>\n",
    "> 与投票、平均的状况一致，控制过拟合、增加多样性、注意算法整体的运算时间。<br>\n",
    "\n",
    "- **个体学习器可以是逻辑回归、决策树这种复杂度较低的算法吗？元学习器可以是xgboost这种复杂度很高的算法吗？**<br>\n",
    "> 都可以，一切以模型效果为准。对level 0而言，当增加弱学习器来增加模型多样性、且弱学习器的效果比较好时，可以保留这些算法。对level 1而言，只要不过拟合，可以使用任何算法。个人推荐，在分类的时候可以使用复杂度较高的算法，对回归最好还是使用简单的算法。<br>\n",
    "\n",
    "- **level 0和level 1的算法可不可以使用不同的损失函数？**<br>\n",
    "> 可以，因为不同的损失函数衡量的其实是类似的差异：即真实值与预测值之间的差异。不过不同的损失对于差异的敏感性不同，如果可能的话建议使用相似的损失函数。<br>\n",
    "\n",
    "- **level 0和level 1的算法可不可以使用不同的评估指标？**<br>\n",
    "> 个人建议**level 0与level 1上的算法必须使用相同的模型评估指标**。虽然Stacking中串联了两组算法，但这两组算法的训练却是完全分离的。在深度学习当中，我们也有类似的强大算法串联弱小算法的结构，例如，卷积神经网络就是由强大的卷积层与弱小的线性层串联，卷积层的主要职责是找出特征与标签之间的假设，而线性层的主要职责是整合假设、进行输出。但在深度学习中，一个网络上所有层的训练是同时进行的，每次降低损失函数时需要更新整个网络上的权重。但在Stacking当中，level 1上的算法在调整权重时，完全不影响level 0的结果，因此为了保证两组算法最终融合后能够得到我们想要的结果，在训练时一定要以唯一评估指标为基准进行训练。<br>"
   ]
  },
  {
   "cell_type": "markdown",
   "id": "987a33b8-b08e-4ad6-9cfa-c96d599705f6",
   "metadata": {},
   "source": [
    "## 2 在sklearn中实现stacking"
   ]
  },
  {
   "cell_type": "markdown",
   "id": "0b172539-95aa-4556-a1cf-56311d7b3677",
   "metadata": {},
   "source": [
    "相信到这里，你已经对Stacking算法的本质有足够深的认知了。在sklearn当中，我们使用如下两个类来实现stacking："
   ]
  },
  {
   "cell_type": "markdown",
   "id": "4a957f6d-f297-4985-987b-b967e6823790",
   "metadata": {},
   "source": [
    "*class* `sklearn.ensemble.StackingClassifier`(estimators, final_estimator=None, *, cv=None, stack_method='auto', n_jobs=None, passthrough=False, verbose=0)<br>\n",
    "\n",
    "*class* `sklearn.ensemble.StackingRegressor`(estimators, final_estimator=None, *, cv=None, n_jobs=None, passthrough=False, verbose=0)<br>\n",
    "\n",
    "|参数|说明|\n",
    "|:-:|-|\n",
    "|estimators|个体评估器的列表。在sklearn中，只使用单一评估器作为个体评估器时，<br>模型可以运行，但效果往往不太好。|\n",
    "|final_estimator|元学习器，只能有一个评估器。当融合模型执行分类任务时，元学习器一定是分类算法，<br>当融合模型执行回归任务时，元学习器一定是回归算法。|\n",
    "|cv|用于指定交叉验证的具体类型、折数等细节。<br>可以执行简单的K折交叉验证，也可以输入sklearn中交叉验证类。|\n",
    "|stack_method|只有分类器才有的参数，表示个体学习器输出的具体测试结果。|\n",
    "|passthrough|在训练元学习器时，是否加入原始数据作为特征矩阵。|\n",
    "|n_jobs, verbose|线程数与监控参数。|"
   ]
  },
  {
   "cell_type": "markdown",
   "id": "a5744bf4-690a-4179-bc59-dcdfae32cc91",
   "metadata": {},
   "source": [
    "在sklearn当中，只要输入`estimators`和`final_estimator`，就可以执行stacking了。我们可以沿用在投票法中使用过的个体学习器组合，并使用随机森林作为元学习器来完成stacking：\n",
    "\n",
    "- **工具库 & 数据**"
   ]
  },
  {
   "cell_type": "code",
   "execution_count": 20,
   "id": "cbf7f7dd-8dcb-48e2-ba3c-722774ad6d58",
   "metadata": {},
   "outputs": [],
   "source": [
    "#常用工具库\n",
    "import re\n",
    "import numpy as np\n",
    "import pandas as pd\n",
    "import matplotlib as mlp\n",
    "import matplotlib.pyplot as plt\n",
    "import time\n",
    "\n",
    "#算法辅助 & 数据\n",
    "import sklearn\n",
    "from sklearn.model_selection import KFold, cross_validate\n",
    "from sklearn.datasets import load_digits #分类 - 手写数字数据集\n",
    "from sklearn.datasets import load_iris\n",
    "from sklearn.datasets import load_boston\n",
    "from sklearn.model_selection import train_test_split\n",
    "\n",
    "#算法（单一学习器）\n",
    "from sklearn.neighbors import KNeighborsClassifier as KNNC\n",
    "from sklearn.neighbors import KNeighborsRegressor as KNNR\n",
    "from sklearn.tree import DecisionTreeRegressor as DTR\n",
    "from sklearn.tree import DecisionTreeClassifier as DTC\n",
    "from sklearn.linear_model import LinearRegression as LR\n",
    "from sklearn.linear_model import LogisticRegression as LogiR\n",
    "from sklearn.ensemble import RandomForestRegressor as RFR\n",
    "from sklearn.ensemble import RandomForestClassifier as RFC\n",
    "from sklearn.ensemble import GradientBoostingRegressor as GBR\n",
    "from sklearn.ensemble import GradientBoostingClassifier as GBC\n",
    "from sklearn.naive_bayes import GaussianNB\n",
    "import xgboost as xgb\n",
    "\n",
    "#融合模型\n",
    "from sklearn.ensemble import StackingClassifier"
   ]
  },
  {
   "cell_type": "code",
   "execution_count": 21,
   "id": "11fe4cc5-1269-463b-b243-95651fc2c008",
   "metadata": {},
   "outputs": [],
   "source": [
    "data = load_digits()\n",
    "X = data.data\n",
    "y = data.target"
   ]
  },
  {
   "cell_type": "code",
   "execution_count": 22,
   "id": "8b23c23b-8b36-43fe-a147-51186503b581",
   "metadata": {},
   "outputs": [
    {
     "data": {
      "text/plain": [
       "(1797, 64)"
      ]
     },
     "execution_count": 22,
     "metadata": {},
     "output_type": "execute_result"
    }
   ],
   "source": [
    "X.shape"
   ]
  },
  {
   "cell_type": "code",
   "execution_count": 23,
   "id": "80b9363c-6618-4a84-af13-ca1060caf053",
   "metadata": {},
   "outputs": [
    {
     "data": {
      "text/plain": [
       "array([0, 1, 2, 3, 4, 5, 6, 7, 8, 9])"
      ]
     },
     "execution_count": 23,
     "metadata": {},
     "output_type": "execute_result"
    }
   ],
   "source": [
    "np.unique(y) #10分类"
   ]
  },
  {
   "cell_type": "code",
   "execution_count": 24,
   "id": "ecea0c67-f761-4b4f-b1c8-bdcc9306d102",
   "metadata": {},
   "outputs": [],
   "source": [
    "Xtrain,Xtest,Ytrain,Ytest = train_test_split(X,y,test_size=0.2,random_state=1412)"
   ]
  },
  {
   "cell_type": "markdown",
   "id": "6c0d1d63-4682-4a82-818b-75096109ec8b",
   "metadata": {},
   "source": [
    "- **定义交叉验证函数**"
   ]
  },
  {
   "cell_type": "code",
   "execution_count": 188,
   "id": "74b62e38-6ce8-4226-9afa-3577ac55444a",
   "metadata": {},
   "outputs": [],
   "source": [
    "def fusion_estimators(clf):\n",
    "    \"\"\"\n",
    "    对融合模型做交叉验证，对融合模型的表现进行评估\n",
    "    \"\"\"\n",
    "    cv = KFold(n_splits=5,shuffle=True,random_state=1412)\n",
    "    results = cross_validate(clf,Xtrain,Ytrain\n",
    "                             ,cv = cv\n",
    "                             ,scoring = \"accuracy\"\n",
    "                             ,n_jobs = -1\n",
    "                             ,return_train_score = True\n",
    "                             ,verbose=False)\n",
    "    test = clf.fit(Xtrain,Ytrain).score(Xtest,Ytest)\n",
    "    print(\"train_score:{}\".format(results[\"train_score\"].mean())\n",
    "          ,\"\\n cv_mean:{}\".format(results[\"test_score\"].mean())\n",
    "          ,\"\\n test_score:{}\".format(test)\n",
    "         )"
   ]
  },
  {
   "cell_type": "code",
   "execution_count": 189,
   "id": "40cc1c61-257b-460f-b1dd-73aedd1800bf",
   "metadata": {},
   "outputs": [],
   "source": [
    "def individual_estimators(estimators):\n",
    "    \"\"\"\n",
    "    对模型融合中每个评估器做交叉验证，对单一评估器的表现进行评估\n",
    "    \"\"\"\n",
    "    for estimator in estimators:\n",
    "        cv = KFold(n_splits=5,shuffle=True,random_state=1412)\n",
    "        results = cross_validate(estimator[1],Xtrain,Ytrain\n",
    "                             ,cv = cv\n",
    "                             ,scoring = \"accuracy\"\n",
    "                             ,n_jobs = -1\n",
    "                             ,return_train_score = True\n",
    "                             ,verbose=False)\n",
    "        test = estimator[1].fit(Xtrain,Ytrain).score(Xtest,Ytest)\n",
    "        print(estimator[0]\n",
    "          ,\"\\n train_score:{}\".format(results[\"train_score\"].mean())\n",
    "          ,\"\\n cv_mean:{}\".format(results[\"test_score\"].mean())\n",
    "          ,\"\\n test_score:{}\".format(test)\n",
    "          ,\"\\n\")"
   ]
  },
  {
   "cell_type": "markdown",
   "id": "e3392539-8c1b-442e-93a9-b200550fe9a9",
   "metadata": {},
   "source": [
    "- **个体学习器与元学习器的定义**\n",
    "\n",
    "我们之前在讲解Voting投票法的时候已经对如何定义个体学习器做出了详细的解释，也做了很多努力找出下面的7个模型。在这里，我们就沿用Voting当中选出的7个模型："
   ]
  },
  {
   "cell_type": "code",
   "execution_count": 295,
   "id": "f5c11e4c-01ca-46ae-972c-3bdd4b14f686",
   "metadata": {},
   "outputs": [],
   "source": [
    "#逻辑回归没有增加多样性的选项\n",
    "clf1 = LogiR(max_iter = 3000, C=0.1, random_state=1412,n_jobs=8)\n",
    "#增加特征多样性与样本多样性\n",
    "clf2 = RFC(n_estimators= 100,max_features=\"sqrt\",max_samples=0.9, random_state=1412,n_jobs=8)\n",
    "#特征多样性，稍微上调特征数量\n",
    "clf3 = GBC(n_estimators= 100,max_features=16,random_state=1412) \n",
    "\n",
    "#增加算法多样性，新增决策树与KNN\n",
    "clf4 = DTC(max_depth=8,random_state=1412)\n",
    "clf5 = KNNC(n_neighbors=10,n_jobs=8)\n",
    "clf6 = GaussianNB()\n",
    "\n",
    "#新增随机多样性，相同的算法更换随机数种子\n",
    "clf7 = RFC(n_estimators= 100,max_features=\"sqrt\",max_samples=0.9, random_state=4869,n_jobs=8)\n",
    "clf8 = GBC(n_estimators= 100,max_features=16,random_state=4869)\n",
    "\n",
    "estimators = [(\"Logistic Regression\",clf1), (\"RandomForest\", clf2)\n",
    "              , (\"GBDT\",clf3), (\"Decision Tree\", clf4), (\"KNN\",clf5) \n",
    "              #, (\"Bayes\",clf6)\n",
    "              , (\"RandomForest2\", clf7), (\"GBDT2\", clf8)\n",
    "             ]"
   ]
  },
  {
   "cell_type": "markdown",
   "id": "16e36bae-677b-49fa-9cca-d0354f1b8b97",
   "metadata": {},
   "source": [
    "- **导入sklearn进行建模**"
   ]
  },
  {
   "cell_type": "code",
   "execution_count": 139,
   "id": "f0e3e07d-7391-461b-b5f1-c66018ea280d",
   "metadata": {},
   "outputs": [],
   "source": [
    "#选择单个评估器中分数最高的随机森林作为元学习器\n",
    "#也可以尝试其他更简单的学习器\n",
    "final_estimator = RFC(n_estimators=100\n",
    "                      , min_impurity_decrease=0.0025\n",
    "                      , random_state= 420, n_jobs=8)\n",
    "clf = StackingClassifier(estimators=estimators #level0的7个体学习器\n",
    "                         ,final_estimator=final_estimator #level 1的元学习器\n",
    "                         ,n_jobs=8)"
   ]
  },
  {
   "cell_type": "code",
   "execution_count": 194,
   "id": "6443f244-9cf9-4241-8d33-22c80dd161d0",
   "metadata": {},
   "outputs": [
    {
     "name": "stdout",
     "output_type": "stream",
     "text": [
      "train_score:1.0 \n",
      " cv_mean:0.9812112853271389 \n",
      " test_score:0.9861111111111112\n"
     ]
    }
   ],
   "source": [
    "fusion_estimators(clf) #没有过拟合限制"
   ]
  },
  {
   "cell_type": "code",
   "execution_count": 234,
   "id": "74ee715f-5438-4628-936c-e11aea0faf1f",
   "metadata": {},
   "outputs": [
    {
     "name": "stdout",
     "output_type": "stream",
     "text": [
      "train_score:1.0 \n",
      " cv_mean:0.9812185443283005 \n",
      " test_score:0.9888888888888889\n"
     ]
    }
   ],
   "source": [
    "fusion_estimators(clf) #精调过拟合"
   ]
  },
  {
   "cell_type": "markdown",
   "id": "e0369507-256d-4d89-a973-3c7d91daf4f7",
   "metadata": {},
   "source": [
    "||benchmark|投票法|堆叠法|\n",
    "|:-:|:-:|:-:|:-:|\n",
    "|5折交叉验证|0.9666|0.9833|<font color=\"brown\">**0.9812(↓)**</font>|\n",
    "|测试集结果|0.9527|0.9889|<font color=\"green\">**0.9889(-)**</font>|"
   ]
  },
  {
   "cell_type": "markdown",
   "id": "9a432948-4201-4f0f-8090-d5c6bef5f850",
   "metadata": {},
   "source": [
    "可以看到，stacking在测试集上的分数与投票法Voting持平，但在5折交叉验证分数上却没有投票法高。这可能是由于现在我们训练的数据较为简单，但数据学习难度较大时，stacking的优势就会慢慢显现出来。当然，我们现在使用的元学习器几乎是默认参数，我们可以针对元学习器使用贝叶斯优化进行精妙的调参，然后再进行对比，堆叠法的效果可能超越投票法。"
   ]
  },
  {
   "cell_type": "markdown",
   "id": "90a94074-c568-427c-bb68-cec838b57cf7",
   "metadata": {},
   "source": [
    "## 3 元学习器的特征矩阵"
   ]
  },
  {
   "cell_type": "markdown",
   "id": "6f9adec2-09a4-4a5b-9acb-0f5900ca3824",
   "metadata": {},
   "source": [
    "### 3.1 元学习器特征矩阵的2个问题"
   ]
  },
  {
   "cell_type": "markdown",
   "id": "baec331c-00bd-4d0b-bf2e-0442f6727873",
   "metadata": {},
   "source": [
    "在Stacking过程中，个体学习器会原始数据上训练、预测，再把预测结果排布成新特征矩阵，放入元学习器进行学习。其中，个体学习器的预测结果、即元学习器需要训练的矩阵一般如下排布：\n",
    "\n",
    "||学习器1|学习器2|...|学习器n|\n",
    "|:-:|:-:|:-:|:-:|:-:|\n",
    "|样本1|xxx|xxx|...|xxx|\n",
    "|样本2|xxx|xxx|...|xxx|\n",
    "|样本3|xxx|xxx|...|xxx|\n",
    "|...|...|...|...|...|\n",
    "|样本m|xxx|xxx|...|xxx|"
   ]
  },
  {
   "cell_type": "markdown",
   "id": "5cbd740e-06a9-4d24-8b18-2a02a88ed1ad",
   "metadata": {},
   "source": [
    "根据我们对机器学习以及模型融合的理解，不难发现以下两个问题：\n",
    "\n",
    "- **首先，元学习器的特征矩阵中的特征一定很少**<br>\n",
    "\n",
    "> 1个个体学习器只能输出1组预测结果，我们对这些预测结果进行排列，新特征矩阵中的特征数就等于个体学习器的个数。一般融合模型中个体学习器最多有20-30个，也就是说元学习器的特征矩阵中最多也就20-30个特征。这个特征量对于工业、竞赛中的机器学习算法来说是远远不够的。\n",
    "\n",
    "- **其次，元学习器的特征矩阵中样本量也不太多**<br>\n",
    "\n",
    "> 个体学习器的职责是找到原始数据与标签之间的假设，为了验证这个假设是否准确，我们需要查看的是个体学习器的泛化能力。只有当个体学习器的泛化能力较强时，我们才能安心的将个体学习器输出的预测结果放入元学习器中进行融合。<br><br>\n",
    "> 然而。在我们训练stacking模型时，我们一定是将原始数据集分为训练集、验证集和测试集三部分——<br><br>\n",
    "> 其中**测试集**是用于检测整个融合模型的效果的，因此在训练过程中不能使用。<br><br>\n",
    "> 而**训练集**用于训练个体学习器，属于已经完全透露给个体学习器的内容，如果在训练集上进行预测，那预测结果是“偏高”的、无法代表个体学习器的泛化能力。<br><br>\n",
    "> 因此最后剩下能够用来预测、还能代表个体学习器真实学习水平的，就只剩下很小的**验证集**了。一般验证集最多只占整个数据集的30%-40%，这意味着元学习器所使用的特征矩阵里的样本量最多也就是原始数据的40%。"
   ]
  },
  {
   "cell_type": "markdown",
   "id": "573511b3-0f07-4010-9401-aa3ad8fe6b74",
   "metadata": {},
   "source": [
    "无怪在行业惯例当中，元学习器需要是一个复杂度较低的算法，因为元学习器的特征矩阵在特征量、样本量上都远远小于工业机器学习所要求的标准。为了解决这两个问题，在Stacking方法当中存在多种解决方案，而这些解决方案可以通过sklearn中的stacking类实现。\n",
    "\n",
    "*class* `sklearn.ensemble.StackingClassifier`(estimators, final_estimator=None, *, cv=None, stack_method='auto', n_jobs=None, passthrough=False, verbose=0)<br>\n",
    "\n",
    "*class* `sklearn.ensemble.StackingRegressor`(estimators, final_estimator=None, *, cv=None, n_jobs=None, passthrough=False, verbose=0)<br>\n",
    "\n",
    "|参数|说明|\n",
    "|:-:|-|\n",
    "|estimators|个体评估器的列表。在sklearn中，只使用单一评估器作为个体评估器时，<br>模型可以运行，但效果往往不太好。|\n",
    "|final_estimator|元学习器，只能有一个评估器。当融合模型执行分类任务时，元学习器一定是分类算法，<br>当融合模型执行回归任务时，元学习器一定是回归算法。|\n",
    "|cv|用于指定交叉验证的具体类型、折数等细节。<br>可以执行简单的K折交叉验证，也可以输入sklearn中交叉验证类。|\n",
    "|stack_method|只有分类器才有的参数，表示个体学习器输出的具体测试结果。|\n",
    "|passthrough|在训练元学习器时，是否加入原始数据作为特征矩阵。|\n",
    "|n_jobs, verbose|线程数与监控参数。|"
   ]
  },
  {
   "cell_type": "markdown",
   "id": "996c6f24-2d91-466f-a66f-2e789fe69cce",
   "metadata": {},
   "source": [
    "   "
   ]
  },
  {
   "cell_type": "markdown",
   "id": "a722dd3a-71a4-45d7-8ac8-82a866a16481",
   "metadata": {},
   "source": [
    "### 3.2 样本量太少的解决方案：交叉验证"
   ]
  },
  {
   "cell_type": "markdown",
   "id": "bc86f463-1449-4267-881f-12c71602e03b",
   "metadata": {},
   "source": [
    "- **参数`cv`，在stacking中执行交叉验证**"
   ]
  },
  {
   "cell_type": "markdown",
   "id": "bafa8f46-d001-4e5c-ad92-031a4bf6b034",
   "metadata": {},
   "source": [
    "在stacking方法被提出的原始论文当中，原作者自然也意识到了元学习器的特征矩阵样本量太少这个问题，因此提出了**在stacking流程内部使用交叉验证来扩充元学习器特征矩阵**的想法，即在内部对每个个体学习器做交叉验证，但并不用这个交叉验证的结果来验证泛化能力，而是直接把交叉验证当成了生产数据的工具。\n",
    "\n",
    "具体的来看，在stacking过程中，我们是这样执行交叉验证的——\n",
    "\n",
    "对任意个体学习器来说，假设我们执行5折交叉验证，我们会将训练数据分成5份，并按照4份训练、1份验证的方式总共建立5个模型，训练5次："
   ]
  },
  {
   "cell_type": "markdown",
   "id": "4b9e7785-50ab-4ffd-b8ec-c05a65f02a73",
   "metadata": {},
   "source": [
    "![](https://skojiangdoc.oss-cn-beijing.aliyuncs.com/2021MachineLearning/Ensembles/Fusion/12.png)"
   ]
  },
  {
   "cell_type": "markdown",
   "id": "66b08aca-2ea4-4724-b117-f3bf7908bcef",
   "metadata": {},
   "source": [
    "在交叉验证过程中，每次验证集中的数据都是没有被放入模型进行训练的，因此这些验证集上的预测结果都可以衡量模型的泛化能力。\n",
    "\n",
    "一般来说，交叉验证的最终输出是5个验证集上的分数，但计算分数之前我们一定是在5个验证集上分别进行预测，并输出了结果。所以我们可以在交叉验证中**建立5个模型，轮流得到5个模型输出的预测结果，而这5个预测结果刚好对应全数据集中分割的5个子集**。这是说，我们完成交叉验证的同时，也对原始数据中全部的数据完成了预测。现在，只要将5个子集的预测结果**纵向堆叠**，就可以得到一个和原始数据中的样本一一对应的预测结果。这种纵向堆叠正像我们在海滩上堆石子(stacking)一样，这也是“堆叠法”这个名字的由来。"
   ]
  },
  {
   "cell_type": "markdown",
   "id": "9a13c9a9-b561-4589-bb70-21e5a733454c",
   "metadata": {},
   "source": [
    "![](https://skojiangdoc.oss-cn-beijing.aliyuncs.com/2021MachineLearning/Ensembles/Fusion/14.png)"
   ]
  },
  {
   "cell_type": "markdown",
   "id": "eb2006cf-c64e-4c17-8b71-6e559403ca6e",
   "metadata": {},
   "source": [
    "用这样的方法来进行预测，可以让**任意个体学习器输出的预测值数量 = 样本量**，如此，元学习器的特征矩阵的行数也就等于原始数据的样本量了："
   ]
  },
  {
   "cell_type": "markdown",
   "id": "384ae5cc-f990-4fe1-96ba-aced7c6482a2",
   "metadata": {},
   "source": [
    "||学习器1|学习器2|...|学习器n|\n",
    "|:-:|:-:|:-:|:-:|:-:|\n",
    "|样本1|xxx|xxx|...|xxx|\n",
    "|样本2|xxx|xxx|...|xxx|\n",
    "|样本3|xxx|xxx|...|xxx|\n",
    "|...|...|...|...|...|\n",
    "|样本m|xxx|xxx|...|xxx|"
   ]
  },
  {
   "cell_type": "markdown",
   "id": "deef0c65-7442-4ca7-b8ca-44eb602b1af0",
   "metadata": {},
   "source": [
    "在stacking过程中，这个交叉验证流程是一定会发生的，不属于我们可以人为干涉的范畴。不过，我们可以使用参数`cv`来决定具体要使用怎样的交叉验证，包括具体使用几折验证，是否考虑分类标签的分布等等。具体来说，参数`cv`中可以输入：\n",
    "\n",
    "> 输入**None**，默认使用5折交叉验证<br><br>\n",
    "> 输入sklearn中**任意交叉验证对象**<br><br>\n",
    "> 输入**任意整数**，表示在Stratified K折验证中的折数。Stratified K折验证是会考虑标签中每个类别占比的交叉验证，如果选择Stratified K折交叉验证，那每次训练时交叉验证会保证**原始标签中的类别比例 = 训练标签的类别比例 = 验证标签的类别比例**。"
   ]
  },
  {
   "cell_type": "markdown",
   "id": "544474a9-759a-421c-84d9-6064d03e74b8",
   "metadata": {},
   "source": [
    "![](https://scikit-learn.org/stable/_images/sphx_glr_plot_cv_indices_009.png)"
   ]
  },
  {
   "cell_type": "markdown",
   "id": "d8e6613b-2cfb-4716-a416-a872a561dec3",
   "metadata": {},
   "source": [
    "现在你知道Stacking是如何处理元学习器的特征矩阵样本太少的问题了。需要再次强调的是，内部交叉验证的并不是在验证泛化能力，而是一个生产数据的工具，因此交叉验证本身没有太多可以调整的地方。唯一值得一提的是，当交叉验证的折数较大时，模型的抗体过拟合能力会上升、同时学习能力会略有下降。当交叉验证的折数很小时，模型更容易过拟合。但如果数据量足够大，那使用过多的交叉验证折数并不会带来好处，反而只会让训练时间增加而已："
   ]
  },
  {
   "cell_type": "code",
   "execution_count": 299,
   "id": "5dee47d7-df46-4268-a042-2904467e50ef",
   "metadata": {},
   "outputs": [],
   "source": [
    "estimators = [(\"Logistic Regression\",clf1), (\"RandomForest\", clf2)\n",
    "              , (\"GBDT\",clf3), (\"Decision Tree\", clf4), (\"KNN\",clf5) \n",
    "              #, (\"Bayes\",clf6)\n",
    "              , (\"RandomForest2\", clf7), (\"GBDT2\", clf8)\n",
    "             ]\n",
    "final_estimator = RFC(n_estimators=100\n",
    "                      , min_impurity_decrease=0.0025\n",
    "                      , random_state= 420, n_jobs=8)"
   ]
  },
  {
   "cell_type": "code",
   "execution_count": 302,
   "id": "a4db3ee8-583f-4b25-b472-b6192962eedc",
   "metadata": {},
   "outputs": [],
   "source": [
    "def cvtest(cv):\n",
    "    clf = StackingClassifier(estimators=estimators\n",
    "                         ,final_estimator=final_estimator\n",
    "                         , cv = cv\n",
    "                         , n_jobs=8)\n",
    "    start = time.time()\n",
    "    clf.fit(Xtrain,Ytrain)\n",
    "    print((time.time() - start)) #消耗时间\n",
    "    print(clf.score(Xtrain,Ytrain)) #训练集上的结果\n",
    "    print(clf.score(Xtest,Ytest)) #测试集上的结果"
   ]
  },
  {
   "cell_type": "code",
   "execution_count": 306,
   "id": "fb816b8e-b5a7-4761-a7b6-19c753dfdd5d",
   "metadata": {},
   "outputs": [
    {
     "name": "stdout",
     "output_type": "stream",
     "text": [
      "3.8339908123016357\n",
      "1.0\n",
      "0.9861111111111112\n"
     ]
    }
   ],
   "source": [
    "cvtest(2) #非常少的验证次数"
   ]
  },
  {
   "cell_type": "code",
   "execution_count": 307,
   "id": "ecd0fcc3-3e47-4e84-91b1-d66a1fcb84b2",
   "metadata": {},
   "outputs": [
    {
     "name": "stdout",
     "output_type": "stream",
     "text": [
      "13.57864761352539\n",
      "1.0\n",
      "0.9833333333333333\n"
     ]
    }
   ],
   "source": [
    "cvtest(10) #普通的验证次数"
   ]
  },
  {
   "cell_type": "code",
   "execution_count": 308,
   "id": "16112cac-1986-4678-97f3-c567905727aa",
   "metadata": {},
   "outputs": [
    {
     "name": "stdout",
     "output_type": "stream",
     "text": [
      "39.74843621253967\n",
      "1.0\n",
      "0.9833333333333333\n"
     ]
    }
   ],
   "source": [
    "cvtest(30) #很大的验证次数"
   ]
  },
  {
   "cell_type": "markdown",
   "id": "6b1f9cf0-51b7-4ae0-b818-4f872da21a56",
   "metadata": {},
   "source": [
    "可以看到，随着cv中折数的上升，训练时间一定会上升，但是模型的表现却不一定。因此，选择5~10折交叉验证即可。同时，由于stacking当中自带交叉验证，又有元学习器这个算法，因此**堆叠法的运行速度是比投票法、均值法缓慢很多的**，这是stacking堆叠法不太人性化的地方。"
   ]
  },
  {
   "cell_type": "markdown",
   "id": "6a39ddcd-b84a-4cc6-b277-4beaab3a6d2f",
   "metadata": {},
   "source": [
    "### 3.3 特征太少的解决方案"
   ]
  },
  {
   "cell_type": "markdown",
   "id": "781f46a4-9630-49a2-a861-426d6f97e760",
   "metadata": {},
   "source": [
    "- **参数`stack_method`，更换个体学习器输出的结果类型**\n",
    "\n",
    "对于分类stacking来说，如果特征量太少，我们可以更换个体学习器输出的结果类型。具体来说，如果个体学习器输出的是具体类别（如[0,1,2]），那1个个体学习器的确只能输出一列预测结果。但如果把输出的结果类型更换成概率值、置信度等内容，输出结果的结构一下就可以从一列拓展到多列。\n",
    "\n",
    "如果这个行为由参数`stack_method`控制，这是只有StackingClassifier才拥有的参数，它控制个体分类器具体的输出。`stack_method`里面可以输入四种字符串：\"auto\", \"predict_proba\", \"decision_function\", \"predict\"，除了\"auto\"之外其他三个都是sklearn常见的接口。"
   ]
  },
  {
   "cell_type": "code",
   "execution_count": 245,
   "id": "62510a4e-535e-4117-88f4-3e2a92c427e7",
   "metadata": {},
   "outputs": [],
   "source": [
    "clf = LogiR(max_iter=3000, random_state=1412)"
   ]
  },
  {
   "cell_type": "code",
   "execution_count": 246,
   "id": "d4ee29f1-58b6-445c-bfa2-3290dfa519de",
   "metadata": {},
   "outputs": [],
   "source": [
    "clf = clf.fit(Xtrain,Ytrain)"
   ]
  },
  {
   "cell_type": "code",
   "execution_count": 249,
   "id": "c799540a-222d-4647-af11-35f156d15293",
   "metadata": {},
   "outputs": [
    {
     "data": {
      "text/plain": [
       "array([[1.11319443e-16, 9.89024228e-16, 3.60767000e-21, ...,\n",
       "        6.19650864e-16, 1.05063229e-17, 2.55116054e-13],\n",
       "       [9.99999914e-01, 2.54891883e-20, 4.18412585e-13, ...,\n",
       "        7.90066220e-12, 6.23126500e-10, 2.48485150e-11],\n",
       "       [6.49037836e-11, 8.53171613e-08, 9.99958193e-01, ...,\n",
       "        1.32963240e-15, 3.00724259e-05, 2.24500784e-17],\n",
       "       ...,\n",
       "       [2.86089528e-11, 1.41217666e-13, 9.81533656e-01, ...,\n",
       "        5.70317183e-13, 5.74658333e-06, 3.46353786e-14],\n",
       "       [4.08909180e-16, 1.13229614e-19, 1.94549576e-12, ...,\n",
       "        4.15099225e-13, 2.78827639e-08, 9.73650086e-09],\n",
       "       [5.33535502e-11, 1.56677615e-03, 2.20723889e-18, ...,\n",
       "        4.83104216e-06, 3.16743744e-06, 9.98423722e-01]])"
      ]
     },
     "execution_count": 249,
     "metadata": {},
     "output_type": "execute_result"
    }
   ],
   "source": [
    "#predict_proba：输出概率值\n",
    "clf.predict_proba(Xtrain)"
   ]
  },
  {
   "cell_type": "code",
   "execution_count": 253,
   "id": "aecf8eeb-13de-4a76-9451-95922b67b43a",
   "metadata": {},
   "outputs": [
    {
     "data": {
      "text/plain": [
       "array([[ -4.01299954,  -1.82868464, -14.35009661, ...,  -2.29624727,\n",
       "         -6.37342621,   3.72407037],\n",
       "       [ 23.41405676, -21.70197573,  -5.08825156, ...,  -2.15001769,\n",
       "          2.21778528,  -1.00416628],\n",
       "       [ -5.30159368,   1.8796313 ,  18.15647971, ..., -16.09735237,\n",
       "          7.74461962, -20.17871606],\n",
       "       ...,\n",
       "       [ -3.67534951,  -8.98652206,  20.58331292, ...,  -7.59063183,\n",
       "          8.53504682, -10.39194883],\n",
       "       [ -7.61598125, -15.80781186,   0.85155307, ...,  -0.69320146,\n",
       "         10.42180022,   9.36967331],\n",
       "       [ -6.39460948,  10.80073594, -23.39531819, ...,   5.01902278,\n",
       "          4.59688345,  17.2578936 ]])"
      ]
     },
     "execution_count": 253,
     "metadata": {},
     "output_type": "execute_result"
    }
   ],
   "source": [
    "#decision_function：每个样本点到分类超平面的距离，可以衡量置信度\n",
    "#对于无法输出概率的算法，如SVM，我们通常使用decision_function来输出置信度\n",
    "clf.decision_function(Xtrain)"
   ]
  },
  {
   "cell_type": "code",
   "execution_count": 251,
   "id": "8d7f5932-7df8-49e9-8125-92d35f419952",
   "metadata": {},
   "outputs": [
    {
     "data": {
      "text/plain": [
       "array([5, 0, 2, ..., 2, 3, 9])"
      ]
     },
     "execution_count": 251,
     "metadata": {},
     "output_type": "execute_result"
    }
   ],
   "source": [
    "#predict：输出具体的预测标签\n",
    "clf.predict(Xtrain)"
   ]
  },
  {
   "cell_type": "markdown",
   "id": "fb2e778f-c854-41a5-a426-bdb1dcfb7f41",
   "metadata": {},
   "source": [
    "对参数`stack_method`有：\n",
    "> 输入\"auto\"，sklearn会在每个个体学习器上按照\"predict_proba\", \"decision_function\", \"predict\"的顺序，分别尝试学习器可以使用哪个接口进行输出。即，如果一个算法可以使用predict_proba接口，那就不再尝试后面两个接口，如果无法使用predict_proba，就尝试能否使用decision_function。<br><br>\n",
    "> 输入三大接口中的任意一个接口名，则默认全部个体学习器都按照这一接口进行输出。然而，如果遇见某个算法无法按照选定的接口进行输出，stacking就会报错。\n",
    "\n",
    "因此，我们一般都默认让`stack_method`保持为\"auto\"。从上面的我们在逻辑回归上尝试的三个接口结果来看，很明显，当我们把输出的结果类型更换成概率值、置信度等内容，输出结果的结构一下就可以从一列拓展到多列。\n",
    "\n",
    "- **predict_proba**\n",
    "> 对二分类，输出样本的真实标签1的概率，一列<br>\n",
    "> 对n分类，输出样本的真实标签为[0,1,2,3...n]的概率，一共n列\n",
    "\n",
    "- **decision_function**\n",
    "> 对二分类，输出样本的真实标签为1的置信度，一列<br>\n",
    "> 对n分类，输出样本的真实标签为[0,1,2,3...n]的置信度，一共n列\n",
    "\n",
    "- **predict**\n",
    "> 对任意分类形式，输出算法在样本上的预测标签，一列"
   ]
  },
  {
   "cell_type": "markdown",
   "id": "a9e898ce-3d14-4386-a1f1-75f8a71ca077",
   "metadata": {},
   "source": [
    "在实践当中，我们会发现输出概率/置信度的效果比直接输出预测标签的效果好很多，既可以向元学习器提供更多的特征、还可以向元学习器提供个体学习器的置信度。我们在投票法中发现使用概率的“软投票”比使用标签类被的“硬投票”更有效，也是因为考虑了置信度。"
   ]
  },
  {
   "cell_type": "markdown",
   "id": "72e8509d-be49-4da9-ae24-a2f1aedb92ee",
   "metadata": {},
   "source": [
    "- **参数`passthrough`，将原始特征矩阵加入新特征矩阵**"
   ]
  },
  {
   "cell_type": "markdown",
   "id": "0cd1090d-5c2e-48db-8e6d-fe9ae6acbae9",
   "metadata": {},
   "source": [
    "对于分类算法，我们可以使用`stack_method`，但是对于回归类算法，我们没有这么多可以选择的接口。回归类算法的输出永远就只有一列连续值，因而我们可以考虑将原始特征矩阵加入个体学习器的预测值，构成新特征矩阵。这样的话，元学习器所使用的特征也不会过于少了。当然，这个操作有较高的过拟合风险，因此当特征过于少、且stacking算法的效果的确不太好的时候，我们才会考虑这个方案。\n",
    "\n",
    "控制是否将原始数据加入特征矩阵的参数是`passthrough`，我们可以在该参数中输入布尔值。当设置为False时，表示不将原始特征矩阵加入个体学习器的预测值，设置为True时，则将原始特征矩阵加入个体学习器的预测值、构成大特征矩阵。"
   ]
  },
  {
   "cell_type": "markdown",
   "id": "2bf2527b-5cf2-4f83-9fdf-126e05e80abd",
   "metadata": {},
   "source": [
    "- 接口`transform`与属性`stack_method_`"
   ]
  },
  {
   "cell_type": "code",
   "execution_count": 145,
   "id": "9aa33efe-f571-47ab-8f94-5397e81a4c71",
   "metadata": {},
   "outputs": [],
   "source": [
    "estimators = [(\"Logistic Regression\",clf1), (\"RandomForest\", clf2)\n",
    "              , (\"GBDT\",clf3), (\"Decision Tree\", clf4), (\"KNN\",clf5) \n",
    "              #, (\"Bayes\",clf6)\n",
    "              , (\"RandomForest2\", clf7), (\"GBDT2\", clf8)\n",
    "             ]"
   ]
  },
  {
   "cell_type": "code",
   "execution_count": 146,
   "id": "c8cd4f94-7f80-4e80-9411-c0be0bc277af",
   "metadata": {},
   "outputs": [],
   "source": [
    "final_estimator = RFC(n_estimators=100\n",
    "                      , min_impurity_decrease=0.0025\n",
    "                      , random_state= 420, n_jobs=8)\n",
    "clf = StackingClassifier(estimators=estimators\n",
    "                         ,final_estimator=final_estimator\n",
    "                         ,stack_method = \"auto\"\n",
    "                         ,n_jobs=8)"
   ]
  },
  {
   "cell_type": "code",
   "execution_count": 147,
   "id": "f63749e9-fb83-4abe-97e8-f9f7038f0bb6",
   "metadata": {},
   "outputs": [],
   "source": [
    "clf = clf.fit(Xtrain,Ytrain)"
   ]
  },
  {
   "cell_type": "markdown",
   "id": "456b124c-c1b1-4b1d-9dae-ad84774f6a39",
   "metadata": {},
   "source": [
    "当我们训练完毕stacking算法后，可以使用接口`transform`来查看当前**元学习器所使用的训练特征矩阵的结构**："
   ]
  },
  {
   "cell_type": "code",
   "execution_count": 148,
   "id": "3f350688-b2c2-493f-b159-6272fdbeb765",
   "metadata": {},
   "outputs": [
    {
     "data": {
      "text/plain": [
       "(1437, 70)"
      ]
     },
     "execution_count": 148,
     "metadata": {},
     "output_type": "execute_result"
    }
   ],
   "source": [
    "clf.transform(Xtrain).shape"
   ]
  },
  {
   "cell_type": "markdown",
   "id": "406cd05b-a6ef-4677-b36b-6400919bf5b4",
   "metadata": {},
   "source": [
    "如之前所说，这个特征矩阵的行数就等于训练的样本量："
   ]
  },
  {
   "cell_type": "code",
   "execution_count": 310,
   "id": "db7fb156-012d-40b6-9d65-227c4af48b29",
   "metadata": {},
   "outputs": [
    {
     "data": {
      "text/plain": [
       "1437"
      ]
     },
     "execution_count": 310,
     "metadata": {},
     "output_type": "execute_result"
    }
   ],
   "source": [
    "Xtrain.shape[0]"
   ]
  },
  {
   "cell_type": "markdown",
   "id": "cbd6f99b-4eac-42bb-9f6f-030d4146ba7f",
   "metadata": {},
   "source": [
    "不过你能判断为什么这里有70列吗？因为我们有7个个体学习器，而现在数据是10分类的数据，因此每个个体学习器都输出了类别[0,1,2,3,4,5,6,7,8,9]所对应的概率，因此总共产出了70列数据："
   ]
  },
  {
   "cell_type": "code",
   "execution_count": 282,
   "id": "c9abae8d-5d2b-4a3d-b63f-4d27fdd51cc0",
   "metadata": {},
   "outputs": [
    {
     "data": {
      "text/html": [
       "<div>\n",
       "<style scoped>\n",
       "    .dataframe tbody tr th:only-of-type {\n",
       "        vertical-align: middle;\n",
       "    }\n",
       "\n",
       "    .dataframe tbody tr th {\n",
       "        vertical-align: top;\n",
       "    }\n",
       "\n",
       "    .dataframe thead th {\n",
       "        text-align: right;\n",
       "    }\n",
       "</style>\n",
       "<table border=\"1\" class=\"dataframe\">\n",
       "  <thead>\n",
       "    <tr style=\"text-align: right;\">\n",
       "      <th></th>\n",
       "      <th>0</th>\n",
       "      <th>1</th>\n",
       "      <th>2</th>\n",
       "      <th>3</th>\n",
       "      <th>4</th>\n",
       "      <th>5</th>\n",
       "      <th>6</th>\n",
       "      <th>7</th>\n",
       "      <th>8</th>\n",
       "      <th>9</th>\n",
       "      <th>...</th>\n",
       "      <th>60</th>\n",
       "      <th>61</th>\n",
       "      <th>62</th>\n",
       "      <th>63</th>\n",
       "      <th>64</th>\n",
       "      <th>65</th>\n",
       "      <th>66</th>\n",
       "      <th>67</th>\n",
       "      <th>68</th>\n",
       "      <th>69</th>\n",
       "    </tr>\n",
       "  </thead>\n",
       "  <tbody>\n",
       "    <tr>\n",
       "      <th>0</th>\n",
       "      <td>3.365514e-11</td>\n",
       "      <td>2.965868e-10</td>\n",
       "      <td>9.917224e-14</td>\n",
       "      <td>1.915620e-08</td>\n",
       "      <td>1.936013e-10</td>\n",
       "      <td>1.000000e+00</td>\n",
       "      <td>1.117622e-11</td>\n",
       "      <td>3.264172e-10</td>\n",
       "      <td>4.190639e-11</td>\n",
       "      <td>2.062120e-08</td>\n",
       "      <td>...</td>\n",
       "      <td>2.002212e-07</td>\n",
       "      <td>3.143108e-06</td>\n",
       "      <td>6.019771e-07</td>\n",
       "      <td>1.149528e-05</td>\n",
       "      <td>0.000002</td>\n",
       "      <td>0.999965</td>\n",
       "      <td>4.110135e-07</td>\n",
       "      <td>8.580429e-07</td>\n",
       "      <td>0.000004</td>\n",
       "      <td>0.000012</td>\n",
       "    </tr>\n",
       "    <tr>\n",
       "      <th>1</th>\n",
       "      <td>9.999838e-01</td>\n",
       "      <td>1.537041e-13</td>\n",
       "      <td>5.214720e-09</td>\n",
       "      <td>5.462467e-09</td>\n",
       "      <td>1.400443e-07</td>\n",
       "      <td>1.425684e-05</td>\n",
       "      <td>6.408482e-07</td>\n",
       "      <td>2.707380e-08</td>\n",
       "      <td>1.012484e-06</td>\n",
       "      <td>1.428500e-07</td>\n",
       "      <td>...</td>\n",
       "      <td>9.999684e-01</td>\n",
       "      <td>3.986468e-07</td>\n",
       "      <td>7.661002e-07</td>\n",
       "      <td>8.657756e-07</td>\n",
       "      <td>0.000001</td>\n",
       "      <td>0.000011</td>\n",
       "      <td>4.000087e-06</td>\n",
       "      <td>3.828487e-07</td>\n",
       "      <td>0.000003</td>\n",
       "      <td>0.000010</td>\n",
       "    </tr>\n",
       "    <tr>\n",
       "      <th>2</th>\n",
       "      <td>8.525936e-08</td>\n",
       "      <td>1.925708e-05</td>\n",
       "      <td>9.985917e-01</td>\n",
       "      <td>1.807765e-04</td>\n",
       "      <td>3.228044e-07</td>\n",
       "      <td>4.127797e-04</td>\n",
       "      <td>1.622290e-04</td>\n",
       "      <td>2.915310e-10</td>\n",
       "      <td>6.328172e-04</td>\n",
       "      <td>6.198298e-11</td>\n",
       "      <td>...</td>\n",
       "      <td>4.862091e-07</td>\n",
       "      <td>3.863066e-05</td>\n",
       "      <td>9.996182e-01</td>\n",
       "      <td>9.759533e-05</td>\n",
       "      <td>0.000011</td>\n",
       "      <td>0.000058</td>\n",
       "      <td>2.555649e-05</td>\n",
       "      <td>1.856421e-06</td>\n",
       "      <td>0.000124</td>\n",
       "      <td>0.000024</td>\n",
       "    </tr>\n",
       "    <tr>\n",
       "      <th>3</th>\n",
       "      <td>1.855973e-07</td>\n",
       "      <td>1.459770e-08</td>\n",
       "      <td>3.227448e-12</td>\n",
       "      <td>8.743667e-14</td>\n",
       "      <td>9.999641e-01</td>\n",
       "      <td>1.467078e-10</td>\n",
       "      <td>1.379078e-06</td>\n",
       "      <td>3.424530e-05</td>\n",
       "      <td>4.306753e-08</td>\n",
       "      <td>2.199567e-11</td>\n",
       "      <td>...</td>\n",
       "      <td>7.867807e-07</td>\n",
       "      <td>2.055728e-06</td>\n",
       "      <td>6.228280e-07</td>\n",
       "      <td>8.675724e-07</td>\n",
       "      <td>0.999765</td>\n",
       "      <td>0.000001</td>\n",
       "      <td>3.959476e-06</td>\n",
       "      <td>2.081655e-04</td>\n",
       "      <td>0.000010</td>\n",
       "      <td>0.000008</td>\n",
       "    </tr>\n",
       "    <tr>\n",
       "      <th>4</th>\n",
       "      <td>7.470809e-05</td>\n",
       "      <td>9.309219e-07</td>\n",
       "      <td>2.840082e-06</td>\n",
       "      <td>3.902514e-06</td>\n",
       "      <td>1.470382e-03</td>\n",
       "      <td>2.121347e-03</td>\n",
       "      <td>8.517297e-08</td>\n",
       "      <td>9.958360e-01</td>\n",
       "      <td>3.160166e-04</td>\n",
       "      <td>1.737619e-04</td>\n",
       "      <td>...</td>\n",
       "      <td>3.493104e-06</td>\n",
       "      <td>6.057915e-05</td>\n",
       "      <td>2.445526e-05</td>\n",
       "      <td>6.996183e-05</td>\n",
       "      <td>0.000096</td>\n",
       "      <td>0.000104</td>\n",
       "      <td>1.423883e-05</td>\n",
       "      <td>9.984240e-01</td>\n",
       "      <td>0.000714</td>\n",
       "      <td>0.000490</td>\n",
       "    </tr>\n",
       "  </tbody>\n",
       "</table>\n",
       "<p>5 rows × 70 columns</p>\n",
       "</div>"
      ],
      "text/plain": [
       "             0             1             2             3             4   \\\n",
       "0  3.365514e-11  2.965868e-10  9.917224e-14  1.915620e-08  1.936013e-10   \n",
       "1  9.999838e-01  1.537041e-13  5.214720e-09  5.462467e-09  1.400443e-07   \n",
       "2  8.525936e-08  1.925708e-05  9.985917e-01  1.807765e-04  3.228044e-07   \n",
       "3  1.855973e-07  1.459770e-08  3.227448e-12  8.743667e-14  9.999641e-01   \n",
       "4  7.470809e-05  9.309219e-07  2.840082e-06  3.902514e-06  1.470382e-03   \n",
       "\n",
       "             5             6             7             8             9   ...  \\\n",
       "0  1.000000e+00  1.117622e-11  3.264172e-10  4.190639e-11  2.062120e-08  ...   \n",
       "1  1.425684e-05  6.408482e-07  2.707380e-08  1.012484e-06  1.428500e-07  ...   \n",
       "2  4.127797e-04  1.622290e-04  2.915310e-10  6.328172e-04  6.198298e-11  ...   \n",
       "3  1.467078e-10  1.379078e-06  3.424530e-05  4.306753e-08  2.199567e-11  ...   \n",
       "4  2.121347e-03  8.517297e-08  9.958360e-01  3.160166e-04  1.737619e-04  ...   \n",
       "\n",
       "             60            61            62            63        64        65  \\\n",
       "0  2.002212e-07  3.143108e-06  6.019771e-07  1.149528e-05  0.000002  0.999965   \n",
       "1  9.999684e-01  3.986468e-07  7.661002e-07  8.657756e-07  0.000001  0.000011   \n",
       "2  4.862091e-07  3.863066e-05  9.996182e-01  9.759533e-05  0.000011  0.000058   \n",
       "3  7.867807e-07  2.055728e-06  6.228280e-07  8.675724e-07  0.999765  0.000001   \n",
       "4  3.493104e-06  6.057915e-05  2.445526e-05  6.996183e-05  0.000096  0.000104   \n",
       "\n",
       "             66            67        68        69  \n",
       "0  4.110135e-07  8.580429e-07  0.000004  0.000012  \n",
       "1  4.000087e-06  3.828487e-07  0.000003  0.000010  \n",
       "2  2.555649e-05  1.856421e-06  0.000124  0.000024  \n",
       "3  3.959476e-06  2.081655e-04  0.000010  0.000008  \n",
       "4  1.423883e-05  9.984240e-01  0.000714  0.000490  \n",
       "\n",
       "[5 rows x 70 columns]"
      ]
     },
     "execution_count": 282,
     "metadata": {},
     "output_type": "execute_result"
    }
   ],
   "source": [
    "pd.DataFrame(clf.transform(Xtrain)).head()"
   ]
  },
  {
   "cell_type": "markdown",
   "id": "c2d01c4e-9ac2-4065-8450-b628745d9dfb",
   "metadata": {},
   "source": [
    "如果加入参数`passthrough`，特征矩阵的特征量会变得更大："
   ]
  },
  {
   "cell_type": "code",
   "execution_count": 283,
   "id": "0e682863-f0d2-4128-a931-f18a357bf96d",
   "metadata": {},
   "outputs": [],
   "source": [
    "clf = StackingClassifier(estimators=estimators\n",
    "                         ,final_estimator=final_estimator\n",
    "                         ,stack_method = \"auto\"\n",
    "                         ,passthrough = True\n",
    "                         ,n_jobs=8)"
   ]
  },
  {
   "cell_type": "code",
   "execution_count": 285,
   "id": "fd47cf5a-b16f-4da8-ba64-30e08b25dcc5",
   "metadata": {},
   "outputs": [],
   "source": [
    "clf = clf.fit(Xtrain,Ytrain)"
   ]
  },
  {
   "cell_type": "code",
   "execution_count": 287,
   "id": "9f39dfba-86d8-44f8-b0b4-237fcff83b38",
   "metadata": {},
   "outputs": [
    {
     "data": {
      "text/plain": [
       "(1437, 134)"
      ]
     },
     "execution_count": 287,
     "metadata": {},
     "output_type": "execute_result"
    }
   ],
   "source": [
    "clf.transform(Xtrain).shape #这里就等于70 + 原始特征矩阵的特征数量64"
   ]
  },
  {
   "cell_type": "markdown",
   "id": "d7b28adf-6092-4167-b06e-8ef15ded45f1",
   "metadata": {},
   "source": [
    "使用属性`stack_method_`，我们可以查看现在每个个体学习器都使用了什么接口做为预测输出："
   ]
  },
  {
   "cell_type": "code",
   "execution_count": 289,
   "id": "8b70566c-5994-4d60-be08-a912c32857de",
   "metadata": {},
   "outputs": [
    {
     "data": {
      "text/plain": [
       "['predict_proba',\n",
       " 'predict_proba',\n",
       " 'predict_proba',\n",
       " 'predict_proba',\n",
       " 'predict_proba',\n",
       " 'predict_proba',\n",
       " 'predict_proba']"
      ]
     },
     "execution_count": 289,
     "metadata": {},
     "output_type": "execute_result"
    }
   ],
   "source": [
    "clf.stack_method_ "
   ]
  },
  {
   "cell_type": "markdown",
   "id": "ee37df3c-5154-4d85-80b1-6e420aa41822",
   "metadata": {},
   "source": [
    "不难发现，7个个体学习器都使用了`predict_proba`的概率接口进行输出，这与我们选择的算法都是可以输出概率的算法有很大的关系。"
   ]
  },
  {
   "cell_type": "markdown",
   "id": "0bbc7ecb-3dea-465a-8e9d-326cad8de900",
   "metadata": {
    "tags": []
   },
   "source": [
    "## 4 Stacking融合的训练/测试流程"
   ]
  },
  {
   "cell_type": "markdown",
   "id": "e639315e-7be8-4430-aeb3-1bcd71d176f5",
   "metadata": {
    "tags": []
   },
   "source": [
    "现在我们已经知道了stacking算法中所有关于训练的信息，我们可以梳理出如下训练流程：\n",
    "\n",
    "- **stacking的训练**\n",
    "> 1. 将数据分割为训练集、测试集，其中训练集上的样本为$M_{train}$，测试集上的样本量为$M_{test}$<br><br>\n",
    "> 2. 将训练集输入level 0的个体学习器，分别在每个个体学习器上进行交叉验证。在每个个体学习器上，将所有交叉验证的验证结果纵向堆叠形成预测结果。假设预测结果为概率值，当融合模型执行回归或二分类任务时，该预测结果的结构为$(M_{train},1)$，当融合模型执行K分类任务时(K>2)，该预测结果的结构为$(M_{train},K)$<br><br>\n",
    "> 3. 将所有个体学习器的预测结果横向拼接，形成新特征矩阵。假设共有N个个体学习器，则新特征矩阵的结构为$(M_{train}, N)$。如果是输出多分类的概率，那最终得出的新特征矩阵的结构为$(M_{train}, N*K)$<br><br>\n",
    "> 4. 将新特征矩阵放入元学习器进行训练。"
   ]
  },
  {
   "cell_type": "markdown",
   "id": "63290d1d-be61-4912-9a9c-2711d77f58f6",
   "metadata": {},
   "source": [
    "现在，你能梳理出Stacking的测试流程吗？"
   ]
  },
  {
   "cell_type": "markdown",
   "id": "f7654432-5304-456b-bc0a-76f4dde8655f",
   "metadata": {},
   "source": [
    "![](https://skojiangdoc.oss-cn-beijing.aliyuncs.com/2021MachineLearning/Ensembles/Fusion/10.png)"
   ]
  },
  {
   "cell_type": "markdown",
   "id": "40f80ce3-39d1-402a-b63a-ea7b968ada99",
   "metadata": {},
   "source": [
    "不难发现，虽然训练的流程看起来比较流畅，但是测试却不知道从何做起，因为：\n",
    "\n",
    "- 最终输出预测结果的是元学习器，因此直觉上来说测试数据集或许应该被输入到元学习器当中。然而，**元学习器是使用新特征矩阵进行预测的，新特征矩阵的结构与规律都与原始数据不同**，所以元学习器根本不可能接受从原始数据中分割出来的测试数据。因此正确的做法应该是让测试集输入level 0的个体学习器。\n",
    "\n",
    "- 然而，这又存在问题了：level 0的个体学习器们在训练过程中做的是交叉验证，而**交叉验证只会输出验证结果，不会留下被训练的模型**。因此在level 0中没有可以用于预测的、已经训练完毕的模型。\n",
    "\n",
    "为了解决这个矛盾在我们的训练流程中，存在着隐藏的步骤："
   ]
  },
  {
   "cell_type": "markdown",
   "id": "c17910f7-36c9-4329-a65f-bbe1ad233f71",
   "metadata": {},
   "source": [
    "- **stacking的训练**\n",
    "> 1. 将数据分割为训练集、测试集，其中训练集上的样本为$M_{train}$，测试集上的样本量为$M_{test}$<br><br>\n",
    "> 2. 将训练集输入level 0的个体学习器，分别在每个个体学习器上进行交叉验证。在每个个体学习器上，将所有交叉验证的验证结果纵向堆叠形成预测结果。假设预测结果为概率值，当融合模型执行回归或二分类任务时，该预测结果的结构为$(M_{train},1)$，当融合模型执行K分类任务时(K>2)，该预测结果的结构为$(M_{train},K)$<br><br>\n",
    "> 3.  <font color=\"orange\">**隐藏步骤：使用全部训练数据对所有个体学习器进行训练，为测试做好准备。**</font><br><br>\n",
    "> 4. 将所有个体学习器的预测结果横向拼接，形成新特征矩阵。假设共有N个个体学习器，则新特征矩阵的结构为$(M_{train}, N)$.<br><br>\n",
    "> 5. 将新特征矩阵放入元学习器进行训练。\n",
    "\n",
    "- **stacking的测试**\n",
    "> 1. 将测试集输入level0的个体学习器，分别在每个个体学习器上预测出相应结果。假设测试结果为概率值，当融合模型执行回归或二分类任务时，该测试结果的结构为$(M_{test},1)$，当融合模型执行K分类任务时(K>2)，该测试结果的结构为$(M_{test},K)$<br><br>\n",
    "> 2. 将所有个体学习器的预测结果横向拼接为新特征矩阵。假设共有N个个体学习器，则新特征矩阵的结构为$(M_{test}, N)$.<br><br>\n",
    "> 3. 将新特征矩阵放入元学习器进行预测。"
   ]
  },
  {
   "cell_type": "markdown",
   "id": "5d856d06-968b-4b23-8dd2-30ad9bd60164",
   "metadata": {},
   "source": [
    "因此在stacking中，不仅要对个体学习器完成全部交叉验证，还需要在交叉验证结束后，重新使用训练数据来训练所有的模型。无怪Stacking融合的复杂度较高、并且运行缓慢了。"
   ]
  },
  {
   "cell_type": "markdown",
   "id": "46df0a13-c1c0-46cc-9508-3a9c57141652",
   "metadata": {},
   "source": [
    "到现在，我们已经讲解完毕投票法和堆叠法了。在sklearn中，我们讲解了下面4个类：\n",
    "\n",
    "|融合方法|类|\n",
    "|:-:|:-:|\n",
    "|投票法|ensemble.VotingClassifier|\n",
    "|平均法|ensemble.VotingRegressor|\n",
    "|堆叠法分类|ensemble.StackingClassifier|\n",
    "|堆叠法回归|ensemble.StackingRegressor|\n",
    "\n",
    "虽然这些类是模型融合方法，但我们可以像使用任意单一算法类一样任意地使用这些方法——我们可以很轻松地对这些类执行手动调参、交叉验证、网格搜索、贝叶斯优化、管道打包等操作，而无需担心代码的兼容问题。**但需要注意的是，sklearn中的融合工具只支持sklearn中的评估器，不支持xgb、lgbm的原生代码**。因此，如果我们想要对原生代码下的模型进行融合，必须自己手写融合过程。<font color=\"red\">**在正课《2022机器学习实战》当中，我将会手写融合过程，带大家来融合超强的Boosting学习器们。**</font>"
   ]
  },
  {
   "cell_type": "markdown",
   "id": "2a5164e2-85de-406a-869e-392c49ef7f04",
   "metadata": {},
   "source": [
    "   "
   ]
  },
  {
   "cell_type": "markdown",
   "id": "e07c95f5-68cb-46cc-9eea-a668ad81b8bd",
   "metadata": {},
   "source": [
    "# 二 改进后的堆叠法：Blending"
   ]
  },
  {
   "cell_type": "markdown",
   "id": "a267c0b6-2876-4879-9377-a2db5fd937d2",
   "metadata": {},
   "source": [
    "## 1 Blending的基本思想与流程"
   ]
  },
  {
   "cell_type": "markdown",
   "id": "897bc356-9e5b-4005-a919-802fd6ba20ea",
   "metadata": {},
   "source": [
    "Blending融合是在Stacking融合的基础上改进过后的算法。在之前的课程中我们提到，堆叠法stacking在level1上使用算法，这可以令融合本身向着损失函数最小化的方向进行，同时stacking使用自带的内部交叉验证来生成数据，可以深度使用训练数据，让模型整体的效果更好。但在这些操作的背后，存在两个巨大的问题：\n",
    "\n",
    "- **stacking融合需要巨大的计算量，需要的时间和算力成本较高**，以及\n",
    "\n",
    "- **stacking融合在数据和算法上都过于复杂，因此融合模型过拟合的可能性太高**。\n",
    "\n",
    "针对stacking存在的这两个问题，竞赛冠军队们持续探索，并且在实践过程中创造了多种改进的stacking方法。今天，多种stacking方法中较为有效的方法之一就是著名的Blending方法。Blending直译为“混合”，但它的核心思路其实与Stacking完全一致：使用两层算法串联，level0上存在多个强学习器，level1上有且只有一个元学习器，且level0上的强学习器负责拟合数据与真实标签之间的关系、并输出预测结果、组成新的特征矩阵，然后让level1上的元学习器在新的特征矩阵上学习并预测。\n",
    "\n",
    "![](https://skojiangdoc.oss-cn-beijing.aliyuncs.com/2021MachineLearning/Ensembles/Fusion/10.png)"
   ]
  },
  {
   "cell_type": "markdown",
   "id": "1d536de2-4653-40ad-9db3-19cc7e1a3141",
   "metadata": {},
   "source": [
    "然而，与stacking不同的是，为了降低计算量、降低融合模型过拟合风险，Blending取消了K折交叉验证、并且大大地降低了元学习器所需要训练的数据量，其具体流程如下："
   ]
  },
  {
   "cell_type": "markdown",
   "id": "d66aa323-4030-4d9e-acc1-8268c0fd1d3c",
   "metadata": {},
   "source": [
    "- **blending的训练**\n",
    "> 1. 将数据分割为训练集、验证集与测试集，其中训练集上的样本为$M_{train}$，验证集上的样本为$M_v$，测试集上的样本量为$M_{test}$<br><br>\n",
    "> 2. 将训练集输入level 0的个体学习器，分别在每个个体学习器上训练。训练完毕后，在验证集上进行验证，输出验证集上的预测结果。假设预测结果为概率值，当融合模型执行回归或二分类任务时，该预测结果的结构为$(M_v,1)$，当融合模型执行K分类任务时(K>2)，该预测结果的结构为$(M_v,K)$。此时此刻，所有个体学习器都被训练完毕了。<br><br>\n",
    "> 3. 将所有个体学习器的验证结果横向拼接，形成新特征矩阵。假设共有N个个体学习器，则新特征矩阵的结构为$(M_v, N)$。<br><br>\n",
    "> 4. 将新特征矩阵放入元学习器进行训练。\n",
    "\n",
    "- **blending的测试**\n",
    "> 1. 将测试集输入level0的个体学习器，分别在每个个体学习器上预测出相应结果。假设测试结果为概率值，当融合模型执行回归或二分类任务时，该测试结果的结构为$(M_{test},1)$，当融合模型执行K分类任务时(K>2)，该测试结果的结构为$(M_{test},K)$<br><br>\n",
    "> 2. 将所有个体学习器的预测结果横向拼接为新特征矩阵。假设共有N个个体学习器，则新特征矩阵的结构为$(M_{test}, N)$.<br><br>\n",
    "> 3. 将新特征矩阵放入元学习器进行预测。"
   ]
  },
  {
   "cell_type": "markdown",
   "id": "f21a5acd-23b8-44ba-97f5-23910d700754",
   "metadata": {},
   "source": [
    "在讲解Stacking时我们提到：在实际进行训练时，验证集肯定是远远小于训练集的，因此只使用一部分验证集进行预测的方法一定会让新特征矩阵的尺寸变得非常小。在大部分时候，这是一个劣势，但在数据量庞大、运算成本极高的场景下，只使用一部分验证集构建新特征矩阵，反而还能提升运算速度、降低运算成本、防止模型过度学习、并提升模型的抗过拟合能力。**很显然的，验证集越大，模型抗过拟合能力越强，同时学习能力越弱。**\n",
    "\n",
    "在实际应用时，如果数据量较大、且stacking方法表现出过拟合程度很高，那换blending融合可以获得更好的结果。相对的，如果stacking算法没有表现出太强的过拟合，那换blending融合可能导致模型的学习能力极速下降。\n",
    "\n",
    "有一种场景下，stacking和blending都无法发挥效用，即数据量很小、且stacking表现出强烈过拟合的情况。这种状况下，数据或许不适合模型融合场景，或者我们可以更换成规则更简单的融合方式，例如平均、投票等来查看模型的过拟合情况。在实际中，stacking的应用是远比blending广泛的。\n",
    "\n",
    "截止到2022年1月下旬，sklearn还不支持Blending方法，因此要实现Blending我们只能自己动手丰衣足食了。幸运的是，Blending的训练流程相当简单，因此我们可以很容易实现它。"
   ]
  },
  {
   "cell_type": "markdown",
   "id": "85d66428-5c83-4743-bdcb-fd99806653da",
   "metadata": {},
   "source": [
    "## 2 手动实现Blending算法"
   ]
  },
  {
   "cell_type": "code",
   "execution_count": 137,
   "id": "4ac167b0-a5a6-4bc1-881e-ba6747597a4f",
   "metadata": {},
   "outputs": [],
   "source": [
    "def BlendingClassifier(X,y,estimators,final_estimator,test_size=0.2,vali_size=0.4):\n",
    "    \"\"\"\n",
    "    该函数用于实现Blending分类融合\n",
    "    X,y：整体数据集，会被分割为训练集、测试集、验证集三部分\n",
    "    estimators: level0的个体学习器，输入格式形如sklearn中要求的[(名字，算法)，(名字，算法)...]    \n",
    "    final_estimator：元学习器\n",
    "    test_size：测试集占全数据集的比例\n",
    "    vali_size：验证集站全数据集的比例\n",
    "    \n",
    "    \"\"\"\n",
    "    \n",
    "    #第一步，分割数据集\n",
    "    #1.分测试集\n",
    "    #2.分训练和验证集，验证集占完整数据集的比例为0.4，因此占排除测试集之后的比例为0.4/(1-0.2)\n",
    "    X_,Xtest,y_,Ytest = train_test_split(X,y,test_size=test_size,random_state=1412)\n",
    "    Xtrain,Xvali,Ytrain,Yvali = train_test_split(X_,y_,test_size=vali_size/(1-test_size),random_state=1412)\n",
    "    \n",
    "    #训练\n",
    "    #建立空dataframe用于保存个体学习器上的验证结果，即用于生成新特征矩阵\n",
    "    #新建空列表用于保存训练完毕的个体学习器，以便在测试中使用\n",
    "    NewX_vali = pd.DataFrame()\n",
    "    trained_estimators = []\n",
    "    #循环、训练每个个体学习器、并收集个体学习器在验证集上输出的概率\n",
    "    for clf_id, clf in estimators:\n",
    "        clf = clf.fit(Xtrain,Ytrain)\n",
    "        val_predictions = pd.DataFrame(clf.predict_proba(Xvali))\n",
    "        #保存结果，在循环中逐渐构筑新特征矩阵\n",
    "        NewX_vali = pd.concat([NewX_vali,val_predictions],axis=1)\n",
    "        trained_estimators.append((clf_id,clf))\n",
    "    #元学习器在新特征矩阵上训练、并输出训练分数\n",
    "    final_estimator = final_estimator.fit(NewX_vali,Yvali)\n",
    "    train_score = final_estimator.score(NewX_vali,Yvali)\n",
    "    \n",
    "    #测试\n",
    "    #建立空dataframe用于保存个体学习器上的预测结果，即用于生成新特征矩阵\n",
    "    NewX_test = pd.DataFrame()\n",
    "    #循环，在每个训练完毕的个体学习器上进行预测，并收集每个个体学习器上输出的概率\n",
    "    for clf_id,clf in trained_estimators:\n",
    "        test_prediction = pd.DataFrame(clf.predict_proba(Xtest))\n",
    "        #保存结果，在循环中逐渐构筑特征矩阵\n",
    "        NewX_test = pd.concat([NewX_test,test_prediction],axis=1)\n",
    "    #元学习器在新特征矩阵上测试、并输出测试分数\n",
    "    test_score = final_estimator.score(NewX_test,Ytest)\n",
    "    \n",
    "    #打印训练分数与测试分数\n",
    "    print(train_score,test_score)"
   ]
  },
  {
   "cell_type": "code",
   "execution_count": 103,
   "id": "110c3ca5-75e6-41fa-b34b-576bc77fcb49",
   "metadata": {},
   "outputs": [],
   "source": [
    "#逻辑回归没有增加多样性的选项\n",
    "clf1 = LogiR(max_iter = 3000, C=0.1, random_state=1412,n_jobs=8)\n",
    "#增加特征多样性与样本多样性\n",
    "clf2 = RFC(n_estimators= 100,max_features=\"sqrt\",max_samples=0.9, random_state=1412,n_jobs=8)\n",
    "#特征多样性，稍微上调特征数量\n",
    "clf3 = GBC(n_estimators= 100,max_features=16,random_state=1412) \n",
    "\n",
    "#增加算法多样性，新增决策树与KNN\n",
    "clf4 = DTC(max_depth=8,random_state=1412)\n",
    "clf5 = KNNC(n_neighbors=10,n_jobs=8)\n",
    "clf6 = GaussianNB()\n",
    "\n",
    "#新增随机多样性，相同的算法更换随机数种子\n",
    "clf7 = RFC(n_estimators= 100,max_features=\"sqrt\",max_samples=0.9, random_state=4869,n_jobs=8)\n",
    "clf8 = GBC(n_estimators= 100,max_features=16,random_state=4869)\n",
    "\n",
    "estimators = [(\"Logistic Regression\",clf1), (\"RandomForest\", clf2)\n",
    "              , (\"GBDT\",clf3), (\"Decision Tree\", clf4), (\"KNN\",clf5) \n",
    "              #, (\"Bayes\",clf6)\n",
    "              #, (\"RandomForest2\", clf7), (\"GBDT2\", clf8)\n",
    "             ]"
   ]
  },
  {
   "cell_type": "code",
   "execution_count": 124,
   "id": "e6d29b57-a99d-45eb-bc3a-3a0ee8ed3401",
   "metadata": {},
   "outputs": [],
   "source": [
    "final_estimator = RFC(n_estimators= 100\n",
    "                      #, max_depth = 8\n",
    "                      , min_impurity_decrease=0.0025\n",
    "                      , random_state= 420, n_jobs=8)"
   ]
  },
  {
   "cell_type": "code",
   "execution_count": 136,
   "id": "e91eb2e9-f869-4f66-9149-97e956dd6784",
   "metadata": {},
   "outputs": [
    {
     "name": "stdout",
     "output_type": "stream",
     "text": [
      "0.9958275382475661 0.9694444444444444\n"
     ]
    }
   ],
   "source": [
    "#很明显，过拟合程度比Stacking要轻，但是测试集的表现没有stacking强\n",
    "BlendingClassifier(X,y,estimators,final_estimator)"
   ]
  },
  {
   "cell_type": "code",
   "execution_count": 130,
   "id": "a1ebce38-2670-42d0-820f-3cdc128e68ab",
   "metadata": {},
   "outputs": [
    {
     "name": "stdout",
     "output_type": "stream",
     "text": [
      "0.9833068362480127 0.9472222222222222\n"
     ]
    }
   ],
   "source": [
    "#验证比例越大，模型学习能力越弱 - 注意验证集比例上限0.8，因为有0.2是测试数据\n",
    "BlendingClassifier(X,y,estimators,final_estimator,vali_size=0.7)"
   ]
  },
  {
   "cell_type": "code",
   "execution_count": 138,
   "id": "4f19ed20-fe32-4542-b971-29d9f0d76752",
   "metadata": {},
   "outputs": [
    {
     "name": "stdout",
     "output_type": "stream",
     "text": [
      "1.0 0.9833333333333333\n"
     ]
    }
   ],
   "source": [
    "#相信大家可以感觉到，blending的运行速度比stacking快了不止一个档次……\n",
    "BlendingClassifier(X,y,estimators,final_estimator,vali_size=0.1)"
   ]
  },
  {
   "cell_type": "markdown",
   "id": "a0066100-6a83-4d15-90c2-816dd71c4644",
   "metadata": {},
   "source": [
    "||benchmark|投票法|Stacking|Blending|\n",
    "|:-:|:-:|:-:|:-:|:-:|\n",
    "|5折交叉验证|0.9666|0.9833|<font color=\"brown\">**0.9812(↓)**</font>|-|\n",
    "|测试集结果|0.9527|0.9889|<font color=\"green\">**0.9889(-)**</font>|<font color=\"brown\">**0.9833(↓)**</font>|"
   ]
  },
  {
   "cell_type": "markdown",
   "id": "b3f286e7-ddf7-47ca-88a2-e1d9ce1d22f4",
   "metadata": {},
   "source": [
    "从结果来看，投票法表现最稳定和优异，这与我们选择的数据集是较为简单的数据集有关，同时投票法也是我们调整最多、最到位的算法。在大型数据集上运行时，stacking和blending会展现出更多的优势。到这里我们的blending就讲解完毕了，在《2022机器学习实战》正式课程当中，我们将会更详细地讲解Blending在xgboost等复杂算法上的应用。"
   ]
  }
 ],
 "metadata": {
  "kernelspec": {
   "display_name": "Python 3 (ipykernel)",
   "language": "python",
   "name": "python3"
  },
  "language_info": {
   "codemirror_mode": {
    "name": "ipython",
    "version": 3
   },
   "file_extension": ".py",
   "mimetype": "text/x-python",
   "name": "python",
   "nbconvert_exporter": "python",
   "pygments_lexer": "ipython3",
   "version": "3.9.7"
  }
 },
 "nbformat": 4,
 "nbformat_minor": 5
}
